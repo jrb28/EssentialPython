{
 "cells": [
  {
   "cell_type": "markdown",
   "metadata": {},
   "source": [
    "# Assignment Guidelines\n",
    "\n",
    "- Please complete each exercise in the (one) code cell that is provided.  \n",
    "- Delete all extra cells you have inserted for development and debugging purposes before turning in this assignment.\n",
    "- Delete or comment out all print statements used for debugging.  Print statements that display the answers have already been coded into this notebook.\n",
    "- Execute your code so that the solutions are showing.  Then save your file before you turn in it.\n",
    "- All exercises are to be completed as directed with the Python methods indicated.  Importing <code>numpy</code>,  <code>pandas</code>, or other packages is not permitted: the goal of this assignment is to develop competency in base Python methods."
   ]
  },
  {
   "cell_type": "markdown",
   "metadata": {},
   "source": [
    "# Sources of Data for this Assignment\n",
    "\n",
    "## Weather Data\n",
    "\n",
    "This data was downloaded from the National Climatic Date Center (NCDC), which is part of the National Ocenaic and Atmosphere Administration (NOOA).  Getting similar data requires going to this web page:\n",
    "\n",
    "[NOOA/NCDC](https://www.ncdc.noaa.gov/cdo-web/datatools)\n",
    "\n",
    "and clicking on <code>Select a Location</code>\n",
    "\n",
    "Subsequently, I choose <code>Daily Summaries>Zip Code>23185</code>, for example to get data for Williamsburg.  More navigation and selection is required which is not documented here.\n",
    "\n",
    "## US Census Data\n",
    "\n",
    "This data comes from:\n",
    "\n",
    "[USCensus](api.census.gov)\n",
    "\n",
    "In particular, this code file was used to download and generate this data set: <code>files/dev_data.py</code>\n",
    "\n",
    "## Bluebikes Rentals of Boston\n",
    "\n",
    "This data set comes from bike rental in Boston, MA, whose website is:\n",
    "\n",
    "[https://www.bluebikes.com/system-data](https://www.bluebikes.com/system-data)\n",
    "\n",
    "This page describes the data fields and the data use license information can be found at:\n",
    "\n",
    "[https://www.bluebikes.com/data-license-agreement](https://www.bluebikes.com/data-license-agreement)\n",
    "\n",
    "Consistent with that agreement, monthly data files have been downloaded from\n",
    "\n",
    "[https://s3.amazonaws.com/hubway-data/index.html](https://s3.amazonaws.com/hubway-data/index.html)\n",
    "\n",
    "and combined to create these reasonably large data files at\n",
    "- https://jrbrad.people.wm.edu/data/ctba/bluebikes.csv\n",
    "- https://jrbrad.people.wm.edu/data/ctba/bluebikes_clean.csv\n",
    "\n",
    "\n",
    "## Mileage Between Cities\n",
    "\n",
    "This data set comes from https://www.mapcrow.info/united_states.html."
   ]
  },
  {
   "cell_type": "markdown",
   "metadata": {},
   "source": [
    "# Exercise 1: Fibonacci Series (<code>for</code> Loops)\n",
    "\n",
    "The Fibonacci Series is a sequence of integers, (1, 1, 2, 3, 5, 8, ...), where, after the first two elements, each element is the sum of the prior two elements.  Create a list called <code>fibSeries1</code> that contains the first 100 terms in this series.\n",
    "    \n",
    "__Reflect: why does a <code>for</code> make sense for this problem?__"
   ]
  },
  {
   "cell_type": "code",
   "execution_count": null,
   "metadata": {},
   "outputs": [],
   "source": [
    "''' Put your code here '''''\n",
    "\n",
    "''' Please leave the print statements below '''''\n",
    "print(len(fibSeries1))\n",
    "print(fibSeries1)"
   ]
  },
  {
   "cell_type": "markdown",
   "metadata": {},
   "source": [
    "# Exercise 2: Fibonacci Series (<code>while</code> Loops)\n",
    "\n",
    "Create a list called <code>fibSeries2</code> that contains all elements in this series that are less than 1000.\n",
    "    \n",
    "__Reflect: why does a <code>while</code> make sense for this problem?__"
   ]
  },
  {
   "cell_type": "code",
   "execution_count": null,
   "metadata": {},
   "outputs": [],
   "source": [
    "''' Put your code here '''''\n",
    "\n",
    "''' Please leave the print statements below '''''\n",
    "print(len(fibSeries2))\n",
    "print(fibSeries2)"
   ]
  },
  {
   "cell_type": "markdown",
   "metadata": {},
   "source": [
    "# Exercise 3: Filter Fibonacci\n",
    "\n",
    "Use list comprehension to filter out the elements in <code>fibseries1</code> from a problems above and assign to a variable named <code>fibSeries3</code> all elements in <code>fibSeries 1</code> that are a multiple of 3."
   ]
  },
  {
   "cell_type": "code",
   "execution_count": null,
   "metadata": {},
   "outputs": [],
   "source": [
    "''' Put your code here '''''\n",
    "\n",
    "''' Please leave the print statements below '''''\n",
    "print(len(fibSeries3))\n",
    "print(fibSeries3)"
   ]
  },
  {
   "cell_type": "markdown",
   "metadata": {},
   "source": [
    "# Exercise 4: Filter Fibonacci\n",
    "\n",
    "Use list comprehension to process the elements in <code>fibseries1</code> from a problem above and assign to a variable named <code>fibseries4</code> either the element value from <code>fibseries1</code> if it is a multiple of 3 or, otherwise, the string <code>'skip'</code>."
   ]
  },
  {
   "cell_type": "code",
   "execution_count": null,
   "metadata": {},
   "outputs": [],
   "source": [
    "''' Put your code here '''''\n",
    "\n",
    "''' Please leave the print statements below '''''\n",
    "print(len(fibSeries4))\n",
    "print(fibSeries4)"
   ]
  },
  {
   "cell_type": "markdown",
   "metadata": {},
   "source": [
    "# Exercise 5: Data Input\n",
    "\n",
    "Input the data file <code>files\\miles.csv</code> into a list of lists named <code>data</code>.  You may use <code>for</code> loops or list comprehension."
   ]
  },
  {
   "cell_type": "code",
   "execution_count": null,
   "metadata": {},
   "outputs": [],
   "source": [
    "''' Put your code here '''''\n",
    "\n",
    "''' Please leave the print statements below '''''\n",
    "print(len(data))\n",
    "print(data)"
   ]
  },
  {
   "cell_type": "markdown",
   "metadata": {},
   "source": [
    "# Exercise 6: U.S. Census Data (List Comprehension)\n",
    "\n",
    "The <code>files</code> folder contains census population data.  In particular, this file contains the data:\n",
    "\n",
    "<code>DECENNIALPL2020.P1_data_with_overlays_2021-11-05T143124.zip</code>\n",
    "\n",
    "which you will need to extract in order to create this file within the <code>files</code> folder:\n",
    "\n",
    "<code>DECENNIALPL2020.P1_data_with_overlays_2021-11-05T143124.csv</code>\n",
    "\n",
    "This next file contains information about the column/field headings, although it is a bit cryptic:\n",
    "\n",
    "<code>DECENNIALPL2020.P1_metadata_2021-11-05T143124.csv</code>\n",
    "\n",
    "The data in the first file contains population in \"census tracts\".  A tract is an area of land that is part of a county, which is part of a state, which is, obviously, part of the United States.  So, this data drills down into small pieces of land and documents the population of each.  There are many population fields in this data, including those based on race.  You are interested in the total population of the tracts.\n",
    "\n",
    "Your job is to create a list of the total population in the tracts by _list comprehension_.  The total tract population has a column name of <code>P1_001N</code> or, alternately <code>!!Total:</code>.  (There are essentially two lines with alternate field names.)  You should not include the data from the column/field headings in the list.\n",
    "\n",
    "Warning: this data file is formatted in such a way that makes it a bit tricky, but you will figure it out!"
   ]
  },
  {
   "cell_type": "code",
   "execution_count": null,
   "metadata": {},
   "outputs": [],
   "source": [
    "''' Put your code here '''\n",
    "\n",
    "''' Input the data '''\n",
    "    \n",
    "''' Create a list with list comprehension '''\n",
    "pop_list = \n",
    "\n",
    "''' Please do not revise the statements below '''\n",
    "print(len(pop_list))\n",
    "print(pop_list)"
   ]
  },
  {
   "cell_type": "markdown",
   "metadata": {},
   "source": [
    "# Exercise 7: Frequency Histogram\n",
    "\n",
    "Assume that you want to analyze the data from the exercise above by plotting a frequency histogram of it.  Create a frequency histogram dictionary that could be used to make such a graph.  The keys should be the unique tract population values from the list entitled <code>pop_list</code> and the values should be the number of times a particular population value occurs.\n",
    "\n",
    "Do this with a <code>for</code> loop.  You may refer to the variable <code>pop_list</code> from the code cell above without needing to recreate it: variables defined in one Jupyter cell are available to  code in other cells if the former cells have been executed.  Please use the name <code>fh_pop</code> for the dictionary."
   ]
  },
  {
   "cell_type": "code",
   "execution_count": null,
   "metadata": {},
   "outputs": [],
   "source": [
    "fh_pop = {}\n",
    "''' Put your code here '''\n",
    "\n",
    "\n",
    "''' Please do not revise the statements below '''\n",
    "print(len(fh_pop))\n",
    "print(fh_pop)"
   ]
  },
  {
   "cell_type": "markdown",
   "metadata": {},
   "source": [
    "# Exercise 8: Mileage Matrix Input\n",
    "\n",
    "These files contain data on the mileage between cities in the United States:\n",
    "- <code>files\\miles.csv</code>\n",
    "- <code>files\\cities.csv</code>\n",
    "\n",
    "The former file contains the mileage between each pair of cities and the latter file lists the cities, which can be thought of as the labels for both rows and columns.\n",
    "\n",
    "Create a dictionary named <code>dist</code> whose keys are the city names and the values for each are lists of the mileage from that city to the other cities in the order they appear in each row of <code>miles.csv</code>."
   ]
  },
  {
   "cell_type": "code",
   "execution_count": null,
   "metadata": {},
   "outputs": [],
   "source": [
    "''' Put your code here '''\n",
    "dist = {}\n",
    "\n",
    "''' Please do not revise the statements below '''\n",
    "print(len(dist))\n",
    "print(dist)"
   ]
  },
  {
   "cell_type": "markdown",
   "metadata": {},
   "source": [
    "# Exercise 9: Set Comprehension\n",
    "\n",
    "The following file contains data from a restaurant about the number of guests in parties that have visited the restaurant:\n",
    "\n",
    "<code>files/guests.json</code>\n",
    "\n",
    "Input the data using the <code>json</code> module and create a set, named <code>guest_set</code>, that contains the unique values for the number of guests in the parties reflected in the data."
   ]
  },
  {
   "cell_type": "code",
   "execution_count": null,
   "metadata": {},
   "outputs": [],
   "source": [
    "import json\n",
    "\n",
    "''' Input the data '''\n",
    "with open('files/guests.json') as f:\n",
    "    guests = json.load(f)\n",
    "    \n",
    "''' Put your code here '''\n",
    "guest_set = \n",
    "\n",
    "''' Please do not revise the print statements below '''\n",
    "print(len(guest_set))\n",
    "print(str(type(guest_set)))\n",
    "print(list(guest_set))"
   ]
  },
  {
   "cell_type": "markdown",
   "metadata": {},
   "source": [
    "# Exercise 10: Set Comprehension\n",
    "\n",
    "Input the data in the Boston Bluebikes database as described above.  Code has been provided in the cell below to access this fairly large data set from the Internet at: <code>https://jrbrad.people.wm.edu/data/ctba/bluebikes_clean.csv</code>   \n",
    "\n",
    "Using that data, create a set named <code>bike_stations</code> that contains all the unique station names found in the <code>\"start station name\"</code> data field.\n",
    "\n",
    "This data set is almost 1GB and, in my experience, can take a few minutes to access.  As is good practice in code development, you should use a smaller version of this file during code development so that you do not have to wait a long time to discover the next bug that needs fixing.  Toward that end, a smaller version of this file has also been provided, as well as code to access it, which is currently commented out.  Remove the comment syntax to use it.\n",
    "\n",
    "Please note that regardless of which data you use, the variable <code>data</code> is a generator."
   ]
  },
  {
   "cell_type": "code",
   "execution_count": null,
   "metadata": {},
   "outputs": [],
   "source": [
    "import requests\n",
    "\n",
    "''' Get the large data set from the Internet with the requests module '''\n",
    "''' This code creates a generator that presents the data from the file line by line '''\n",
    "\n",
    "url = 'https://jrbrad.people.wm.edu/data/ctba/bluebikes_clean.csv'\n",
    "response = requests.get(url)\n",
    "data = (line for line in response.text.split('\\r\\n'))\n",
    "    \n",
    "#print(f'Acquisition time: {time.time() - start} seconds')\n",
    "\n",
    "''' Input the small version of the data file '''\n",
    "#with open('files/bluebikes_small.csv', 'r') as f:\n",
    "#    data = f.readlines()\n",
    "#data = iter(data)\n",
    "\n",
    "''' Put your code here '''\n",
    "\n",
    "\n",
    "''' Please do not revise the print statements and other statements below '''\n",
    "bike_stations = list(bike_stations)\n",
    "bike_stations.sort()\n",
    "print(len(bike_stations))\n",
    "print(str(type(bike_stations)))\n",
    "print(bike_stations)"
   ]
  },
  {
   "cell_type": "markdown",
   "metadata": {},
   "source": [
    "# Exercise 11: More Bluebikes Analysis (Set Comprehension)\n",
    "\n",
    "Managers of the Bluebikes operation would be concerned with control of their assets, in particular, their bikes.  If a bicycle with a particular ID was not used for a sufficiently long period, then managers should consider the possibility that the bike is lost, stolen, or located someplace where potential users cannot find it.  To get a gauge on how many of its bicycles have been in circulation, an analyst could compute a set of bike IDs using set comprehension to determine which bikes were actively being used.  Subsequent comparison with a list of bike IDs that should be in the fleet would indicate which bikes were missing.\n",
    "\n",
    "Please note that the variable <code>data</code> is an iterator and so you can use the techniques we discussed in class to iterate through the stream of data it makes available.\n",
    "\n",
    "Create such a set of unique bike IDs with set comprehension, named <code>bike_id</code>.  Code has been provided to print out the number of bikes in that set and the data itself.  The bike IDs should be in an appropriate numerical data type."
   ]
  },
  {
   "cell_type": "code",
   "execution_count": null,
   "metadata": {},
   "outputs": [],
   "source": [
    "import requests\n",
    "\n",
    "''' Get the large data set from the Internet with the requests module. This initial code block '''\n",
    "'''   - Creates a generator that presents the data from the file line by line '''\n",
    "\n",
    "url = 'https://jrbrad.people.wm.edu/data/ctba/bluebikes_clean.csv'\n",
    "response = requests.get(url)\n",
    "data = (line for line in response.text.split('\\r\\n'))\n",
    "    \n",
    "''' Input the small version of the data file '''\n",
    "#with open('files/bluebikes_small.csv', 'r') as f:\n",
    "#    data = f.readlines()\n",
    "#data = iter(data)\n",
    "\n",
    "''' Put your code here '''\n",
    "\n",
    "\n",
    "''' Please do not revise the print statements below '''\n",
    "print(len(bike_id))\n",
    "print(str(type(bike_id)))\n",
    "print(list(bike_id))"
   ]
  },
  {
   "cell_type": "markdown",
   "metadata": {},
   "source": [
    "## Exercise 12: Still More Bluebikes (Dictionary Comprehension)\n",
    "\n",
    "Use the data in the Boston Bluebikes database again to create a dictionary by dictionary comprehension. The dictionary keys should come from the station names found in the <code>\"end station name\"</code> data field and the values should be a tuple containing the each station's latitude and longitude, in that order.  The latitude and longitude in the value tuple should be represented by an appropriate numerical data type.  The resulting dictionary should be named <code>station_gis</code>.\n",
    "\n",
    "Recall that I have provided a smaller subset of this data, via statements that are currently commented out, that you can use to more quickly develop your code."
   ]
  },
  {
   "cell_type": "code",
   "execution_count": null,
   "metadata": {},
   "outputs": [],
   "source": [
    "import requests\n",
    "\n",
    "''' Get the large data set from the Internet with the requests module '''\n",
    "''' This code creates a generator that presents the data from the file line by line '''\n",
    "\n",
    "url = 'https://jrbrad.people.wm.edu/data/ctba/bluebikes_clean.csv'\n",
    "response = requests.get(url)\n",
    "data = (line for line in response.text.split('\\r\\n'))\n",
    "    \n",
    "#print(f'Acquisition time: {time.time() - start} seconds')\n",
    "\n",
    "''' Input the small version of the data file '''\n",
    "#with open('files/bluebikes_small.csv', 'r') as f:\n",
    "#    data = f.readlines()\n",
    "#data = iter(data)\n",
    "\n",
    "''' Put your code here '''\n",
    "\n",
    "        \n",
    "''' Please do not revise the print statements below '''\n",
    "print(len(station_gis))    \n",
    "print(station_gis) "
   ]
  },
  {
   "cell_type": "markdown",
   "metadata": {},
   "source": [
    "# Exercise 13: Practice with the <code>enumerate</code>  Function\n",
    "\n",
    "This exercise repeats the previous exercise where you documented latitude and longitude of each Bluebike station using dictionary comprehension, except the data set is different.  The goal of this exercise is also a bit different because the data file referenced in the code below has not been sufficiently cleaned.  So, your goal here is to use the <code>enumerate()</code> function to do the following:\n",
    "\n",
    "- Determine the index of the line where a problem with the data first occurs\n",
    "- Print out the offending line, and perhaps other previous lines, to determine what the issue is\n",
    "\n",
    "Note that the <code>bluebikes.csv</code> is significantly larger than the data file you worked with previously.  As was done previously, a smaller, clean file is available here for you to input.\n",
    "\n",
    "Once you find the first line that causes an error, determine what is a good description of that error and create a string with a succinct string describing the problem in the variable <code>err_desc</code>.  If you wish, although it is not required, you may look for a second issue with the data by putting a conditional statement in your code that ignores the lines of data with the problem you first identified."
   ]
  },
  {
   "cell_type": "code",
   "execution_count": null,
   "metadata": {},
   "outputs": [],
   "source": [
    "import requests\n",
    "\n",
    "''' Get the large data set from the Internet with the requests module. This initial code block \n",
    "    creates a generator that can be used in a for loop.  That is, the variable data is an iterable. '''\n",
    "\n",
    "url = 'https://jrbrad.people.wm.edu/data/ctba/bluebikes.csv'\n",
    "response = requests.get(url)\n",
    "data = (line for line in response.text.split('\\r\\n'))\n",
    "\n",
    "#print(f'Acquisition time: {time.time() - start} seconds')\n",
    "\n",
    "''' Input the small version of the data file for testing and development purposes '''\n",
    "#with open('files/bluebikes_small_dirty.csv', 'r') as f:\n",
    "#    data = f.readlines()\n",
    "#data = iter(data)\n",
    "\n",
    "''' Put your code here '''\n",
    "\n",
    "        \n",
    "err_desc = ''\n",
    "''' Finish code above this line: Please do not revise the print statements below '''\n",
    "print(err_desc)\n",
    "print(len(station_gis2)) \n",
    "print(station_gis2) "
   ]
  },
  {
   "cell_type": "markdown",
   "metadata": {},
   "source": [
    "# Exercise 14: Weather Bragging Rights\n",
    "\n",
    "Professor Bradley has friends in Bath, Maine and he likes to remind them how warm the weather in Williamsburg is, particularly when Maine still has snow on the ground and low temperatures in the early part of spring when it is often warm here.  Professor Bradley has obtained two data sets with weather data from NOOA/NCDC:\n",
    "- files/BathME.csv\n",
    "- files/Wburg.csv\n",
    "\n",
    "He is particular interested in comparing the maximum temperatures on a daily basis, which have a column heading of <code>TMAX</code> in both data files from NOAA.  Note that each data set starts on 1/1/2020 and both have daily weather, but they may not have the same number of day's data.\n",
    "\n",
    "Do these tasks:\n",
    "- Input the two data sets into Python\n",
    "- Create lists or tuples with data from just the <code>TMAX</code> field from each data set\n",
    "- Use the <code>zip()</code> function to align the maximum temperatures in the two locations within a new data structure/variable\n",
    "- Use that data variable to print out these results, in this order:\n",
    "  - How many days are being compared?  Use the variable <code>num_comp</code> for this value.\n",
    "  - How many of those days does Williamsburg have a higher temperature than Bath, ME? Use the variable <code>wburg_high</code> for this value.\n",
    "  - Just print the numerical answers for the two items above: no text explaining what the data are is required.\n",
    "  \n",
    "Please note the data format presents a couple of (fun) minor hurdles in completing this exercise successfully."
   ]
  },
  {
   "cell_type": "code",
   "execution_count": null,
   "metadata": {},
   "outputs": [],
   "source": [
    "''' Put your code here '''\n",
    "\n",
    "num_comp = \n",
    "wburg_high = \n",
    "\n",
    "''' Please do not revise the statements below '''\n",
    "print(num_comp)\n",
    "print(wburg_high)"
   ]
  },
  {
   "cell_type": "markdown",
   "metadata": {},
   "source": [
    "# Exercise 15: Using the <code>*</code> Operator \n",
    "\n",
    "Append the two lists <code>list1</code> and <code>list2</code> using the <code>*</code> operator into a list named <code>list_tot</code>.  You may not use the list <code>.append()</code> method, the <code>+</code> operator, or any other function or operator besides the <code>*</code> operator."
   ]
  },
  {
   "cell_type": "code",
   "execution_count": null,
   "metadata": {},
   "outputs": [],
   "source": [
    "list1 = [7, 4, 9, 10, 6]\n",
    "list2 = [16, 16, 15, 18, 11]\n",
    "list_tot = \n",
    "\n",
    "print(len(list_tot))\n",
    "print(list_tot)"
   ]
  },
  {
   "cell_type": "markdown",
   "metadata": {},
   "source": [
    "# Exercise 16: <code>zip</code> Again \n",
    "\n",
    "Interpret the list <code>data</code> as a collection of <code>x</code> coordinates that are to be plotted in the form of a line.  Transform <code>data</code> into two separate lists, named <code>x</code> and <code>y</code> for the <code>x</code> series and the <code>y</code> data series, respectively.\n",
    "\n",
    "You must complete this task by finishing the statement on the secondline below by replacing the text, \"finish_statement_here\", with appropriate code.  You may use only that one line, without adding other lines, to make this code operational."
   ]
  },
  {
   "cell_type": "code",
   "execution_count": null,
   "metadata": {},
   "outputs": [],
   "source": [
    "data = [[0, 20], [1, 8], [2, 6], [3, 17], [4, 10], [5, 6], [6, 20], [7, 13], [8, 10], [9, 9]]\n",
    "x, y = finish_statement_here\n",
    "print((len(x), len(y)), '\\n', x, '\\n', y)"
   ]
  },
  {
   "cell_type": "markdown",
   "metadata": {},
   "source": [
    "# Exercise 17: Complete the Code \n",
    "\n",
    "Complete the function <code>fib_again</code>, which is intended to generate the first twelve terms of the Fibonacci Series, by placing a short piece of code in the fourth line of the function where the text \"insert_here\" appears.  That statement recretes the <code>fib</code> list in each iteration of the <code>for</code> loop.  Ask yourself what elements need to appear in the <code>fib</code> list before the value of the next term, whcih has already been coded for you."
   ]
  },
  {
   "cell_type": "code",
   "execution_count": null,
   "metadata": {},
   "outputs": [],
   "source": [
    "def fib_again():\n",
    "    fib = [1,1]\n",
    "    for _ in range(10):\n",
    "        fib = [insert_here, fib[-1]+fib[-2]]\n",
    "    return fib\n",
    "\n",
    "print(fib_again())"
   ]
  },
  {
   "cell_type": "code",
   "execution_count": null,
   "metadata": {},
   "outputs": [],
   "source": []
  }
 ],
 "metadata": {
  "kernelspec": {
   "display_name": "Python 3 (ipykernel)",
   "language": "python",
   "name": "python3"
  },
  "language_info": {
   "codemirror_mode": {
    "name": "ipython",
    "version": 3
   },
   "file_extension": ".py",
   "mimetype": "text/x-python",
   "name": "python",
   "nbconvert_exporter": "python",
   "pygments_lexer": "ipython3",
   "version": "3.7.13"
  }
 },
 "nbformat": 4,
 "nbformat_minor": 2
}
