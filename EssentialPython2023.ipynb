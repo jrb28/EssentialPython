{
 "cells": [
  {
   "cell_type": "markdown",
   "metadata": {},
   "source": [
    "# Goals of this Notebook\n",
    "\n",
    "To learn or recall:\n",
    "- Iteration through elements in data structures\n",
    "  - <code>for</code> loops\n",
    "  - <code>while</code> loops\n",
    "  - When each type of loop is best\n",
    "    - Accessing data in variables\n",
    "    - Altering data in variables\n",
    "    - Creating variables\n",
    "- Alternatives for creating variables that are collections of elements\n",
    "  - List comprehension\n",
    "  - Dictionary comprehension\n",
    "  - Set comprehension\n",
    "- Other general functions\n",
    "  - Ternary functions\n",
    "- Helpful function for <code>for</code> loops\n",
    "  - <code>enumerate()</code>\n",
    "- Other functions for handling variables that are collections of elements\n",
    "  - <code>zip()</code> Function\n",
    "  - <code>map()</code> Function\n",
    "  - <code>filter()</code> Function\n",
    "  \n",
    "While the <font face='courier'>numpy</font> and <font face='courier'>pandas</font> packages have utilities for inputting data into <code>arrays</code> and <code>DataFrames</code>, respectively, programmers need to often input data files with base Python statements, and so we will demonstrate how to do that.  This knowledge is also essential for understanding what <font face='courier'>numpy</font> and <font face='courier'>pandas</font> are doing under the covers. In addition, data input provides a good opportunity for gaining experience with <code>for</code> loops which you will use in virtually every program you write.   \n",
    "\n",
    "In addition, while the <font face='courier'>numpy</font> and <font face='courier'>pandas</font> packages ease data acquisition, they hide important details from you which are very important to know.  So, if you understand how to input data with base Python, then you will be in a better position to troubleshoot problems you might have with inputting data with <font face='courier'>numpy</font> and <font face='courier'>pandas</font>.\n",
    "\n",
    "  \n",
    "# Topics & Navigation <a name='navigation' />\n",
    "- <a href = #ItIt>Iteration and Iterables</a>\n",
    "- <a href = #data_for_loop>Text File Input with For Loops</a>\n",
    "- <a href = #OtherComp>Comprehension Methods</a>\n",
    "  - <a href = #ListComprehension>List Comprehension</a>\n",
    "  - <a href = #DictComp>Dictionary Comprehension</a>\n",
    "  - <a href = #SetComp>Set Comprehension</a>\n",
    "- <a href = #enumerate>For loops with <code>enumerate</code></a>\n",
    "- <a href = #zip_map_filter><code>zip()</code>, <code>map()</code>, and <code>filter()</code> Functions</a>\n",
    "  - <a href = #asterisk_op><code>*</code> Operator</a>\n",
    "  - <a href = #zip><code>zip()</code> Function</a>\n",
    "  - <a href = #map><code>map()</code> Function</a>\n",
    "  - <a href = #filter><code>filter()</code> Function</a>\n",
    "  - <a href = #apps_zip_map_filter>Applications of <code>zip()</code>, <code>map()</code>, and <code>filter()</code></a>\n",
    "- <a href = #aliasing>Aliasing</a>\n",
    "- <a href = #RefVal>Passing References and Values</a>\n",
    "- <a href = #Ternary> If-Else (Ternary) Statement</a>\n"
   ]
  },
  {
   "cell_type": "markdown",
   "metadata": {},
   "source": [
    "# Iteration and Iterables<a name='ItIt' />\n",
    "Back to <a href = '#navigation'>Navigation</a>\n",
    "\n",
    "## _Iterables_   <a name='Iterables' />\n",
    "\n",
    "We are familiar with <code>for</code> loops, which provide a basis for an effective functional definition of an _iterable_ data type, which is a data type that:\n",
    "\n",
    "- can contain 0, 1, or many elements\n",
    "- can be used with a <code>for</code> statement so that each element of the _iterable_ data type is made available in the iterations of the <code>for</code> loop\n",
    "\n",
    "<code>for x in _put-iterable-here_:\n",
    "    ...</code>\n",
    "    \n",
    "These are well-known basic Python _iterable_ data types:\n",
    "\n",
    "- list\n",
    "- range()\n",
    "- tuple\n",
    "- dictionary\n",
    "- set\n",
    "- string\n",
    "\n",
    "The term _iterable_ is often used as a noun, as a short form of '_iterable_ data type'.\n",
    "\n",
    "The cells below illustrate how these data types are iterable in <code>for</code> loops.\n",
    "\n",
    "We will later show other data types that are iterable and, therefore, can be included in <code>for</code> loops and in list comprehension statements.\n",
    "\n",
    "Computers are powerful because they can iterate through large data sets and make computations. Iterable data and loops are the programming components that enable that capability."
   ]
  },
  {
   "cell_type": "markdown",
   "metadata": {},
   "source": [
    "### Looping by element"
   ]
  },
  {
   "cell_type": "code",
   "execution_count": null,
   "metadata": {},
   "outputs": [],
   "source": [
    "my_list = [0, 1, 2]\n",
    "my_range = range(3)\n",
    "my_tup = (0, 1, 2)\n",
    "my_dct = {0:'zero', 1:'one', 2:'two'}\n",
    "my_set = {0, 1, 2}\n",
    "my_str = 'hello'"
   ]
  },
  {
   "cell_type": "code",
   "execution_count": null,
   "metadata": {},
   "outputs": [],
   "source": [
    "for e in my_list:\n",
    "    print(e)"
   ]
  },
  {
   "cell_type": "code",
   "execution_count": null,
   "metadata": {},
   "outputs": [],
   "source": [
    "for e in my_range:\n",
    "    print(e)"
   ]
  },
  {
   "cell_type": "code",
   "execution_count": null,
   "metadata": {},
   "outputs": [],
   "source": [
    "for e in my_tup:\n",
    "    print(e)"
   ]
  },
  {
   "cell_type": "code",
   "execution_count": null,
   "metadata": {},
   "outputs": [],
   "source": [
    "for e in my_dct.items():\n",
    "    print(e)"
   ]
  },
  {
   "cell_type": "code",
   "execution_count": null,
   "metadata": {},
   "outputs": [],
   "source": [
    "for e in my_set:\n",
    "    print(e)"
   ]
  },
  {
   "cell_type": "code",
   "execution_count": null,
   "metadata": {},
   "outputs": [],
   "source": [
    "for e in my_str:\n",
    "    print(e)"
   ]
  },
  {
   "cell_type": "markdown",
   "metadata": {},
   "source": [
    "### Looping by index"
   ]
  },
  {
   "cell_type": "code",
   "execution_count": null,
   "metadata": {},
   "outputs": [],
   "source": [
    "for i in range(len(my_list)):\n",
    "    print(my_list[i])"
   ]
  },
  {
   "cell_type": "markdown",
   "metadata": {},
   "source": [
    "Looping by index is required when the variable elements are being changed."
   ]
  },
  {
   "cell_type": "code",
   "execution_count": null,
   "metadata": {},
   "outputs": [],
   "source": [
    "this_list = ['1','2','3','4','5']"
   ]
  },
  {
   "cell_type": "code",
   "execution_count": null,
   "metadata": {},
   "outputs": [],
   "source": [
    "for element in this_list:\n",
    "    element = int(element)\n",
    "this_list"
   ]
  },
  {
   "cell_type": "code",
   "execution_count": null,
   "metadata": {},
   "outputs": [],
   "source": [
    "for i in range(len(this_list)):\n",
    "    this_list[i] = int(this_list[i])\n",
    "this_list"
   ]
  },
  {
   "cell_type": "markdown",
   "metadata": {},
   "source": [
    "##  Dictionaries <a name = \"dictionaries\" />\n",
    "Back to <a href = '#navigation'>Navigation</a>\n",
    "\n",
    "Dictionaries:\n",
    "- Are indicated by curly braces each of its elements, which are separated by commas, have two components separated by a colon\n",
    "- Dictionary element _keys_ are indicated before the colon\n",
    "- Dictionary element _values_ are indicated after the colon\n",
    "- Each key is unique: only one dictionary may have any particular key\n",
    "- We often think of a dictionary key as a way to look up a dictionary value\n",
    "\n",
    "You can simply use a key to look up a dictionary value or change the value."
   ]
  },
  {
   "cell_type": "code",
   "execution_count": null,
   "metadata": {},
   "outputs": [],
   "source": [
    "# Example dictionary\n",
    "myDiction = {0:'cero', 1:'uno', 2:'sod', 3:'tres'}"
   ]
  },
  {
   "cell_type": "markdown",
   "metadata": {},
   "source": [
    "Referring to a dictionary element by _key_"
   ]
  },
  {
   "cell_type": "code",
   "execution_count": null,
   "metadata": {},
   "outputs": [],
   "source": [
    "print(myDiction[2])"
   ]
  },
  {
   "cell_type": "markdown",
   "metadata": {},
   "source": [
    "Creating or changing a dictionary value associated with a key by placing the reference to the dictionary element on the left dise of an assignment statement"
   ]
  },
  {
   "cell_type": "code",
   "execution_count": null,
   "metadata": {},
   "outputs": [],
   "source": [
    "myDiction[2] = 'dos'\n",
    "print(myDiction)"
   ]
  },
  {
   "cell_type": "code",
   "execution_count": null,
   "metadata": {},
   "outputs": [],
   "source": [
    "myDiction[4] = 'quatro'"
   ]
  },
  {
   "cell_type": "markdown",
   "metadata": {},
   "source": [
    "## Looping through Dictionaries\n",
    "\n",
    "We can iterate through dictionaries in three modes:\n",
    "- By keys\n",
    "- By values\n",
    "- By keys and values\n",
    "\n",
    "Dictionaries are by default _iterated_ through by key, which means that we access all of the uniques in one manner or another.  Two of the ways are illustrated below, the first of which shows that when we simply put the dictionary name in a for statement, we iterate through teh keys by default.  We can also explicitly use the <font face = 'courier'>.keys()</font> property of dictionaries to remind ourselves that we are iterating through the keys: this is the second approach below."
   ]
  },
  {
   "cell_type": "code",
   "execution_count": null,
   "metadata": {},
   "outputs": [],
   "source": [
    "for key in myDiction:\n",
    "    print(key)"
   ]
  },
  {
   "cell_type": "code",
   "execution_count": null,
   "metadata": {},
   "outputs": [],
   "source": [
    "for k in myDiction.keys():\n",
    "    print(k)"
   ]
  },
  {
   "cell_type": "code",
   "execution_count": null,
   "metadata": {},
   "outputs": [],
   "source": [
    "for v in myDiction.values():\n",
    "    print(v)"
   ]
  },
  {
   "cell_type": "markdown",
   "metadata": {},
   "source": [
    "A frequently-used method of looping explicitly through both the keys and values in a dictionary is as follows using the <font face = 'courier'>.items()</font> method of dictionaries.  When two dummy variables are used in the for statement each key and value pair are _unpacked_ into the two variables."
   ]
  },
  {
   "cell_type": "code",
   "execution_count": null,
   "metadata": {},
   "outputs": [],
   "source": [
    "for key,value in myDiction.items():\n",
    "    print(key,value)"
   ]
  },
  {
   "cell_type": "markdown",
   "metadata": {},
   "source": [
    "Or, you can use this more succinct code.  As you get more experience it will be obvious that you are dealing with a dictionary and <font face='courier'>k</font> is the key and <font face='courier'>v</font> is the value."
   ]
  },
  {
   "cell_type": "code",
   "execution_count": null,
   "metadata": {},
   "outputs": [],
   "source": [
    "for k,v in myDiction.items():\n",
    "    print(k,v)"
   ]
  },
  {
   "cell_type": "markdown",
   "metadata": {},
   "source": [
    "# Data Input with For Loops <a name='data_for_loop' />\n",
    "Back to <a href = '#navigation'>Navigation</a>\n",
    "\n",
    "## Full Disclosure\n",
    "\n",
    "As discussed previously, there exist easier ways to read data files into Python with <font face='courier'>numpy</font> and <font face='courier'>pandas</font> than using <code>for</code> loops, as shown below.\n",
    "\n",
    "It is best in many circumstances, however, to input data with base Python commands and avoiding learning this technique will be to your detriment later on.  Besides inputting data and learning basic Python text cleansing at the same time, competence with <code>for</code> loops is important basis for learning:\n",
    "- List comprehension\n",
    "- Dictionary and set comprehension\n",
    "- Generators and iterators"
   ]
  },
  {
   "cell_type": "code",
   "execution_count": null,
   "metadata": {},
   "outputs": [],
   "source": [
    "import numpy as np\n",
    "import pandas as pd"
   ]
  },
  {
   "cell_type": "code",
   "execution_count": null,
   "metadata": {},
   "outputs": [],
   "source": [
    "np_nw1999 = np.genfromtxt('files/NorfolkWeather1999.csv', delimiter = ',')\n",
    "np_nw1999[:5]"
   ]
  },
  {
   "cell_type": "code",
   "execution_count": null,
   "metadata": {},
   "outputs": [],
   "source": [
    "df_nw2018 = pd.read_csv('files/NorfolkWeather2018.csv', names = ['index', 'temp'], index_col = 'index')\n",
    "df_nw2018[:5]"
   ]
  },
  {
   "cell_type": "markdown",
   "metadata": {},
   "source": [
    "# Handling Data with Basic Python\n"
   ]
  },
  {
   "cell_type": "markdown",
   "metadata": {},
   "source": [
    "This first statement imports <font face = 'courier'>matplotlib</font>.  "
   ]
  },
  {
   "cell_type": "code",
   "execution_count": null,
   "metadata": {},
   "outputs": [],
   "source": [
    "import matplotlib.pyplot as plt "
   ]
  },
  {
   "cell_type": "markdown",
   "metadata": {},
   "source": [
    "## 1D Data\n",
    "\n",
    "\n",
    "* In a nutshell\n",
    "  * 1-dimensional time series data\n",
    "  * Inputting data from text file\n",
    "  * Computing moving average\n",
    "\n",
    "_Time series data_ are data that are collected over time at constant intervals.  Examples include, daily or hourly weather data, daily sales of an item or all company sales in total (either in units or dollar volume), number of daily visits to a web site, and annual gross domestic product.\n",
    "\n",
    "One issue that arises with time series data is to summarize the pattern over time despite there being frequent highs and lows (noise) and highs and lows over longer periods (either economic cycles or seasonal effects).  The _moving average_ is frequently used to summarize the trend that is muddied by noise over the short-term.\n",
    "\n",
    "We will work with inputting two 1D time series from two text files.\n",
    "- <code>NorfolkWeather1999_1.csv</code>\n",
    "- <code>NorfolkWeather2008_1.csv</code>\n",
    "\n",
    "Note that data read from text files is always interpreted as string data.  It must be converted to numerical quantitites for plotting. "
   ]
  },
  {
   "cell_type": "code",
   "execution_count": null,
   "metadata": {},
   "outputs": [],
   "source": [
    "f = open('files/NorfolkWeather1999_1.csv','r')\n",
    "nw1999 = f.readlines()\n",
    "f.close()\n",
    "\n",
    "for i in range(len(nw1999)):\n",
    "    nw1999[i] = float(nw1999[i])\n",
    "\n",
    "x = range(len(nw1999))\n",
    "plt.plot(x, nw1999, label = '1999')\n",
    "plt.show()"
   ]
  },
  {
   "cell_type": "markdown",
   "metadata": {},
   "source": [
    "Note the improved method of opening files for input below.  No <code>f.close()</code> statement is needed as the file is implicitly closed after completion of the code within the <code>with</code> block.  This approach is less prone to errors.  The same method can be used also when writing to files."
   ]
  },
  {
   "cell_type": "code",
   "execution_count": null,
   "metadata": {},
   "outputs": [],
   "source": [
    "with open('files/NorfolkWeather1999_1.csv','r') as f:\n",
    "    nw1999 = f.readlines()\n",
    "\n",
    "for i in range(len(nw1999)):\n",
    "    nw1999[i] = float(nw1999[i])\n",
    "\n",
    "x = range(len(nw1999))\n",
    "plt.plot(x, nw1999, label = '1999')\n",
    "plt.show()"
   ]
  },
  {
   "cell_type": "markdown",
   "metadata": {},
   "source": [
    "We can iterate through copies of values with a <code>for</code> loop in this situation as well as long as we accumulate the data in another variable with <code>.append</code>."
   ]
  },
  {
   "cell_type": "code",
   "execution_count": null,
   "metadata": {},
   "outputs": [],
   "source": [
    "with open('files/NorfolkWeather1999_1.csv','r') as f:\n",
    "    data = f.readlines()\n",
    "\n",
    "nw1999 = []\n",
    "for t in data:\n",
    "    nw1999.append(float(t))\n",
    "\n",
    "x = range(len(nw1999))\n",
    "plt.plot(x, nw1999, label = '1999')\n",
    "plt.show()"
   ]
  },
  {
   "cell_type": "markdown",
   "metadata": {},
   "source": [
    "## A 1D Data Application: The Moving Average\n",
    "\n",
    "Let our time series data be collected for time indices $d \\in \\left\\lbrace 0, ... , D-1 \\right\\rbrace$, where $d$ stands for the index for a given day. We will be considering daily time series for a year, so $D=365$.  A moving average, $ma_n(d)$ of $n$ days for day $d$ is defined as:\n",
    "\n",
    "$ma_n(d) = \\frac{1}{n} \\Sigma_{i = d-n+1}^d t(i)$\n",
    "\n",
    "where $t(d)$ is the average temperature for day $d$.  Note that $ma(d)$ is defined only for day in this range: $d \\in \\left\\lbrace n-1, \\ldots ,    D-1 \\right\\rbrace$.\n",
    "\n",
    "*Click on the image below* to see a visualization of how a moving average is computed in a way that may be more clear than the math above.\n",
    "\n",
    "[![Moving Average Animation](https://img.youtube.com/vi/rq__3P_rs4M/0.jpg)](https://www.youtube.com/watch?v=rq__3P_rs4M)\n",
    "\n",
    "The files <font face = 'courier'>NorfolkWeather1999_1.csv</font> and <font face = 'courier'>NorfolkWeather2018_1.csv</font>  have the daily average temperatures for the years indicated in the filenames.  Load each of these text files into a list (load only the daily average temperature and not the row index), and then create new lists, <font face = 'courier'>ma1999</font> and <font face = 'courier'>ma2018</font>, that are 10-day moving averages of the original data.\n",
    "\n",
    "Although we are not focusing on plotting in this session, we will compare the two moving average series using the <font face = 'courier'>matplotlib</font> package.\n",
    "\n",
    "Let's compute and plot the moving averages of the two data series using <font face = 'courier'>for</font> loops and compare the two results."
   ]
  },
  {
   "cell_type": "markdown",
   "metadata": {},
   "source": [
    "Read in the 2018 data."
   ]
  },
  {
   "cell_type": "code",
   "execution_count": null,
   "metadata": {},
   "outputs": [],
   "source": [
    "with open('files/NorfolkWeather2018_1.csv','r') as f:\n",
    "    nw2018 = f.readlines()\n",
    "\n",
    "for i in range(len(nw1999)):\n",
    "    nw2018[i] = float(nw2018[i])\n",
    "\n",
    "x = range(len(nw2018))\n",
    "plt.plot(x, nw2018, label = '2018')\n",
    "plt.show()"
   ]
  },
  {
   "cell_type": "code",
   "execution_count": null,
   "metadata": {},
   "outputs": [],
   "source": [
    "''' period: \n",
    "      * a variable representing the number of periods that are averaged together to create\n",
    "        the moving average \n",
    "      * Given the zero-based indexing of Python, the first moving average can be computed\n",
    "        in Period period - 1 '''\n",
    "period = 10\n",
    "\n",
    "ma1999 = []  # Initialize moving average list for 1999\n",
    "ma2018 = []  # Initialize moving average list for 2018\n",
    "\n",
    "for i in range(0, len(nw1999) - period + 1):\n",
    "    ma1999.append(sum(nw1999[i:i + period])/period)\n",
    "    ma2018.append(sum(nw2018[i:i + period])/period)\n",
    "\n",
    "plt.plot(ma1999, label = '1999')\n",
    "plt.plot(ma2018, label = '2018')\n",
    "plt.legend()\n",
    "\n",
    "plt.show()"
   ]
  },
  {
   "cell_type": "code",
   "execution_count": null,
   "metadata": {},
   "outputs": [],
   "source": [
    "plt.plot(ma1999, label = '1999 Avg.')\n",
    "plt.plot(nw1999, label = '1999 Temps')\n",
    "plt.legend()\n",
    "\n",
    "plt.show()"
   ]
  },
  {
   "cell_type": "markdown",
   "metadata": {},
   "source": [
    "## 2D Data Input\n",
    "\n",
    "These files have two data elements per line, an integer index and a temperature, separated by commas.\n",
    "\n",
    "- <code>NorfolkWeather1999.csv</code>\n",
    "- <code>NorfolkWeather2008.csv</code>\n",
    "\n",
    "We'll need to take extra care to split the elements of each line at the commas before we convert the data to numerical values.  __Please note that we do not split the data when there exists only one element per row, but we do need split row elements apart when multiple are in each row of data.__"
   ]
  },
  {
   "cell_type": "code",
   "execution_count": null,
   "metadata": {},
   "outputs": [],
   "source": [
    "with open('files/NorfolkWeather1999.csv','r') as f:\n",
    "    nw1999 = f.readlines()\n",
    "\n",
    "x = []\n",
    "y1999 = []\n",
    "\n",
    "for i in range(len(nw1999)):\n",
    "    nw1999[i] = nw1999[i].strip()\n",
    "    nw1999[i] = nw1999[i].split(',')\n",
    "    x.append(int(nw1999[i][0]))\n",
    "    y1999.append(float(nw1999[i][1]))\n",
    "\n",
    "plt.plot(x, y1999, label = '1999')\n",
    "plt.show()"
   ]
  },
  {
   "cell_type": "markdown",
   "metadata": {},
   "source": [
    "Now, input the 2018 data."
   ]
  },
  {
   "cell_type": "code",
   "execution_count": null,
   "metadata": {},
   "outputs": [],
   "source": [
    "with open('files/NorfolkWeather2018.csv','r') as f:\n",
    "    nw2018 = f.readlines()\n",
    "\n",
    "y2018 = []\n",
    "\n",
    "for i in range(len(nw2018)):\n",
    "    nw2018[i] = nw2018[i].strip()\n",
    "    nw2018[i] = nw2018[i].split(',')\n",
    "    y2018.append(float(nw2018[i][1]))\n",
    "\n",
    "\"\"\" Plot both data series \"\"\"\n",
    "plt.plot(x, y1999, label = '1999')\n",
    "plt.plot(x, y2018, label = '2018')\n",
    "plt.legend()\n",
    "plt.show()"
   ]
  },
  {
   "cell_type": "markdown",
   "metadata": {},
   "source": [
    "## An Improvement: Chaining Commands\n",
    "\n",
    "Commands can be chained done whenever a command returns the data that is being manipulated, which sometimes is not case.  When an executed statement does not return the the data, then we say the operation is being executed _in place_.  \n",
    "\n",
    "Using <code>sort()</code> with a list is an _in place_ operation: it sorts the list for next time we access it, but it does not return the sortedlist so that we cannot use the <code>.sort()</code> method in an assignment statement to change the value of another variable.\n",
    "\n",
    "Using <font style=\"font-family:'courier'\">.strip()</font> and <font style=\"font-family:'courier'\">.split()</font> do return the revised data, as shown below, so they are not _in place_ operations."
   ]
  },
  {
   "cell_type": "code",
   "execution_count": null,
   "metadata": {},
   "outputs": [],
   "source": [
    "with open('files/NorfolkWeather1999.csv','r') as f:\n",
    "    nw1999 = f.readlines()\n",
    "\n",
    "x, y1999 = [], []\n",
    "\n",
    "for i in range(len(nw1999)):\n",
    "    nw1999[i] = nw1999[i].strip().split(',')\n",
    "    #nw1999[i] = nw1999[i].split(',')\n",
    "    x.append(int(nw1999[i][0]))\n",
    "    y1999.append(float(nw1999[i][1]))\n",
    "\n",
    "plt.plot(x, y1999, label = '1999')\n",
    "plt.show()"
   ]
  },
  {
   "cell_type": "markdown",
   "metadata": {},
   "source": [
    "## Another Improvement: A More General Function\n",
    "\n",
    "The two code blocks could be combined and the repetitive cleansing steps can be put into a function to clean up the code.  The function name <code>ssc()</code> is an acronym for strip, split, and convert."
   ]
  },
  {
   "cell_type": "code",
   "execution_count": null,
   "metadata": {},
   "outputs": [],
   "source": [
    "def ssc(data):\n",
    "    x = []\n",
    "    y = []\n",
    "    for i in range(len(data)):\n",
    "        data[i] = data[i].strip().split(',')\n",
    "        x.append(int(data[i][0]))\n",
    "        y.append(float(data[i][1]))\n",
    "    return x, y\n",
    "    \n",
    "with open('files/NorfolkWeather1999.csv','r') as f:\n",
    "    nw1999 = f.readlines()\n",
    "\n",
    "with open('files/NorfolkWeather2018.csv','r') as f:\n",
    "    nw2018 = f.readlines()\n",
    "\n",
    "x, y1999 = ssc(nw1999)\n",
    "x, y2018 = ssc(nw2018)\n",
    "plt.plot(x, y1999, label = '1999')\n",
    "plt.plot(x, y2018, label = '2018')\n",
    "plt.legend()\n",
    "plt.show()"
   ]
  },
  {
   "cell_type": "markdown",
   "metadata": {},
   "source": [
    "## Generalized 2D Input\n",
    "\n",
    "Rows of data most often will have more than two elements in which case it makes sense to loop through the row elements with a <code>for</code> loop rather than converting the row elements explicitly, as we have done previously.\n",
    "\n",
    "This approach is not flexible, however, and we would need to write a new function each time we wanted to convert data in an input file depending on how many fields were in the data and what types we wanted to convert them to.  The conversion function can be made more flexible by supplying it with the data for conversion in the form of a dictionary with its keys equal to the column indices and its values indicating the data types."
   ]
  },
  {
   "cell_type": "code",
   "execution_count": null,
   "metadata": {},
   "outputs": [],
   "source": [
    "def ssc_2d_map(convert, data):\n",
    "    for i in range(len(data)):\n",
    "        data[i] = data[i].strip().split(',')\n",
    "        for j, mk_type in convert.items():\n",
    "            data[i][j] = mk_type(data[i][j])\n",
    "    return data"
   ]
  },
  {
   "cell_type": "code",
   "execution_count": null,
   "metadata": {},
   "outputs": [],
   "source": [
    "with open('files/NorfolkWeather1999.csv','r') as f:\n",
    "    nw1999 = f.readlines()\n",
    "\n",
    "''' convert_map dictionary: key = filed index; value = data type'''\n",
    "convert_map = {0:int, 1:float}\n",
    "nw1999 = ssc_2d_map(convert_map, nw1999)\n",
    "\n",
    "''' Create x and y series data '''\n",
    "x = []\n",
    "y1999 = []\n",
    "for point in nw1999:\n",
    "    x.append(point[0])\n",
    "    y1999.append(point[1])\n",
    "    \n",
    "plt.plot(x, y1999, label = '1999')\n",
    "plt.show()"
   ]
  },
  {
   "cell_type": "markdown",
   "metadata": {},
   "source": [
    "We can simplify one of the functions above as follows.  This is possible because some Python data types are altered _in place_ in functions so that we do not need to return them.  For people with CS backgrounds this is the difference of passing variables to function by reference versus by value.  We will discuss this concept (and when you can use it) later in the lecture."
   ]
  },
  {
   "cell_type": "code",
   "execution_count": null,
   "metadata": {},
   "outputs": [],
   "source": [
    "def ssc_2d_map_1(convert, data):\n",
    "    for i in range(len(data)):\n",
    "        data[i] = data[i].strip().split(',')\n",
    "        for j, mk_type in convert.items():\n",
    "            data[i][j] = mk_type(data[i][j])\n",
    "    #return data"
   ]
  },
  {
   "cell_type": "code",
   "execution_count": null,
   "metadata": {},
   "outputs": [],
   "source": [
    "with open('files/NorfolkWeather1999.csv','r') as f:\n",
    "    data = f.readlines()\n",
    "\n",
    "convert_map = {0:int, 1:float}\n",
    "print(data)\n",
    "#data = ssc3(data)\n",
    "ssc_2d_map_1(convert_map, data)\n",
    "        \n",
    "print(data)"
   ]
  },
  {
   "cell_type": "markdown",
   "metadata": {},
   "source": [
    "## 2D Input Exercise\n",
    "\n",
    "In this case we will read in a matrix or array of values from the file <code>matrix.csv</code>.  Create a list of lists where each sublist contains the elements from each row of the data file."
   ]
  },
  {
   "cell_type": "code",
   "execution_count": null,
   "metadata": {},
   "outputs": [],
   "source": [
    "with open('files/matrix.csv', 'r') as f:\n",
    "    data = f.readlines()\n",
    "\n",
    "''' Let us finish the code here '''\n",
    "data"
   ]
  },
  {
   "cell_type": "code",
   "execution_count": null,
   "metadata": {},
   "outputs": [],
   "source": [
    "a = [[0,1,2,3],[4,5,6,7], [8,9,10,11], [12,13,14,15]]"
   ]
  },
  {
   "cell_type": "code",
   "execution_count": null,
   "metadata": {},
   "outputs": [],
   "source": [
    "rows = 8\n",
    "cols = 2\n",
    "\n",
    "# Flatten the list of lists: 1 by 16\n",
    "temp = []\n",
    "for row in a:\n",
    "    for ele in row:\n",
    "        temp.append(ele)\n",
    "print(temp)\n",
    "\n",
    "b = []\n",
    "for r in range(rows):\n",
    "    newRow = []\n",
    "    for c in range(cols):\n",
    "        newRow.append(temp[r*cols + c])\n",
    "    b.append(newRow)\n",
    "print(b)"
   ]
  },
  {
   "cell_type": "markdown",
   "metadata": {},
   "source": [
    "# From Loops to List Comprehesion <a name='ListComprehension' />\n",
    "Back to <a href = '#navigation'>Navigation</a>\n",
    "\n",
    "List comprehension is a technique for condensing the number of statements required to create a new list using for loops.  \n",
    "\n",
    "- More succinct code\n",
    "- More readable code\n",
    "- Faster than <code>for</code> loops\n",
    "\n",
    "The cells immediately below demonstrate the simplest form of list comprehension."
   ]
  },
  {
   "cell_type": "code",
   "execution_count": null,
   "metadata": {},
   "outputs": [],
   "source": [
    "import random\n",
    "numElements = 10\n",
    "newList = []\n",
    "\n",
    "for i in range(numElements):\n",
    "    newList.append(random.random())\n",
    "newList"
   ]
  },
  {
   "cell_type": "markdown",
   "metadata": {},
   "source": [
    "The method for converting a <code>for</code> loop into a list comprehension state is illustrated below.\n",
    "\n",
    "![List Comprehension Structure](images/listComprehension1.jpg)\n",
    "![List Comprehension Example](images/listComprehension.jpg)"
   ]
  },
  {
   "cell_type": "code",
   "execution_count": null,
   "metadata": {},
   "outputs": [],
   "source": [
    "import random\n",
    "numElements = 10\n",
    "\n",
    "newList1 = [random.random() for i in range(numElements)]\n",
    "newList1"
   ]
  },
  {
   "cell_type": "markdown",
   "metadata": {},
   "source": [
    "Logic can be applied within list comprehension statements to filter the elements appended to the list."
   ]
  },
  {
   "cell_type": "code",
   "execution_count": null,
   "metadata": {},
   "outputs": [],
   "source": [
    "newList2 = []\n",
    "\n",
    "for i in range(21):\n",
    "    if i % 2 ==0:\n",
    "        newList2.append(i)\n",
    "newList2"
   ]
  },
  {
   "cell_type": "markdown",
   "metadata": {},
   "source": [
    "\n",
    "\n",
    "![List Comprehension Structure w/Logic](images/listComprehension2.jpg)\n",
    "\n",
    "For example, we could use the following code if we wanted to create a list of even numbers through 20."
   ]
  },
  {
   "cell_type": "code",
   "execution_count": null,
   "metadata": {},
   "outputs": [],
   "source": [
    "newList3 = [i for i in range(21) if i%2 == 0]\n",
    "newList3"
   ]
  },
  {
   "cell_type": "markdown",
   "metadata": {},
   "source": [
    "Compound Boolean filtering logic can be used as well."
   ]
  },
  {
   "cell_type": "code",
   "execution_count": null,
   "metadata": {},
   "outputs": [],
   "source": [
    "newList4 = [i for i in range(21) if i%2 == 0 and i>7]\n",
    "newList4"
   ]
  },
  {
   "cell_type": "markdown",
   "metadata": {},
   "source": [
    "More complex <code>if-elif-else</code> logic can be implemented, although having multiple levels can make the statement difficult to read.\n",
    "\n",
    "Notice that the location of the Boolean statement changes when the <code>else</code> is introduced."
   ]
  },
  {
   "cell_type": "code",
   "execution_count": null,
   "metadata": {},
   "outputs": [],
   "source": [
    "newList5 = []\n",
    "for i in range(21):\n",
    "    if i % 2 == 0:\n",
    "        newList5.append(i)\n",
    "    else:\n",
    "        newList5.append('')\n",
    "\n",
    "newList5"
   ]
  },
  {
   "cell_type": "markdown",
   "metadata": {},
   "source": [
    "\n",
    "![List Comprehension Structure w/If-Else](images/list_comp_if_else.jpg)\n"
   ]
  },
  {
   "cell_type": "code",
   "execution_count": null,
   "metadata": {},
   "outputs": [],
   "source": [
    "newList5 = [i if i % 2 == 0 else '' for i in range(21)]\n",
    "newList5"
   ]
  },
  {
   "cell_type": "markdown",
   "metadata": {},
   "source": [
    "Keeping the <code>if</code> list comprehension statement syntax straight with the <code>if-else</code> syntax can be difficult.  The reason the <code>if</code> and the else go together are that, together, they form a coherent Python statement, which is called a _ternary_ statement, which can be used in an assignment statement.\n",
    "\n",
    "When the ternary statement is viewed as a single statement, this form of list comprehension really is of the same for of the most simplest version without a conditional statement that we discussed first."
   ]
  },
  {
   "cell_type": "markdown",
   "metadata": {},
   "source": [
    "# Ternary Statements<a name = 'Ternary' />\n",
    "Back to <a href = '#navigation'>Navigation</a>\n",
    "\n",
    "Ternary operations are executed in different ways across programming languages.  In Python, a ternary statement takes the form of an <code>if-else</code> statement and they provide a succinct, readable method for <code>if-else</code> constructs on a single line."
   ]
  },
  {
   "cell_type": "code",
   "execution_count": null,
   "metadata": {},
   "outputs": [],
   "source": [
    "i = 5\n",
    "'even' if i%2==0 else 'odd'"
   ]
  },
  {
   "cell_type": "code",
   "execution_count": null,
   "metadata": {},
   "outputs": [],
   "source": [
    "i = 6\n",
    "result = 'even' if i%2==0 else 'odd'\n",
    "result"
   ]
  },
  {
   "cell_type": "code",
   "execution_count": null,
   "metadata": {},
   "outputs": [],
   "source": [
    "e_o = lambda x: 'Even' if x%2 == 0 else 'Odd'"
   ]
  },
  {
   "cell_type": "code",
   "execution_count": null,
   "metadata": {},
   "outputs": [],
   "source": [
    "e_o(9)"
   ]
  },
  {
   "cell_type": "markdown",
   "metadata": {},
   "source": [
    "Multiple levels of <code>if-else</code>.  These are actually nested _ternary_ statement."
   ]
  },
  {
   "cell_type": "code",
   "execution_count": null,
   "metadata": {},
   "outputs": [],
   "source": [
    "data = [1, 2.1828, 'string', [0, 1, 2], (1,2), 2, 3.5]\n",
    "newList6 = ['int' if isinstance(x, int) else 'float' if isinstance(x, float) else 'other' for x in data]\n",
    "newList6"
   ]
  },
  {
   "cell_type": "markdown",
   "metadata": {},
   "source": [
    "## Inputting Data and Computations with List Comprehension\n",
    "\n",
    "Let's work with 1D data first."
   ]
  },
  {
   "cell_type": "code",
   "execution_count": null,
   "metadata": {},
   "outputs": [],
   "source": [
    "with open('files/NorfolkWeather2018_1.csv','r') as f:\n",
    "    nw2018 = f.readlines()\n",
    "\n",
    "for i in range(len(nw2018)):\n",
    "    nw2018[i] = float(nw2018[i].strip())\n",
    "\n",
    "\"\"\" Plot both data series \"\"\"\n",
    "plt.plot(x, nw2018, label = '2018')\n",
    "plt.legend()\n",
    "plt.show()"
   ]
  },
  {
   "cell_type": "code",
   "execution_count": null,
   "metadata": {},
   "outputs": [],
   "source": [
    "with open('files/NorfolkWeather2018_1.csv','r') as f:\n",
    "    nw2018 = f.readlines()\n",
    "\n",
    "nw2018 = [float(nw2018[i].strip()) for i in range(len(nw2018))]\n",
    "\n",
    "\"\"\" Plot both data series \"\"\"\n",
    "plt.plot(x, nw2018, label = '2018')\n",
    "plt.legend()\n",
    "plt.show()"
   ]
  },
  {
   "cell_type": "code",
   "execution_count": null,
   "metadata": {},
   "outputs": [],
   "source": [
    "with open('files/NorfolkWeather2018_1.csv','r') as f:\n",
    "    nw2018 = f.readlines()\n",
    "\n",
    "nw2018 = [float(d.strip()) for d in nw2018]\n",
    "\n",
    "\"\"\" Plot both data series \"\"\"\n",
    "plt.plot(x, nw2018, label = '2018')\n",
    "plt.legend()\n",
    "plt.show()"
   ]
  },
  {
   "cell_type": "markdown",
   "metadata": {},
   "source": [
    "We can make the code above more succinct by recognizing that <code> f.readliens()</code> creates an iterable data structure that we can iterate through with <code>for</code>."
   ]
  },
  {
   "cell_type": "code",
   "execution_count": null,
   "metadata": {},
   "outputs": [],
   "source": [
    "with open('files/NorfolkWeather2018_1.csv','r')as f:\n",
    "    nw2018 = [float(d.strip()) for d in f.readlines()]\n",
    "\n",
    "\"\"\" Plot both data series \"\"\"\n",
    "plt.plot(x, nw2018, label = '2018')\n",
    "plt.legend()\n",
    "plt.show()"
   ]
  },
  {
   "cell_type": "markdown",
   "metadata": {},
   "source": [
    "The cell below refreshes our memory on one of the 2D functions for stripping, splitting, and converting data.  Subsequent cells illustrate how the code can be simplified and made more succinct with list comprehension.  We will simplify this example a bit by assuming that both row elements need to be converted to floating point values.  More complex examples can be handled by using a mapping function."
   ]
  },
  {
   "cell_type": "code",
   "execution_count": null,
   "metadata": {},
   "outputs": [],
   "source": [
    "def ssc_2d(data):\n",
    "    for i in range(len(data)):\n",
    "        data[i] = data[i].strip().split(',')\n",
    "        for j in range(len(data[i])):\n",
    "            data[i][j] = float(data[i][j])\n",
    "    return data\n",
    "\n",
    "with open('files/NorfolkWeather1999.csv','r') as f:\n",
    "    nw1999 = f.readlines()\n",
    "nw1999 = ssc_2d(nw1999)\n",
    "nw1999"
   ]
  },
  {
   "cell_type": "code",
   "execution_count": null,
   "metadata": {},
   "outputs": [],
   "source": [
    "def ssc_2d(data):\n",
    "    result = []\n",
    "    for row in data:\n",
    "        row = row.strip().split(',')\n",
    "        new_row = []\n",
    "        for e in row:\n",
    "            new_row.append(float(e))\n",
    "        result.append(new_row)\n",
    "        \n",
    "    return result\n",
    "\n",
    "with open('files/NorfolkWeather1999.csv','r') as f:\n",
    "    nw1999 = f.readlines()\n",
    "nw1999 = ssc_2d(nw1999)\n",
    "nw1999"
   ]
  },
  {
   "cell_type": "code",
   "execution_count": null,
   "metadata": {},
   "outputs": [],
   "source": [
    "def ssc_2d(data):\n",
    "    result = []\n",
    "    for row in data:\n",
    "        row = row.strip().split(',')\n",
    "        new_row = [float(e) for e in row]\n",
    "        result.append(new_row)\n",
    "        \n",
    "    return result\n",
    "\n",
    "with open('files/NorfolkWeather1999.csv','r') as f:\n",
    "    nw1999 = f.readlines()\n",
    "nw1999 = ssc_2d(nw1999)\n",
    "nw1999"
   ]
  },
  {
   "cell_type": "code",
   "execution_count": null,
   "metadata": {},
   "outputs": [],
   "source": [
    "def ssc_2d(data):\n",
    "    result = []\n",
    "    for row in data:\n",
    "        row = row.strip().split(',')\n",
    "        result.append([float(e) for e in row])\n",
    "        \n",
    "    return result\n",
    "\n",
    "with open('files/NorfolkWeather1999.csv','r') as f:\n",
    "    nw1999 = f.readlines()\n",
    "nw1999 = ssc_2d(nw1999)\n",
    "nw1999"
   ]
  },
  {
   "cell_type": "code",
   "execution_count": null,
   "metadata": {},
   "outputs": [],
   "source": [
    "def ssc_2d(data):\n",
    "    result = []\n",
    "    for row in data:\n",
    "        result.append([float(e) for e in row.strip().split(',')])\n",
    "        \n",
    "    return result\n",
    "\n",
    "with open('files/NorfolkWeather1999.csv','r') as f:\n",
    "    nw1999 = f.readlines()\n",
    "nw1999 = ssc_2d(nw1999)\n",
    "nw1999"
   ]
  },
  {
   "cell_type": "code",
   "execution_count": null,
   "metadata": {},
   "outputs": [],
   "source": [
    "def ssc_2d(data):\n",
    "    result = [[float(e) for e in row.strip().split(',')] for row in data]\n",
    "    return result\n",
    "\n",
    "with open('files/NorfolkWeather1999.csv','r') as f:\n",
    "    nw1999 = f.readlines()\n",
    "nw1999 = ssc_2d(nw1999)\n",
    "nw1999"
   ]
  },
  {
   "cell_type": "code",
   "execution_count": null,
   "metadata": {},
   "outputs": [],
   "source": [
    "def ssc_2d(data):\n",
    "    return [[float(e) for e in row.strip().split(',')] for row in data]\n",
    "\n",
    "with open('files/NorfolkWeather1999.csv','r') as f:\n",
    "    nw1999 = f.readlines()\n",
    "nw1999 = ssc_2d(nw1999)\n",
    "nw1999"
   ]
  },
  {
   "cell_type": "markdown",
   "metadata": {},
   "source": [
    "This problem is more difficult if the row elements need to be converted to different data types.  But tackling this increased complexity is easy later on when we learn a new tool."
   ]
  },
  {
   "cell_type": "markdown",
   "metadata": {},
   "source": [
    "## Computations with List Comprehension\n",
    "\n",
    "The moving average computations with <code>for</code> loops can be done with list comprehension as well.\n",
    "\n",
    "The first cell repeats our original code."
   ]
  },
  {
   "cell_type": "code",
   "execution_count": null,
   "metadata": {},
   "outputs": [],
   "source": [
    "''' period: \n",
    "      * a variable representing the number of periods that are averaged together to create\n",
    "        the moving average \n",
    "      * Given the zero-based indexing of Python, the first moving average can be computed\n",
    "        in Period period - 1 '''\n",
    "period = 10\n",
    "\n",
    "ma1999 = []  # Initialize moving average list for 1999\n",
    "ma2018 = []  # Initialize moving average list for 2018\n",
    "\n",
    "for i in range(0, len(nw1999) - period + 1):\n",
    "    ma1999.append(sum(nw1999[i:i + period])/period)\n",
    "    ma2018.append(sum(nw2018[i:i + period])/period)\n",
    "\n",
    "plt.plot(ma1999, label = '1999')\n",
    "plt.plot(ma2018, label = '2018')\n",
    "plt.legend()\n",
    "\n",
    "plt.show()"
   ]
  },
  {
   "cell_type": "code",
   "execution_count": null,
   "metadata": {},
   "outputs": [],
   "source": [
    "period = 10\n",
    "\n",
    "ma1999 = [sum(nw1999[i:i + period])/period for i in range(0,len(nw1999) - period + 1)]\n",
    "ma2018 = [sum(nw2018[i:i + period])/period for i in range(0,len(nw2018) - period + 1)]\n",
    "\n",
    "plt.plot(ma1999, label = '1999')\n",
    "plt.plot(ma2018, label = '2018')\n",
    "plt.legend()\n",
    "\n",
    "plt.show()"
   ]
  },
  {
   "cell_type": "markdown",
   "metadata": {},
   "source": [
    "# Other Comprehension Methods <a name='OtherComp' />"
   ]
  },
  {
   "cell_type": "markdown",
   "metadata": {},
   "source": [
    "## Dictionary Comprehension <a name='DictComp' />\n",
    "Back to <a href = '#navigation'>Navigation</a>\n",
    "\n",
    "Dictionaries can be created with _dictionary comprehension_  just as lists can be generated with _list comprehension_.  We will create a dictionary from a text file, both with a for loop and with dictionary comprehension.  But first, let's practice with some hard-coded data.\n",
    "\n",
    "The differences between list comprehension and dictionary comprehension are that the latter uses curly braces rather than square brackets and the specification for what is appended to the dictionary requires both a key and a value, separated by a colon. Here, a sequence of 2-tuples is converted into a dictionary:\n",
    "\n",
    "<code>\n",
    "    tups = [(0, 'cero'), (1, 'uno'), (2, 'dos')]\n",
    "    newDictionary = {k:v for k,v in tups}\n",
    "</code>\n",
    "\n",
    "Let's convert a list of lists into a dictionary, where each sublist contains the name of a national parks and its acreage.  Specifically, the national park name will be the key and the acreage will be the value.\n",
    "\n",
    "The first cells show multiple ways to use for loops for this task and the corresponding methods with dictionary comprehension.\n",
    "\n",
    "Source: National Parks data was extracted from [Wikipedia National Parks page](https://en.wikipedia.org/wiki/List_of_national_parks_of_the_United_States)."
   ]
  },
  {
   "cell_type": "code",
   "execution_count": null,
   "metadata": {},
   "outputs": [],
   "source": [
    "natParksList = [['Acadia',49075.26], ['Yellowstone',2219790.71], ['Yosemite',761747.5], ['Shenandoah',199223.77], \\\n",
    "                ['Saguro',91715.72], ['Petrified Forest',221390.21]]\n",
    "natParksList"
   ]
  },
  {
   "cell_type": "markdown",
   "metadata": {},
   "source": [
    "### Dictionaries from _for_ Loops\n",
    "Back to <a href = '#navigation'>Navigation</a>\n",
    "\n",
    "For this demonstration, let's assume that we have a list of lists, where each sublist contains the name of a national park and its acreage.  Let's construct a dictionary from this list of lists with the national park name as the key and the acreage as the value, first, with <code>for</code> loops.  Later, we will do the same with dictionary comprehension.\n",
    "\n",
    "Source: National Parks data was extracted from [Wikipedia National Parks page](https://en.wikipedia.org/wiki/List_of_national_parks_of_the_United_States)."
   ]
  },
  {
   "cell_type": "code",
   "execution_count": null,
   "metadata": {},
   "outputs": [],
   "source": [
    "natParksDict1 = {}\n",
    "for i in range(len(natParksList)):\n",
    "    natParksDict1[natParksList[i][0]] = natParksList[i][1]\n",
    "natParksDict1"
   ]
  },
  {
   "cell_type": "code",
   "execution_count": null,
   "metadata": {},
   "outputs": [],
   "source": [
    "natParksDict2 = {}\n",
    "for x in natParksList:\n",
    "    natParksDict2[x[0]] = x[1]\n",
    "natParksDict2"
   ]
  },
  {
   "cell_type": "code",
   "execution_count": null,
   "metadata": {},
   "outputs": [],
   "source": [
    "natParksDict3 = {}\n",
    "for name, acreage in natParksList:\n",
    "    natParksDict3[name] = acreage\n",
    "natParksDict3"
   ]
  },
  {
   "cell_type": "markdown",
   "metadata": {},
   "source": [
    "### Dictionary Comprehension  <a name='DictComp' />\n",
    "Back to <a href = '#navigation'>Navigation</a>\n",
    "\n",
    "The logic of unpacking a for loop and inserting the contents into a dictionary comprehension statement is the same as with list comprehension, except for tweaks that are appropriate for dictionaries: \n",
    "- Curly braces specify a dictionary is being created rather than a list, which uses square brackets\n",
    "- We need to specify a key and a value, separated by a colon, to be inserted in each implicit iteration.\n",
    "\n",
    "![Dictionary Comprehension Template](images/dictComp.jpg)\n",
    "\n",
    "Here is another prototypical statement of dictionary comprehension:\n",
    "\n",
    "<font face='courier'>newDictionary = {k:v for k,v in some_iterator}</font>\n",
    "\n",
    "Dictionary comprehension is useful when filestreams are read into dictionaries, or if, for example, lists need to be converted to dictionaries."
   ]
  },
  {
   "cell_type": "code",
   "execution_count": null,
   "metadata": {},
   "outputs": [],
   "source": [
    "natParksDict1DC = {natParksList[i][0]:natParksList[i][1] for i in range(len(natParksList))}\n",
    "natParksDict1DC"
   ]
  },
  {
   "cell_type": "code",
   "execution_count": null,
   "metadata": {},
   "outputs": [],
   "source": [
    "natParksDict2DC = {x[0]:x[1] for x in natParksList}\n",
    "natParksDict2DC"
   ]
  },
  {
   "cell_type": "code",
   "execution_count": null,
   "metadata": {},
   "outputs": [],
   "source": [
    "natParksDict3DC = {name:acreage for name,acreage in natParksList}\n",
    "natParksDict3DC"
   ]
  },
  {
   "cell_type": "markdown",
   "metadata": {},
   "source": [
    "Here is an example with input data from a text file.  Each line of the file <font face = 'courier'>npNameLoc.txt</font> contains the name of a United States National Park and the state in which that park is located.  Read the file and create a dictionary where the key is the name of the park and the value is a string indicating the state in which the park is located."
   ]
  },
  {
   "cell_type": "code",
   "execution_count": null,
   "metadata": {
    "scrolled": true
   },
   "outputs": [],
   "source": [
    "\"\"\" Read the data \"\"\"\n",
    "with open('files/npNameLoc.txt','r') as f_in:\n",
    "    data = f_in.readlines()\n",
    "\n",
    "\"\"\" Create the dictionary \"\"\"\n",
    "natParkDict1 = {}\n",
    "for i in range(1,len(data)):\n",
    "    data[i] = data[i].strip().split(',')\n",
    "    natParkDict1[data[i][0]] = data[i][1]\n",
    "natParkDict1"
   ]
  },
  {
   "cell_type": "markdown",
   "metadata": {
    "collapsed": true
   },
   "source": [
    "### Complete the task above with dictionary comprehension\n",
    "\n",
    "The cells below progressively make the code more succinct.  At what point does reducing the number of lines of code cause the code to be less readable in your opinion?"
   ]
  },
  {
   "cell_type": "code",
   "execution_count": null,
   "metadata": {},
   "outputs": [],
   "source": [
    "\"\"\" Read the data \"\"\"\n",
    "with open('files/npNameLoc.txt','r') as f_in: \n",
    "    data = f_in.readlines()\n",
    "\n",
    "\"\"\" Create the dictionary \"\"\"\n",
    "for i in range(1,len(data)):\n",
    "    data[i] = data[i].strip().split(',')\n",
    "natParkDict1 = {data[i][0]:data[i][1] for i in range(1, len(data))}\n",
    "natParkDict1"
   ]
  },
  {
   "cell_type": "code",
   "execution_count": null,
   "metadata": {},
   "outputs": [],
   "source": [
    "\"\"\" Read the data \"\"\"\n",
    "with open('files/npNameLoc.txt','r') as f_in: \n",
    "    data = f_in.readlines()\n",
    "data = [line.strip().split(',') for line in data]\n",
    "\n",
    "\"\"\" Create the dictionary \"\"\"\n",
    "natParkDict1 = {data[i][0]:data[i][1] for i in range(1, len(data))}\n",
    "natParkDict1"
   ]
  },
  {
   "cell_type": "code",
   "execution_count": null,
   "metadata": {},
   "outputs": [],
   "source": [
    "\"\"\" Read the data \"\"\"\n",
    "with open(files/'npNameLoc.txt','r') as f_in: \n",
    "    data = [line.strip().split(',') for line in f_in.readlines()]\n",
    "\n",
    "\"\"\" Create the dictionary \"\"\"\n",
    "natParkDict1 = {data[i][0]:data[i][1] for i in range(1, len(data))}\n",
    "natParkDict1"
   ]
  },
  {
   "cell_type": "code",
   "execution_count": null,
   "metadata": {},
   "outputs": [],
   "source": [
    "\"\"\" Read the data \"\"\"\n",
    "with open('files/npNameLoc.txt','r') as f_in: \n",
    "    data = [line.strip().split(',') for line in f_in.readlines()]\n",
    "\n",
    "\"\"\" Create the dictionary \"\"\"\n",
    "natParkDict1 = {line[0]:line[1] for line in data[1:]}\n",
    "natParkDict1"
   ]
  },
  {
   "cell_type": "code",
   "execution_count": null,
   "metadata": {},
   "outputs": [],
   "source": [
    "''' Read the data and create the dictionary '''\n",
    "with open('files/npNameLoc.txt','r') as f_in: \n",
    "    natParkDict1 = {line[0]:line[1] for line in [line.strip().split(',') for line in f_in.readlines()][1:]}\n",
    "natParkDict1"
   ]
  },
  {
   "cell_type": "markdown",
   "metadata": {},
   "source": [
    "## Set Comprehension  <a name='SetComp' />\n",
    "Back to <a href = '#navigation'>Navigation</a> \n",
    "\n",
    "A <code>set</code> is a Python data type that contains unique items, that is, no element can be repeated.  These, too, can be created with a comprehension statement.  This data type can be viewed as a set of dictionary keys without values."
   ]
  },
  {
   "cell_type": "code",
   "execution_count": null,
   "metadata": {},
   "outputs": [],
   "source": [
    "my_set = set([0, 0, 1, 1, 1, 2, 2, 2, 3, 3, 3, 4, 4, 5])\n",
    "my_set"
   ]
  },
  {
   "cell_type": "markdown",
   "metadata": {},
   "source": [
    "Elements can be added to a set using the <code>.add()</code> set method in a for loop as shown below.  If the element that is added already exists in the set, then the set remains unchanged."
   ]
  },
  {
   "cell_type": "code",
   "execution_count": null,
   "metadata": {},
   "outputs": [],
   "source": [
    "mylist = [0, 0, 1, 1, 1, 2, 2, 2, 3, 3, 3, 4, 4, 5]\n",
    "my_set1 = set()\n",
    "for ele in mylist:\n",
    "    my_set1.add(ele)\n",
    "my_set1"
   ]
  },
  {
   "cell_type": "markdown",
   "metadata": {},
   "source": [
    "Comprehension can also be used to create sets."
   ]
  },
  {
   "cell_type": "code",
   "execution_count": null,
   "metadata": {},
   "outputs": [],
   "source": [
    "my_set2 = {ele for ele in mylist}\n",
    "my_set2"
   ]
  },
  {
   "cell_type": "markdown",
   "metadata": {},
   "source": [
    "# An Aside: <code>for</code> versus <code>while</code> loops\n",
    "\n",
    "Thus far, we have used only <code>for</code> loops, but another type of loops are <code>while</code> loops.  <code>for</code> loops have made sense thus far because we can determine how many times we need to iterate through a list, for example, by using the <code>len()</code> function.  <code>while</code> loops make sense when we can't determine how many times we will need to execute the loop.\n",
    "\n",
    "<code>while</code> loops continue iterating until the condition specified with them is <code>False</code>."
   ]
  },
  {
   "cell_type": "markdown",
   "metadata": {},
   "source": [
    "Write a <code>while</code> loop to append powers of 2, $2^n$ for $n = 0,1, ...$ into a list for all powers of $n$ for $2^n < 2000$."
   ]
  },
  {
   "cell_type": "code",
   "execution_count": null,
   "metadata": {},
   "outputs": [],
   "source": [
    "n = 0\n",
    "result = []\n",
    "while 2**n < 2000:\n",
    "    result.append(2**n)\n",
    "    n = n + 1\n",
    "print(result)"
   ]
  },
  {
   "cell_type": "markdown",
   "metadata": {},
   "source": [
    "While we might like to sometimes use <code>while</code> loops in list comprehension statements, only <code>for</code> loops can be used in list comprehension."
   ]
  },
  {
   "cell_type": "markdown",
   "metadata": {},
   "source": [
    "# <code>for</code> Loops with <code>enumerate()</code>  <a name='enumerate' />\n",
    "Back to <a href = '#navigation'>Navigation</a>\n",
    "\n",
    "... and <code>enumerate()</code> outside of <code>for</code> loops\n",
    "\n",
    "As we already know, two ways to iterate through data with <code>for</code> loops are:\n",
    "- By index\n",
    "- Directly through the elements\n",
    "\n",
    "While the latter approach (below) is thought be many to be more readable, you must use the first approach if you want to change the element values."
   ]
  },
  {
   "cell_type": "code",
   "execution_count": null,
   "metadata": {},
   "outputs": [],
   "source": [
    "values = [0, 1, 2, 4, 5, 7, 8, 9]\n",
    "\n",
    "for i in range(len(values)):\n",
    "    print(i)"
   ]
  },
  {
   "cell_type": "code",
   "execution_count": null,
   "metadata": {},
   "outputs": [],
   "source": [
    "values = [0, 1, 2, 4, 5, 7, 8, 9]\n",
    "\n",
    "for ele in values:\n",
    "    print(ele)"
   ]
  },
  {
   "cell_type": "markdown",
   "metadata": {},
   "source": [
    "In some circumstances you might want to use the latter approach for its readability, while you need the index in order to change the values of the elements in the list.  The <code>enumerate()</code> functions resolve the need to use a single approach, as it affords you the opportunity to use both simultaneously.\n",
    "\n",
    "Three example circumstances where you need <code>enumerate()</code> are illustrated below:\n",
    "- You want to keep track of the iteration number for debugging purposes\n",
    "- You have multiple lists that are the same length, with elements corresponding to one another, and you need to revise the values in at least one of the lists\n",
    "- You want to create a list of tuples from an original data structure whose first element is an index\n",
    "\n",
    "Caution: if you are in the second situation, you may want to rethink the data type you are using.  Perhaps both data fields should be in the same structure."
   ]
  },
  {
   "cell_type": "markdown",
   "metadata": {},
   "source": [
    "A simple example of what <code>enumerate()</code> does."
   ]
  },
  {
   "cell_type": "code",
   "execution_count": null,
   "metadata": {},
   "outputs": [],
   "source": [
    "import random\n",
    "values = [random.random() for _ in range(5)]\n",
    "\n",
    "for i,v in enumerate(values):\n",
    "    print(i,v)"
   ]
  },
  {
   "cell_type": "raw",
   "metadata": {},
   "source": [
    "Some practical examples..."
   ]
  },
  {
   "cell_type": "code",
   "execution_count": null,
   "metadata": {},
   "outputs": [],
   "source": [
    "import random\n",
    "values = [random.random() for _ in range(50000)]"
   ]
  },
  {
   "cell_type": "markdown",
   "metadata": {},
   "source": [
    "Monitor analysis process for big data..."
   ]
  },
  {
   "cell_type": "code",
   "execution_count": null,
   "metadata": {},
   "outputs": [],
   "source": [
    "for i,v in enumerate(values):\n",
    "    # Do something useful with values v here\n",
    "    if i%10000 == 0 and i > 0:\n",
    "        print(f'{i} elements completed')"
   ]
  },
  {
   "cell_type": "markdown",
   "metadata": {},
   "source": [
    "Find rows with defective data..."
   ]
  },
  {
   "cell_type": "code",
   "execution_count": null,
   "metadata": {},
   "outputs": [],
   "source": [
    "with open('files\\defects.csv', 'r') as f:\n",
    "    data = f.readlines()\n",
    "    \n",
    "results = []\n",
    "empty_rows = []\n",
    "for i,v in enumerate(data):\n",
    "    if v.strip() != '':\n",
    "        results.append(int(v.strip()))\n",
    "    else:\n",
    "        empty_rows.append(i)\n",
    "print(results)\n",
    "print(empty_rows)"
   ]
  },
  {
   "cell_type": "markdown",
   "metadata": {},
   "source": [
    "In this example, let's assume that you are reading a large data file, which is mimicked by the list below, and converting string data to integers.  You are getting an error because some of the data cannot be converted to integers.  You can use <code>enumerate()</code> to let you know which line(s) of data cannot be transformed."
   ]
  },
  {
   "cell_type": "code",
   "execution_count": null,
   "metadata": {},
   "outputs": [],
   "source": [
    "data = ['0', '1', '2', 'actual', '4', 'planned', '7', '9']\n",
    "\n",
    "my_int = []\n",
    "junk = []\n",
    "for i,d in enumerate(data):\n",
    "    try:\n",
    "        my_int.append(int(d))\n",
    "    except:\n",
    "        junk.append((i,d))\n",
    "        \n",
    "print(f'junk has {len(junk)} elements: {junk}')"
   ]
  },
  {
   "cell_type": "markdown",
   "metadata": {},
   "source": [
    "Index tuples in case you want to resort them back into the original order."
   ]
  },
  {
   "cell_type": "code",
   "execution_count": null,
   "metadata": {},
   "outputs": [],
   "source": [
    "tups = [(i, v) for i,v in enumerate(values)]\n",
    "tups[:5]"
   ]
  },
  {
   "cell_type": "markdown",
   "metadata": {},
   "source": [
    "... or, more simply"
   ]
  },
  {
   "cell_type": "code",
   "execution_count": null,
   "metadata": {},
   "outputs": [],
   "source": [
    "tups1 = list(enumerate(values))\n",
    "tups1"
   ]
  },
  {
   "cell_type": "markdown",
   "metadata": {},
   "source": [
    "which shows that enumerate can be used outside of a for loop and might sometimes be useful in such a context."
   ]
  },
  {
   "cell_type": "markdown",
   "metadata": {},
   "source": [
    "Which days had high temperatures?"
   ]
  },
  {
   "cell_type": "code",
   "execution_count": null,
   "metadata": {},
   "outputs": [],
   "source": [
    "temps = [random.randint(0,110) for i in range(100)]"
   ]
  },
  {
   "cell_type": "code",
   "execution_count": null,
   "metadata": {},
   "outputs": [],
   "source": [
    "temp_thres = 90\n",
    "hot_days = []\n",
    "for d,t in enumerate(temps):\n",
    "    if t >= temp_thres:\n",
    "        print(f'Day {d} had a temperature of {t}.')\n",
    "        hot_days.append(d)\n",
    "print(hot_days)"
   ]
  },
  {
   "cell_type": "markdown",
   "metadata": {},
   "source": [
    "# The <code>zip()</code>, <code>map()</code>, and <code>filter()</code>  Functions ... and the <code>*</code> Operator  <a name='zip_map_filter' />\n",
    "Back to <a href = '#navigation'>Navigation</a>\n",
    "\n",
    "These functions are very useful, although accessing the results can be a bit unintuitive until one realizes they are iterators.  We have described iterators and so you have the foundation to understand how to view and use the results of these functions.  By returning results in the form of iterators, these functions perform faster while using less memory.  "
   ]
  },
  {
   "cell_type": "markdown",
   "metadata": {},
   "source": [
    "## The <code>*</code> Operator <a name='asterisk_op' />  \n",
    "Back to <a href = '#navigation'>Navigation</a>\n",
    "\n",
    "We, most liekly, think first of <code>*</code> as denoting a multiplication operation.  But, it has another meaning, which is to unpack Python data types that are collections of elements.  We introduce the notion of unpacking in this section in the context of well known Python data types, including lists, tuples, and dictionaries.  The <code>*</code> operator becomes even more important when we work with generators and iterators, but it is easiest to introduce it in the context of basic Python types.\n",
    "\n",
    "Take these lists and tuples, for example,\n",
    "<code>\n",
    "    ls_1 = [0, 1, 2]\n",
    "    ls_2 = [[0, 1], [2, 3], [4, 5]]\n",
    "    ls_3 = [(0, 1), (2, 3), (4, 5)]\n",
    "    t_1 = (0, 1, 2)\n",
    "    t_2 = ([0, 1], [2, 3], [4, 5])\n",
    "    t_3 = ((0, 1), (2, 3), (4, 5))\n",
    "</code>\n",
    "\n",
    "You can think of the <code>*</code> placed in fornt of one of these variable names as removing the outer container type.  That is, in the respective order above, we would have three uncontained integers, three uncontained sub-lists, and three uncontained tuples in that order or, in effect,\n",
    "\n",
    "<code>\n",
    "    *ls_1 = 0, 1, 2\n",
    "    *ls_2 = [0, 1], [2, 3], [4, 5]\n",
    "    *ls_3 = (0, 1), (2, 3), (4, 5)\n",
    "    *t_1 = 0, 1, 2\n",
    "    *t_2 = [0, 1], [2, 3], [4, 5]\n",
    "    *t_3 = (0, 1), (2, 3), (4, 5)\n",
    "</code>\n",
    "\n",
    "The statements above are not valid Python statements but, rather, demonstrate, in effect, what <code>*</code> does. To further demonstrate, we will try to evaluate one of these starred expressions."
   ]
  },
  {
   "cell_type": "code",
   "execution_count": null,
   "metadata": {},
   "outputs": [],
   "source": [
    "ls_1 = [0, 1, 2]\n",
    "ls_2 = [[0, 1], [2, 3], [4, 5]]\n",
    "ls_3 = [(0, 1), (2, 3), (4, 5)]\n",
    "t_1 = (0, 1, 2)\n",
    "t_2 = ([0, 1], [2, 3], [4, 5])\n",
    "t_3 = ((0, 1), (2, 3), (4, 5))"
   ]
  },
  {
   "cell_type": "code",
   "execution_count": null,
   "metadata": {},
   "outputs": [],
   "source": [
    "*ls_1"
   ]
  },
  {
   "cell_type": "markdown",
   "metadata": {},
   "source": [
    "So, why is this a useful operation?  One use is to repackage the inner elements into a different outer data type, such as in the following cells."
   ]
  },
  {
   "cell_type": "code",
   "execution_count": null,
   "metadata": {},
   "outputs": [],
   "source": [
    "(*ls_1,)"
   ]
  },
  {
   "cell_type": "code",
   "execution_count": null,
   "metadata": {},
   "outputs": [],
   "source": [
    "[*t_1]"
   ]
  },
  {
   "cell_type": "markdown",
   "metadata": {},
   "source": [
    "Well, that is not so impressive or useful: this can be accomplished with other obvious methods.  In the same vein, however, a starred expression can be used to conveniently specify part of a lerger list or tuple that is being constructed."
   ]
  },
  {
   "cell_type": "code",
   "execution_count": null,
   "metadata": {},
   "outputs": [],
   "source": [
    "[9, 8, 7, 6, *ls_1]"
   ]
  },
  {
   "cell_type": "markdown",
   "metadata": {},
   "source": [
    "You can also use <code>*</code> with dictionaries.  Using just the variable name references the dictionary keys, as is the default in a <code>for</code> loop, or both keys and values can be referenced with <code>.items()</code>."
   ]
  },
  {
   "cell_type": "code",
   "execution_count": null,
   "metadata": {},
   "outputs": [],
   "source": [
    "dct_nums = {0:'zero', 1:'one', 2:'two'}"
   ]
  },
  {
   "cell_type": "code",
   "execution_count": null,
   "metadata": {},
   "outputs": [],
   "source": [
    "[*dct_nums]"
   ]
  },
  {
   "cell_type": "code",
   "execution_count": null,
   "metadata": {},
   "outputs": [],
   "source": [
    "[*dct_nums.items()]"
   ]
  },
  {
   "cell_type": "code",
   "execution_count": null,
   "metadata": {},
   "outputs": [],
   "source": []
  },
  {
   "cell_type": "markdown",
   "metadata": {},
   "source": [
    "## <code>zip()</code> Function <a name='zip' />  \n",
    "Back to <a href = '#navigation'>Navigation</a>\n",
    "\n",
    "The <code>zip()</code> function takes as input two or more lists, tuples, or other iterable data types and outputs a number of tuples equal to the length of the inputs.\n",
    "\n",
    "The 0th elment of the output tuples is the combination of the 0th element from each of the inputs, the 1st element of the output is the combination of the 1st elements from the inputs, and so forth.\n",
    "\n",
    "Statement|Result|\n",
    ":---: | :---: |\n",
    "<code>zip((0,1),(2,3),(4,5))</code>|<code>((0, 2, 4),(1, 3, 5))</code>|\n",
    "\n",
    "If the input tuples represented rows of a matrix, then <code>zip()</code> produces what one can consider the rows of the transpose matrix.\n",
    "\n",
    "Notice that printing the output does not reveal the data, but merely indicates that the result is of the <code>zip</code> data type.  This data type is an example of an <code>iterator</code>, as we have previously discussed.  Its values can be retrieved in a number of ways as demonstrated below."
   ]
  },
  {
   "cell_type": "code",
   "execution_count": null,
   "metadata": {},
   "outputs": [],
   "source": [
    "zip((0,1),(2,3),(4,5))"
   ]
  },
  {
   "cell_type": "markdown",
   "metadata": {},
   "source": [
    "Retrieval with a <code>for</code> loop, list comprehension, and the asterisk, <code>*</code> operator, respectively, and a couple other methods."
   ]
  },
  {
   "cell_type": "code",
   "execution_count": null,
   "metadata": {},
   "outputs": [],
   "source": [
    "for x in zip((0,1),(2,3),(4,5)):\n",
    "    print(x)"
   ]
  },
  {
   "cell_type": "code",
   "execution_count": null,
   "metadata": {},
   "outputs": [],
   "source": [
    "[x for x in zip((0,1),(2,3),(4,5))]"
   ]
  },
  {
   "cell_type": "markdown",
   "metadata": {},
   "source": [
    "The <code>*</code> (asterisk) operator affords the same functionalty as does list comprehension in terms of viewing the result: it unpacks the <code>zip</code> result, which is a tuple of tuples in this case, so the sub-tuples are repacked into a list."
   ]
  },
  {
   "cell_type": "code",
   "execution_count": null,
   "metadata": {},
   "outputs": [],
   "source": [
    "result = zip((0,1),(2,3),(4,5))\n",
    "[*result]"
   ]
  },
  {
   "cell_type": "code",
   "execution_count": null,
   "metadata": {},
   "outputs": [],
   "source": [
    "result = zip((0,1),(2,3),(4,5))\n",
    "list(result)"
   ]
  },
  {
   "cell_type": "code",
   "execution_count": null,
   "metadata": {},
   "outputs": [],
   "source": [
    "result = zip((0,1),(2,3),(4,5))\n",
    "tuple(result)"
   ]
  },
  {
   "cell_type": "markdown",
   "metadata": {},
   "source": [
    "An example where zip is useful is when data for a <code>matplotlib</code> line plot is supplied in a list of lists, with each sublist representing the <code>x</code>-<code>y</code> coordinates of a point.  The data must be transformed into a series of <code>x</code> data and a series of <code>y</code> data in order to be plotted.\n",
    "\n",
    "The <code>zip()</code> function reorganizes those data accordingly and the <code>*</code> operator 'unpacks' the two data series so they can be plotted in the code below."
   ]
  },
  {
   "cell_type": "code",
   "execution_count": null,
   "metadata": {},
   "outputs": [],
   "source": [
    "import matplotlib.pyplot as plt"
   ]
  },
  {
   "cell_type": "code",
   "execution_count": null,
   "metadata": {},
   "outputs": [],
   "source": [
    "data = [[0,0], [1,1], [2,2], [3,0], [4,1], [5,2], [6,0], [7,1], [8,2], [9,0]]"
   ]
  },
  {
   "cell_type": "code",
   "execution_count": null,
   "metadata": {},
   "outputs": [],
   "source": [
    "data_xy = zip(*data)\n",
    "for series in data_xy:\n",
    "    print(series)"
   ]
  },
  {
   "cell_type": "code",
   "execution_count": null,
   "metadata": {},
   "outputs": [],
   "source": [
    "x, y = zip(*data)\n",
    "plt.plot(x, y)\n",
    "plt.show()"
   ]
  },
  {
   "cell_type": "markdown",
   "metadata": {},
   "source": [
    "In a similar way, the <code>zip()</code> function is often used to prepare sets of parameters to be fed into a function in a multiprocessing context, as shown in a simplified example below to compute the distance between a list of origins and another list of corresponding destinations.\n",
    "\n",
    "The code also demonstrate the formatting of output with an <code>f</code> string.\n",
    "  - Curly braces <code>{}</code> indicate where to insert variable values in the string\n",
    "  - Floating-point values can be formatted as indicated with the expression after the colon"
   ]
  },
  {
   "cell_type": "code",
   "execution_count": null,
   "metadata": {},
   "outputs": [],
   "source": [
    "def dist(p, q):\n",
    "    import math\n",
    "    return math.sqrt(sum([abs(p[i] - q[i])**2 for i in range(len(p))]))"
   ]
  },
  {
   "cell_type": "code",
   "execution_count": null,
   "metadata": {},
   "outputs": [],
   "source": [
    "origin = [[0,0], [1,5], [4,2], [8,1]]\n",
    "dest = [[9,5], [1,7], [0,5], [6,2]]\n",
    "\n",
    "arg = zip(origin, dest)\n",
    "\n",
    "for a in arg:\n",
    "    print(f'The distance between {a[0]} and {a[1]} is {dist(*a):.2f}')"
   ]
  },
  {
   "cell_type": "markdown",
   "metadata": {},
   "source": [
    "Note that if the two data structures being zipped do not ahve the same number of elements, then the number of elements being zipped equals the number of elements in the smaller variable."
   ]
  },
  {
   "cell_type": "code",
   "execution_count": null,
   "metadata": {},
   "outputs": [],
   "source": [
    "origin = [[0,0], [1,5], [4,2], [8,1]]\n",
    "dest = [[9,5], [1,7], [0,5]]\n",
    "\n",
    "arg = zip(origin, dest)\n",
    "\n",
    "for a in arg:\n",
    "    print(f'The distance between {a[0]} and {a[1]} is {dist(*a):.2f}')"
   ]
  },
  {
   "cell_type": "markdown",
   "metadata": {},
   "source": [
    "## <code>map()</code> Function <a name='map' />  \n",
    "Back to <a href = '#navigation'>Navigation</a>\n",
    "\n",
    "The <code>map()</code> function takes as its first argument a function and an iterable data type as its second element (e.g., list, tuple).  It applies the function sequentially to each of the elements of the iterable data.\n",
    "\n",
    "The result is a <code>map</code> data type, which is an _iterator_, as was the case with the <code>zip()</code> function.\n",
    "\n",
    "The applied functions are often <code>lambda</code> functions although custom function and built-in functions can be applied also."
   ]
  },
  {
   "cell_type": "code",
   "execution_count": null,
   "metadata": {},
   "outputs": [],
   "source": [
    "result = map(lambda x:x**2, range(4))\n",
    "type(result)"
   ]
  },
  {
   "cell_type": "markdown",
   "metadata": {},
   "source": [
    "The contents of iterators cannot be printed directly."
   ]
  },
  {
   "cell_type": "code",
   "execution_count": null,
   "metadata": {},
   "outputs": [],
   "source": [
    "result = map(lambda x:x**2, range(4))\n",
    "result"
   ]
  },
  {
   "cell_type": "code",
   "execution_count": null,
   "metadata": {},
   "outputs": [],
   "source": [
    "result = map(lambda x:x**2, range(4))\n",
    "print(result)"
   ]
  },
  {
   "cell_type": "markdown",
   "metadata": {},
   "source": [
    "But, their contents can be iterated through in a for loop and they can be transformed into lists with multiple methods."
   ]
  },
  {
   "cell_type": "code",
   "execution_count": null,
   "metadata": {},
   "outputs": [],
   "source": [
    "result = map(lambda x:x**2, range(4))\n",
    "for r in result:\n",
    "    print(r)"
   ]
  },
  {
   "cell_type": "code",
   "execution_count": null,
   "metadata": {},
   "outputs": [],
   "source": [
    "result = map(lambda x:x**2, range(4))\n",
    "[*result]"
   ]
  },
  {
   "cell_type": "code",
   "execution_count": null,
   "metadata": {},
   "outputs": [],
   "source": [
    "result = map(lambda x:x**2, range(4))\n",
    "list(result)"
   ]
  },
  {
   "cell_type": "code",
   "execution_count": null,
   "metadata": {},
   "outputs": [],
   "source": [
    "result = map(lambda x:x**2, range(4))\n",
    "[r for r in result]"
   ]
  },
  {
   "cell_type": "code",
   "execution_count": null,
   "metadata": {},
   "outputs": [],
   "source": [
    "data = ['1', '3', '5', '6', '8']\n",
    "data = map(int, data)\n",
    "data = [*data]\n",
    "print(data)\n",
    "print(type(data[0]))"
   ]
  },
  {
   "cell_type": "markdown",
   "metadata": {},
   "source": [
    "Other <code>map()</code> examples with...\n",
    "\n",
    "- Custom functions\n",
    "- <code>sum</code>\n",
    "- <code>len()</code> function\n",
    "- <code>min()</code> and <code>max()</code> functions"
   ]
  },
  {
   "cell_type": "code",
   "execution_count": null,
   "metadata": {},
   "outputs": [],
   "source": [
    "def sq(x):\n",
    "    return x**2\n",
    "\n",
    "[*map(sq, range(5))]"
   ]
  },
  {
   "cell_type": "code",
   "execution_count": null,
   "metadata": {},
   "outputs": [],
   "source": [
    "data = [[0,1,2,3], [4,5,6,7], [8,9,10,11]]\n",
    "result = map(sum, data)\n",
    "for r in result:\n",
    "    print(r)"
   ]
  },
  {
   "cell_type": "code",
   "execution_count": null,
   "metadata": {},
   "outputs": [],
   "source": [
    "import random\n",
    "\n",
    "my_list = [[random.random() for _ in range(random.randint(1,6))] for _ in range(5)]\n",
    "\n",
    "print(my_list)\n",
    "[*map(len, my_list)]"
   ]
  },
  {
   "cell_type": "code",
   "execution_count": null,
   "metadata": {},
   "outputs": [],
   "source": [
    "[*map(min, my_list)]"
   ]
  },
  {
   "cell_type": "code",
   "execution_count": null,
   "metadata": {},
   "outputs": [],
   "source": [
    "[*map(max, my_list)]"
   ]
  },
  {
   "cell_type": "markdown",
   "metadata": {},
   "source": [
    "## <code>filter()</code> Function  <a name='filter' />  \n",
    "Back to <a href = '#navigation'>Navigation</a>\n",
    "\n",
    "The filter function takes a function as its first argument and a iterable data type as its second argument.  The function is applied to each element of the iterable argument and its output is interpreted as <code>True</code> or <code>False</code>, and it returns only those elements of the iterable argument where the function result is <code>True</code>.\n",
    "\n",
    "Similar to <code>zip()</code> and <code>map()</code>, <code>filter()</code> returns an iterator whose values must be unpacked in order to view them.  The iterator can be used directly in a <code>for</code> loop or list comprehension."
   ]
  },
  {
   "cell_type": "code",
   "execution_count": null,
   "metadata": {},
   "outputs": [],
   "source": [
    "filter(lambda x: x%2 == 0, range(10))"
   ]
  },
  {
   "cell_type": "code",
   "execution_count": null,
   "metadata": {},
   "outputs": [],
   "source": [
    "result = filter(lambda x: x%2 == 0, range(10))\n",
    "[*result]"
   ]
  },
  {
   "cell_type": "code",
   "execution_count": null,
   "metadata": {},
   "outputs": [],
   "source": [
    "result_explain = map(lambda x: x%2 == 0, range(10))\n",
    "[*result_explain]"
   ]
  },
  {
   "cell_type": "code",
   "execution_count": null,
   "metadata": {},
   "outputs": [],
   "source": [
    "import random\n",
    "\n",
    "def big(x):\n",
    "    return x >= 0.5\n",
    "\n",
    "data = [random.random() for _ in range(20)]\n",
    "result = filter(big, data)\n",
    "[*result]"
   ]
  },
  {
   "cell_type": "markdown",
   "metadata": {},
   "source": [
    "## Applications of <code>zip()</code>,  <code>map()</code>,  and <code>filter()</code> Functions  <a name='apps_zip_map_filter' />  \n",
    "Back to <a href = '#navigation'>Navigation</a>\n",
    "\n",
    "We will use these functions throughout this notebook where they are useful.\n",
    "\n",
    "For now, here are some exercises for absorbing how these functions work."
   ]
  },
  {
   "cell_type": "markdown",
   "metadata": {},
   "source": [
    "### <code>zip()</code> Exercise\n",
    "\n",
    "Suppose you wanted to plot the data below with <code>matplotlib</code>.  Apply the <code>zip()</code> function to reorganize the data into two series, one for the <code>x</code>-axis and one for the <code>y</code>-axis.  you may need to use the <code>*</code> operator as well."
   ]
  },
  {
   "cell_type": "code",
   "execution_count": null,
   "metadata": {},
   "outputs": [],
   "source": [
    "data = [[0,0], [1,2], [2,4], [3,6]]\n"
   ]
  },
  {
   "cell_type": "markdown",
   "metadata": {},
   "source": [
    "Using the <code>*</code> operator and <code>zip()</code> for reorganizing data series."
   ]
  },
  {
   "cell_type": "markdown",
   "metadata": {},
   "source": [
    "Function repreated for convenience."
   ]
  },
  {
   "cell_type": "code",
   "execution_count": null,
   "metadata": {},
   "outputs": [],
   "source": [
    "import matplotlib.pyplot as plt\n",
    "    \n",
    "def ssc_2d_map(convert, data):\n",
    "    for i in range(len(data)):\n",
    "        data[i] = data[i].strip().split(',')\n",
    "        for j, mk_type in convert.items():\n",
    "            data[i][j] = mk_type(data[i][j])\n",
    "    return data"
   ]
  },
  {
   "cell_type": "code",
   "execution_count": null,
   "metadata": {},
   "outputs": [],
   "source": [
    "with open('files/NorfolkWeather1999.csv','r') as f:\n",
    "    nw1999 = f.readlines()\n",
    "\n",
    "for i in range(len(nw1999)):\n",
    "    nw1999[i] = nw1999[i].strip()\n",
    "    nw1999[i] = nw1999[i].split(',')\n",
    "    nw1999[i][0] = int(nw1999[i][0])\n",
    "    nw1999[i][1] = float(nw1999[i][1])\n",
    "\n",
    "''' Create x and y series data '''\n",
    "x, y = zip(*nw1999)\n",
    "plt.plot(x, y, label = '1999')\n",
    "plt.show()"
   ]
  },
  {
   "cell_type": "code",
   "execution_count": null,
   "metadata": {},
   "outputs": [],
   "source": [
    "with open('files/NorfolkWeather1999.csv','r') as f:\n",
    "    nw1999 = f.readlines()\n",
    "convert_map = {0:int, 1:float}\n",
    "nw1999 = ssc_2d_map(convert_map, nw1999)\n",
    "\n",
    "''' Create x and y series data '''\n",
    "x, y1999 = zip(*nw1999)\n",
    "    \n",
    "plt.plot(x, y1999, label = '1999')\n",
    "plt.show()"
   ]
  },
  {
   "cell_type": "code",
   "execution_count": null,
   "metadata": {},
   "outputs": [],
   "source": [
    "with open('files/NorfolkWeather1999.csv','r') as f:\n",
    "    nw1999 = f.readlines()\n",
    "convert_map = {0:int, 1:float}\n",
    "nw1999 = ssc_2d_map(convert_map, nw1999)\n",
    "\n",
    "plt.plot(*zip(*nw1999), label = '1999')\n",
    "plt.show()"
   ]
  },
  {
   "cell_type": "markdown",
   "metadata": {},
   "source": [
    "### <code>map()</code> Exercise\n",
    "\n",
    "Write a function to return the strings <code>odd</code> or <code>even</code> depending on the value of an integer passed to it.  Then, use the <code>map()</code> function to apply that function to the list names <code>values</code>."
   ]
  },
  {
   "cell_type": "code",
   "execution_count": null,
   "metadata": {},
   "outputs": [],
   "source": [
    "values = [0, 2, 4, 6, 8, 1, 3, 5, 7, 9]\n",
    "\n"
   ]
  },
  {
   "cell_type": "markdown",
   "metadata": {},
   "source": [
    "### <code>filter()</code> Exercise\n",
    "\n",
    "Use the <code>filter()</code> function to filter out the elements from the list <code>values</code> that are less than 5."
   ]
  },
  {
   "cell_type": "code",
   "execution_count": null,
   "metadata": {},
   "outputs": [],
   "source": [
    "values = [0, 2, 4, 6, 8, 1, 3, 5, 7, 9]"
   ]
  },
  {
   "cell_type": "code",
   "execution_count": null,
   "metadata": {},
   "outputs": [],
   "source": []
  },
  {
   "cell_type": "code",
   "execution_count": null,
   "metadata": {},
   "outputs": [],
   "source": []
  },
  {
   "cell_type": "markdown",
   "metadata": {},
   "source": [
    "Transpose the list of lists <code>lol</code> using the <code>zip</code> function."
   ]
  },
  {
   "cell_type": "code",
   "execution_count": null,
   "metadata": {},
   "outputs": [],
   "source": [
    "import random\n",
    "lol= [[random.randint(0,9) for _ in range(3)]  for  _ in range(5)]\n",
    "\n"
   ]
  },
  {
   "cell_type": "markdown",
   "metadata": {},
   "source": [
    "# Passing Arguments to Functions by Reference or Value<a name = 'RefVal' />\n",
    "Back to <a href = '#navigation'>Navigation</a>\n",
    "\n",
    "One of Python's strengths is its simplicity, which makes Python easier for a beginner coder to grasp.  A downside of this strength is that Python hides some of the complexity inherent in computer operations, which limits a more advanced programmer the capability of writing better code (think speed and memory usage).\n",
    "\n",
    "One mechanism that Python hides is the manner that arguments are passed to functions.  In some cases, copies of the variable values are sent to a function (passing by value) while, in other circumstances the memory address of the variable is sent to the function (passing by reference or pointer).  Some programming languages (e.g., C++) require the programmer to specify how an argument is sent.  In Python, that decision is set by default depending on the variable type: some types are passed by value and others by reference."
   ]
  },
  {
   "cell_type": "markdown",
   "metadata": {},
   "source": [
    "## Passing by Value\n",
    "\n",
    "When a variable is passed by value, just the value is sent to the function and it is assigned to the variable specified in the function.  For example, the code below sends the value of the variable <code>x</code> to the function and assigns it to the variable <code>y</code> within the function."
   ]
  },
  {
   "cell_type": "code",
   "execution_count": null,
   "metadata": {},
   "outputs": [],
   "source": [
    "def f(y):\n",
    "    y = y**2\n",
    "    return(y)\n",
    "\n",
    "x = 3\n",
    "print(x, f(x))"
   ]
  },
  {
   "cell_type": "markdown",
   "metadata": {},
   "source": [
    "In the example above, as illustrated in the <code>print()</code> statement the variable <code>y</code> within the function is independent of the variable <code>x</code>, that is, the value of the variable <code>x</code> is unchanged by the function."
   ]
  },
  {
   "cell_type": "markdown",
   "metadata": {},
   "source": [
    "When variables of more complex data types are sent to functions, a pointer to their memory address is passed and, as a consequence, if the function manipulates the passed argument/variable, then its original value is changed as well. This is demonstrated below for a variale of the <code>list</code> type that is passed to a function."
   ]
  },
  {
   "cell_type": "code",
   "execution_count": null,
   "metadata": {},
   "outputs": [],
   "source": [
    "def g(y):\n",
    "    y[0] = y[0]**2\n",
    "    return y\n",
    "\n",
    "x = [3,4]\n",
    "print(x, g(x))"
   ]
  },
  {
   "cell_type": "markdown",
   "metadata": {},
   "source": [
    "An advantage of passing a variable by reference is that the variable need not be passed back to the \"calling\" code.  The code can be faster because the entirety of the data represented by the argument need not be passed to the function and then back again to the calling program."
   ]
  },
  {
   "cell_type": "code",
   "execution_count": null,
   "metadata": {},
   "outputs": [],
   "source": [
    "def h(y):\n",
    "    y[0] = y[0]**2\n",
    "\n",
    "x = [3,4]\n",
    "h(x)\n",
    "print(x)"
   ]
  },
  {
   "cell_type": "code",
   "execution_count": null,
   "metadata": {},
   "outputs": [],
   "source": [
    "def j(y):\n",
    "    y['a'] = 99\n",
    "    \n",
    "x = {'a':0, 'b':1}\n",
    "j(x)\n",
    "print(x)"
   ]
  },
  {
   "cell_type": "code",
   "execution_count": null,
   "metadata": {},
   "outputs": [],
   "source": [
    "def k(y):\n",
    "    y.add(2)\n",
    "    \n",
    "x = {0, 1}\n",
    "k(x)\n",
    "print(x)"
   ]
  },
  {
   "cell_type": "code",
   "execution_count": null,
   "metadata": {},
   "outputs": [],
   "source": [
    "import numpy as np\n",
    "\n",
    "def m(y):\n",
    "    y[0] = 99\n",
    "    \n",
    "x = np.array([0,1])\n",
    "m(x)\n",
    "print(x)"
   ]
  },
  {
   "cell_type": "markdown",
   "metadata": {},
   "source": [
    "Try this with dictionaries passed to a function."
   ]
  },
  {
   "cell_type": "code",
   "execution_count": null,
   "metadata": {},
   "outputs": [],
   "source": [
    "def add2dict(d):\n",
    "    for k,v in d.items():\n",
    "        d[k] = v+1\n",
    "        \n",
    "my_dct = {'zero':0, 'one':1, 'two':2}\n",
    "add2dict(my_dct)\n",
    "print(my_dct)"
   ]
  },
  {
   "cell_type": "code",
   "execution_count": null,
   "metadata": {},
   "outputs": [],
   "source": [
    "import pandas as pd\n",
    "\n",
    "def n(y):\n",
    "    y.iloc[0] = 99\n",
    "    \n",
    "x = pd.Series([0,1])\n",
    "#print(x)\n",
    "n(x)\n",
    "print(x)"
   ]
  },
  {
   "cell_type": "markdown",
   "metadata": {},
   "source": [
    "# Aliasing <a name = 'aliasing' />\n",
    "Back to <a href = '#navigation'>Navigation</a>\n",
    "\n",
    "Aliasing the the act of referencing the same memory location/variable using multiple names.  It happens most often unintentionally and can cause a frustrating debugging adventure.\n",
    "\n",
    "with <font face='courier'>int</font> and <font face='courier'>float</font> data types there is no chance of aliasing.  Everything works intuitively.  When we change the value of <font face='courier'>p</font> we change only its value and not the value of <font face='courier'>q</font>.  The converse is true when we change the value of <font face='courier'>q</font>."
   ]
  },
  {
   "cell_type": "code",
   "execution_count": null,
   "metadata": {},
   "outputs": [],
   "source": [
    "p = 1\n",
    "q = p\n",
    "p = 2\n",
    "print('p =',p,'     q =',q)"
   ]
  },
  {
   "cell_type": "markdown",
   "metadata": {},
   "source": [
    "When we assign a list to another list, however, both list names point to the same data, which is to say that they both pint to the same place in memory."
   ]
  },
  {
   "cell_type": "code",
   "execution_count": null,
   "metadata": {},
   "outputs": [],
   "source": [
    "x = [1,2]\n",
    "y = x\n",
    "y[0] = 99\n",
    "print('x =',x,'     y =',y)"
   ]
  },
  {
   "cell_type": "markdown",
   "metadata": {},
   "source": [
    "We often need to create a list, or list of lists, to receive our computations, such as when we are computing the tranpose of a lsit of lists.  Using the apprach above would create aliasing and we would either end up with a matrix with the wrong values, or we would corrupt the original matrix, or both.\n",
    "\n",
    "One safe way to create a list of lists of the same dimension as an existing list of lists, use the approach in the cell below."
   ]
  },
  {
   "cell_type": "code",
   "execution_count": null,
   "metadata": {},
   "outputs": [],
   "source": [
    "X = [[0,1,2],[3,4,5],[6,7,8]]  # original list of lists\n",
    "Y = [[0 for i in range(len(X[0]))] for j in range(len(X))] # list of lists to receive the transpose\n",
    "print('Y  =',Y,'\\n')\n",
    "Y[0][0] = 99\n",
    "print('Y =',Y,'\\n')\n",
    "print('X =',X,'\\n')"
   ]
  },
  {
   "cell_type": "markdown",
   "metadata": {},
   "source": [
    "You may also import the <font face='courier'>copy</font> package and use the <font face='courier'>copy.deepcopy()</font> method (see [<font face='courier'>list.copy() function</font>](https://docs.python.org/3.6/library/copy.html)) but I prefer the approach above."
   ]
  },
  {
   "cell_type": "markdown",
   "metadata": {},
   "source": [
    "I have had issues with aliasing with the methods below, so <font color='red'><b>DO NOT USE THE METHODS BELOW</b></font>."
   ]
  },
  {
   "cell_type": "code",
   "execution_count": null,
   "metadata": {},
   "outputs": [],
   "source": [
    "X = [[0,1,2],[3,4,5],[6,7,8]]  # original list of lists\n",
    "Y = [[0] * len(X[0])]  * len(X)  # list of lists to receive the transpose\n",
    "print('Y  =',Y,'\\n')\n",
    "Y[0][0] = 99\n",
    "print('Y =',Y,'\\n')\n",
    "print('X =',X,'\\n')"
   ]
  },
  {
   "cell_type": "code",
   "execution_count": null,
   "metadata": {},
   "outputs": [],
   "source": [
    "X = [[0,1,2],[3,4,5],[6,7,8]]  # original list of lists\n",
    "Y = X.copy()  # list of lists to receive the transpose\n",
    "print('Y  =',Y,'\\n')\n",
    "Y[0][0] = 99\n",
    "print('Y =',Y,'\\n')\n",
    "print('X =',X,'\\n')"
   ]
  },
  {
   "cell_type": "markdown",
   "metadata": {},
   "source": [
    "These approaches successfully create copies of list while avoiding aliasing for 1-dimensional matrices, but they create aliasing with multidimensional matrices."
   ]
  },
  {
   "cell_type": "code",
   "execution_count": null,
   "metadata": {},
   "outputs": [],
   "source": [
    "X = [[0,1,2],[3,4,5],[6,7,8]]  # original list of lists\n",
    "Y = X[:]  # list of lists to receive the transpose\n",
    "print('Y  =',Y,'\\n')\n",
    "Y[0][0] = 99\n",
    "print('Y =',Y,'\\n')\n",
    "print('X =',X,'\\n')"
   ]
  },
  {
   "cell_type": "code",
   "execution_count": null,
   "metadata": {},
   "outputs": [],
   "source": [
    "X = [[0,1,2],[3,4,5],[6,7,8]]  # original list of lists\n",
    "Y = list(X) # list of lists to receive the transpose\n",
    "print('Y  =',Y,'\\n')\n",
    "Y[0][0] = 99\n",
    "print('Y =',Y,'\\n')\n",
    "print('X =',X,'\\n')"
   ]
  },
  {
   "cell_type": "code",
   "execution_count": null,
   "metadata": {},
   "outputs": [],
   "source": []
  }
 ],
 "metadata": {
  "kernelspec": {
   "display_name": "Python 3 (ipykernel)",
   "language": "python",
   "name": "python3"
  },
  "language_info": {
   "codemirror_mode": {
    "name": "ipython",
    "version": 3
   },
   "file_extension": ".py",
   "mimetype": "text/x-python",
   "name": "python",
   "nbconvert_exporter": "python",
   "pygments_lexer": "ipython3",
   "version": "3.7.13"
  }
 },
 "nbformat": 4,
 "nbformat_minor": 2
}
