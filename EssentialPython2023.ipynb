{
 "cells": [
  {
   "cell_type": "markdown",
   "metadata": {},
   "source": [
    "# Goals of this Notebook\n",
    "\n",
    "To learn or recall:\n",
    "- Iteration through elements in data structures\n",
    "  - <code>for</code> loops\n",
    "  - <code>while</code> loops\n",
    "  - When each type of loop is best\n",
    "    - Accessing data in variables\n",
    "    - Altering data in variables\n",
    "    - Creating variables\n",
    "- Alternatives for creating variables that are collections of elements\n",
    "  - List comprehension\n",
    "  - Dictionary comprehension\n",
    "  - Set comprehension\n",
    "- Other general functions\n",
    "  - Ternary functions\n",
    "- Helpful function for <code>for</code> loops\n",
    "  - <code>enumerate()</code>\n",
    "- Other functions for handling variables that are collections of elements\n",
    "  - <code>zip()</code> Function\n",
    "  - <code>map()</code> Function\n",
    "  - <code>filter()</code> Function\n",
    "  \n",
    "While the <font face='courier'>numpy</font> and <font face='courier'>pandas</font> packages have utilities for inputting data into <code>arrays</code> and <code>DataFrames</code>, respectively, programmers need to often input data files with base Python statements, and so we will demonstrate how to do that.  This knowledge is also essential for understanding what <font face='courier'>numpy</font> and <font face='courier'>pandas</font> are doing under the covers. In addition, data input provides a good opportunity for gaining experience with <code>for</code> loops which you will use in virtually every program you write.   \n",
    "\n",
    "In addition, while the <font face='courier'>numpy</font> and <font face='courier'>pandas</font> packages ease data acquisition, they hide important details from you which are very important to know.  So, if you understand how to input data with base Python, then you will be in a better position to troubleshoot problems you might have with inputting data with <font face='courier'>numpy</font> and <font face='courier'>pandas</font>.\n",
    "\n",
    "  \n",
    "# Topics & Navigation <a name='navigation' />\n",
    "- <a href = #ItIt>Iteration and Iterables</a>\n",
    "- <a href = #data_for_loop>Text File Input with For Loops</a>\n",
    "- <a href = #OtherComp>Comprehension Methods</a>\n",
    "  - <a href = #ListComprehension>List Comprehension</a>\n",
    "  - <a href = #DictComp>Dictionary Comprehension</a>\n",
    "  - <a href = #SetComp>Set Comprehension</a>\n",
    "- <a href = #enumerate>For loops with <code>enumerate</code></a>\n",
    "- <a href = #zip_map_filter><code>zip()</code>, <code>map()</code>, and <code>filter()</code> Functions</a>\n",
    "  - <a href = #asterisk_op><code>*</code> Operator</a>\n",
    "  - <a href = #zip><code>zip()</code> Function</a>\n",
    "  - <a href = #map><code>map()</code> Function</a>\n",
    "  - <a href = #filter><code>filter()</code> Function</a>\n",
    "  - <a href = #apps_zip_map_filter>Applications of <code>zip()</code>, <code>map()</code>, and <code>filter()</code></a>\n",
    "- <a href = #aliasing>Aliasing</a>\n",
    "- <a href = #RefVal>Passing References and Values</a>\n",
    "- <a href = #Ternary> If-Else (Ternary) Statement</a>\n"
   ]
  },
  {
   "cell_type": "markdown",
   "metadata": {},
   "source": [
    "# Iteration and Iterables<a name='ItIt' />\n",
    "Back to <a href = '#navigation'>Navigation</a>\n",
    "\n",
    "## _Iterables_   <a name='Iterables' />\n",
    "\n",
    "We are familiar with <code>for</code> loops, which provide a basis for an effective functional definition of an _iterable_ data type, which is a data type that:\n",
    "\n",
    "- can contain 0, 1, or many elements\n",
    "- can be used with a <code>for</code> statement so that each element of the _iterable_ data type is made available in the iterations of the <code>for</code> loop\n",
    "\n",
    "<code>for x in _put-iterable-here_:\n",
    "    ...</code>\n",
    "    \n",
    "These are well-known basic Python _iterable_ data types:\n",
    "\n",
    "- list\n",
    "- range()\n",
    "- tuple\n",
    "- dictionary\n",
    "- set\n",
    "- string\n",
    "\n",
    "The term _iterable_ is often used as a noun, as a short form of '_iterable_ data type'.\n",
    "\n",
    "The cells below illustrate how these data types are iterable in <code>for</code> loops.\n",
    "\n",
    "We will later show other data types that are iterable and, therefore, can be included in <code>for</code> loops and in list comprehension statements.\n",
    "\n",
    "Computers are powerful because they can iterate through large data sets and make computations. Iterable data and loops are the programming components that enable that capability."
   ]
  },
  {
   "cell_type": "markdown",
   "metadata": {},
   "source": [
    "### Looping by element"
   ]
  },
  {
   "cell_type": "code",
   "execution_count": 1,
   "metadata": {},
   "outputs": [],
   "source": [
    "my_list = [0, 1, 2]\n",
    "my_range = range(3)\n",
    "my_tup = (0, 1, 2)\n",
    "my_dct = {0:'zero', 1:'one', 2:'two'}\n",
    "my_set = {0, 1, 2}\n",
    "my_str = 'hello'"
   ]
  },
  {
   "cell_type": "code",
   "execution_count": null,
   "metadata": {},
   "outputs": [],
   "source": [
    "for e in my_list:\n",
    "    print(e)"
   ]
  },
  {
   "cell_type": "code",
   "execution_count": null,
   "metadata": {},
   "outputs": [],
   "source": [
    "for e in my_range:\n",
    "    print(e)"
   ]
  },
  {
   "cell_type": "code",
   "execution_count": null,
   "metadata": {},
   "outputs": [],
   "source": [
    "for e in my_tup:\n",
    "    print(e)"
   ]
  },
  {
   "cell_type": "code",
   "execution_count": 3,
   "metadata": {},
   "outputs": [
    {
     "name": "stdout",
     "output_type": "stream",
     "text": [
      "(0, 'zero')\n",
      "(1, 'one')\n",
      "(2, 'two')\n"
     ]
    }
   ],
   "source": [
    "for e in my_dct.items():\n",
    "    print(e)"
   ]
  },
  {
   "cell_type": "code",
   "execution_count": null,
   "metadata": {},
   "outputs": [],
   "source": [
    "for e in my_set:\n",
    "    print(e)"
   ]
  },
  {
   "cell_type": "code",
   "execution_count": 4,
   "metadata": {},
   "outputs": [
    {
     "name": "stdout",
     "output_type": "stream",
     "text": [
      "h\n",
      "e\n",
      "l\n",
      "l\n",
      "o\n"
     ]
    }
   ],
   "source": [
    "for e in my_str:\n",
    "    print(e)"
   ]
  },
  {
   "cell_type": "markdown",
   "metadata": {},
   "source": [
    "### Looping by index"
   ]
  },
  {
   "cell_type": "code",
   "execution_count": null,
   "metadata": {},
   "outputs": [],
   "source": [
    "for i in range(len(my_list)):\n",
    "    print(my_list[i])"
   ]
  },
  {
   "cell_type": "markdown",
   "metadata": {},
   "source": [
    "Looping by index is required when the variable elements are being changed."
   ]
  },
  {
   "cell_type": "code",
   "execution_count": 15,
   "metadata": {},
   "outputs": [],
   "source": [
    "this_list = ['1','2','3','4','5']"
   ]
  },
  {
   "cell_type": "code",
   "execution_count": 16,
   "metadata": {},
   "outputs": [
    {
     "data": {
      "text/plain": [
       "['1', '2', '3', '4', '5']"
      ]
     },
     "execution_count": 16,
     "metadata": {},
     "output_type": "execute_result"
    }
   ],
   "source": [
    "for element in this_list:\n",
    "    element = int(element)\n",
    "this_list"
   ]
  },
  {
   "cell_type": "code",
   "execution_count": 17,
   "metadata": {},
   "outputs": [
    {
     "data": {
      "text/plain": [
       "[1, 2, 3, 4, 5]"
      ]
     },
     "execution_count": 17,
     "metadata": {},
     "output_type": "execute_result"
    }
   ],
   "source": [
    "for i in range(len(this_list)):\n",
    "    this_list[i] = int(this_list[i])\n",
    "this_list"
   ]
  },
  {
   "cell_type": "markdown",
   "metadata": {},
   "source": [
    "##  Dictionaries <a name = \"dictionaries\" />\n",
    "Back to <a href = '#navigation'>Navigation</a>\n",
    "\n",
    "Dictionaries:\n",
    "- Are indicated by curly braces each of its elements, which are separated by commas, have two components separated by a colon\n",
    "- Dictionary element _keys_ are indicated before the colon\n",
    "- Dictionary element _values_ are indicated after the colon\n",
    "- Each key is unique: only one dictionary may have any particular key\n",
    "- We often think of a dictionary key as a way to look up a dictionary value\n",
    "\n",
    "You can simply use a key to look up a dictionary value or change the value."
   ]
  },
  {
   "cell_type": "code",
   "execution_count": 10,
   "metadata": {},
   "outputs": [],
   "source": [
    "# Example dictionary\n",
    "myDiction = {0:'cero', 1:'uno', 2:'sod', 3:'tres'}"
   ]
  },
  {
   "cell_type": "markdown",
   "metadata": {},
   "source": [
    "Referring to a dictionary element by _key_"
   ]
  },
  {
   "cell_type": "code",
   "execution_count": null,
   "metadata": {},
   "outputs": [],
   "source": [
    "print(myDiction[2])"
   ]
  },
  {
   "cell_type": "markdown",
   "metadata": {},
   "source": [
    "Creating or changing a dictionary value associated with a key by placing the reference to the dictionary element on the left dise of an assignment statement"
   ]
  },
  {
   "cell_type": "code",
   "execution_count": null,
   "metadata": {},
   "outputs": [],
   "source": [
    "myDiction[2] = 'dos'\n",
    "print(myDiction)"
   ]
  },
  {
   "cell_type": "code",
   "execution_count": null,
   "metadata": {},
   "outputs": [],
   "source": [
    "myDiction[4] = 'quatro'"
   ]
  },
  {
   "cell_type": "markdown",
   "metadata": {},
   "source": [
    "## Looping through Dictionaries\n",
    "\n",
    "We can iterate through dictionaries in three modes:\n",
    "- By keys\n",
    "- By values\n",
    "- By keys and values\n",
    "\n",
    "Dictionaries are by default _iterated_ through by key, which means that we access all of the uniques in one manner or another.  Two of the ways are illustrated below, the first of which shows that when we simply put the dictionary name in a for statement, we iterate through teh keys by default.  We can also explicitly use the <font face = 'courier'>.keys()</font> property of dictionaries to remind ourselves that we are iterating through the keys: this is the second approach below."
   ]
  },
  {
   "cell_type": "code",
   "execution_count": 12,
   "metadata": {},
   "outputs": [
    {
     "name": "stdout",
     "output_type": "stream",
     "text": [
      "0\n",
      "1\n",
      "2\n",
      "3\n"
     ]
    }
   ],
   "source": [
    "for key in myDiction:\n",
    "    print(key)"
   ]
  },
  {
   "cell_type": "code",
   "execution_count": 13,
   "metadata": {},
   "outputs": [
    {
     "name": "stdout",
     "output_type": "stream",
     "text": [
      "0\n",
      "1\n",
      "2\n",
      "3\n"
     ]
    }
   ],
   "source": [
    "for k in myDiction.keys():\n",
    "    print(k)"
   ]
  },
  {
   "cell_type": "code",
   "execution_count": 14,
   "metadata": {},
   "outputs": [
    {
     "name": "stdout",
     "output_type": "stream",
     "text": [
      "cero\n",
      "uno\n",
      "sod\n",
      "tres\n"
     ]
    }
   ],
   "source": [
    "for v in myDiction.values():\n",
    "    print(v)"
   ]
  },
  {
   "cell_type": "markdown",
   "metadata": {},
   "source": [
    "A frequently-used method of looping explicitly through both the keys and values in a dictionary is as follows using the <font face = 'courier'>.items()</font> method of dictionaries.  When two dummy variables are used in the for statement each key and value pair are _unpacked_ into the two variables."
   ]
  },
  {
   "cell_type": "code",
   "execution_count": null,
   "metadata": {},
   "outputs": [],
   "source": [
    "for key,value in myDiction.items():\n",
    "    print(key,value)"
   ]
  },
  {
   "cell_type": "markdown",
   "metadata": {},
   "source": [
    "Or, you can use this more succinct code.  As you get more experience it will be obvious that you are dealing with a dictionary and <font face='courier'>k</font> is the key and <font face='courier'>v</font> is the value."
   ]
  },
  {
   "cell_type": "code",
   "execution_count": null,
   "metadata": {},
   "outputs": [],
   "source": [
    "for k,v in myDiction.items():\n",
    "    print(k,v)"
   ]
  },
  {
   "cell_type": "markdown",
   "metadata": {},
   "source": [
    "# Data Input with For Loops <a name='data_for_loop' />\n",
    "Back to <a href = '#navigation'>Navigation</a>\n",
    "\n",
    "## Full Disclosure\n",
    "\n",
    "As discussed previously, there exist easier ways to read data files into Python with <font face='courier'>numpy</font> and <font face='courier'>pandas</font> than using <code>for</code> loops, as shown below.\n",
    "\n",
    "It is best in many circumstances, however, to input data with base Python commands and avoiding learning this technique will be to your detriment later on.  Besides inputting data and learning basic Python text cleansing at the same time, competence with <code>for</code> loops is important basis for learning:\n",
    "- List comprehension\n",
    "- Dictionary and set comprehension\n",
    "- Generators and iterators"
   ]
  },
  {
   "cell_type": "code",
   "execution_count": null,
   "metadata": {},
   "outputs": [],
   "source": [
    "import numpy as np\n",
    "import pandas as pd"
   ]
  },
  {
   "cell_type": "code",
   "execution_count": null,
   "metadata": {},
   "outputs": [],
   "source": [
    "np_nw1999 = np.genfromtxt('files/NorfolkWeather1999.csv', delimiter = ',')\n",
    "np_nw1999[:5]"
   ]
  },
  {
   "cell_type": "code",
   "execution_count": null,
   "metadata": {},
   "outputs": [],
   "source": [
    "df_nw2018 = pd.read_csv('files/NorfolkWeather2018.csv', names = ['index', 'temp'], index_col = 'index')\n",
    "df_nw2018[:5]"
   ]
  },
  {
   "cell_type": "markdown",
   "metadata": {},
   "source": [
    "# Handling Data with Basic Python\n"
   ]
  },
  {
   "cell_type": "markdown",
   "metadata": {},
   "source": [
    "This first statement imports <font face = 'courier'>matplotlib</font>.  "
   ]
  },
  {
   "cell_type": "code",
   "execution_count": 19,
   "metadata": {},
   "outputs": [],
   "source": [
    "import matplotlib.pyplot as plt "
   ]
  },
  {
   "cell_type": "markdown",
   "metadata": {},
   "source": [
    "## 1D Data\n",
    "\n",
    "\n",
    "* In a nutshell\n",
    "  * 1-dimensional time series data\n",
    "  * Inputting data from text file\n",
    "  * Computing moving average\n",
    "\n",
    "_Time series data_ are data that are collected over time at constant intervals.  Examples include, daily or hourly weather data, daily sales of an item or all company sales in total (either in units or dollar volume), number of daily visits to a web site, and annual gross domestic product.\n",
    "\n",
    "One issue that arises with time series data is to summarize the pattern over time despite there being frequent highs and lows (noise) and highs and lows over longer periods (either economic cycles or seasonal effects).  The _moving average_ is frequently used to summarize the trend that is muddied by noise over the short-term.\n",
    "\n",
    "We will work with inputting two 1D time series from two text files.\n",
    "- <code>NorfolkWeather1999_1.csv</code>\n",
    "- <code>NorfolkWeather2008_1.csv</code>\n",
    "\n",
    "Note that data read from text files is always interpreted as string data.  It must be converted to numerical quantitites for plotting. "
   ]
  },
  {
   "cell_type": "code",
   "execution_count": null,
   "metadata": {},
   "outputs": [],
   "source": [
    "f = open('files/NorfolkWeather1999_1.csv','r')\n",
    "nw1999 = f.readlines()\n",
    "f.close()\n",
    "\n",
    "for i in range(len(nw1999)):\n",
    "    nw1999[i] = float(nw1999[i])\n",
    "\n",
    "x = range(len(nw1999))\n",
    "plt.plot(x, nw1999, label = '1999')\n",
    "plt.show()"
   ]
  },
  {
   "cell_type": "markdown",
   "metadata": {},
   "source": [
    "Note the improved method of opening files for input below.  No <code>f.close()</code> statement is needed as the file is implicitly closed after completion of the code within the <code>with</code> block.  This approach is less prone to errors.  The same method can be used also when writing to files."
   ]
  },
  {
   "cell_type": "code",
   "execution_count": 20,
   "metadata": {
    "collapsed": true
   },
   "outputs": [
    {
     "data": {
      "image/png": "[encoded data removed]",
      "text/plain": [
       "<Figure size 640x480 with 1 Axes>"
      ]
     },
     "metadata": {},
     "output_type": "display_data"
    }
   ],
   "source": [
    "with open('files/NorfolkWeather1999_1.csv','r') as f:\n",
    "    nw1999 = f.readlines()\n",
    "\n",
    "for i in range(len(nw1999)):\n",
    "    nw1999[i] = float(nw1999[i])\n",
    "\n",
    "x = range(len(nw1999))\n",
    "plt.plot(x, nw1999, label = '1999')\n",
    "plt.show()"
   ]
  },
  {
   "cell_type": "markdown",
   "metadata": {},
   "source": [
    "We can iterate through copies of values with a <code>for</code> loop in this situation as well as long as we accumulate the data in another variable with <code>.append</code>."
   ]
  },
  {
   "cell_type": "code",
   "execution_count": null,
   "metadata": {},
   "outputs": [],
   "source": [
    "with open('files/NorfolkWeather1999_1.csv','r') as f:\n",
    "    data = f.readlines()\n",
    "\n",
    "for t in nw1999:\n",
    "    nw1999.append(float(t))\n",
    "\n",
    "x = range(len(nw1999))\n",
    "plt.plot(x, nw1999, label = '1999')\n",
    "plt.show()"
   ]
  },
  {
   "cell_type": "markdown",
   "metadata": {},
   "source": [
    "## A 1D Data Application: The Moving Average\n",
    "\n",
    "Let our time series data be collected for time indices $d \\in \\left\\lbrace 0, ... , D-1 \\right\\rbrace$, where $d$ stands for the index for a given day. We will be considering daily time series for a year, so $D=365$.  A moving average, $ma_n(d)$ of $n$ days for day $d$ is defined as:\n",
    "\n",
    "$ma_n(d) = \\frac{1}{n} \\Sigma_{i = d-n+1}^d t(i)$\n",
    "\n",
    "where $t(d)$ is the average temperature for day $d$.  Note that $ma(d)$ is defined only for day in this range: $d \\in \\left\\lbrace n-1, \\ldots ,    D-1 \\right\\rbrace$.\n",
    "\n",
    "*Click on the image below* to see a visualization of how a moving average is computed in a way that may be more clear than the math above.\n",
    "\n",
    "[![Moving Average Animation](https://img.youtube.com/vi/rq__3P_rs4M/0.jpg)](https://www.youtube.com/watch?v=rq__3P_rs4M)\n",
    "\n",
    "The files <font face = 'courier'>NorfolkWeather1999_1.csv</font> and <font face = 'courier'>NorfolkWeather2018_1.csv</font>  have the daily average temperatures for the years indicated in the filenames.  Load each of these text files into a list (load only the daily average temperature and not the row index), and then create new lists, <font face = 'courier'>ma1999</font> and <font face = 'courier'>ma2018</font>, that are 10-day moving averages of the original data.\n",
    "\n",
    "Although we are not focusing on plotting in this session, we will compare the two moving average series using the <font face = 'courier'>matplotlib</font> package.\n",
    "\n",
    "Let's compute and plot the moving averages of the two data series using <font face = 'courier'>for</font> loops and compare the two results."
   ]
  },
  {
   "cell_type": "markdown",
   "metadata": {},
   "source": [
    "Read in the 2018 data."
   ]
  },
  {
   "cell_type": "code",
   "execution_count": 23,
   "metadata": {},
   "outputs": [
    {
     "data": {
      "image/png": "[encoded data removed]",
      "text/plain": [
       "<Figure size 640x480 with 1 Axes>"
      ]
     },
     "metadata": {},
     "output_type": "display_data"
    }
   ],
   "source": [
    "with open('files/NorfolkWeather2018_1.csv','r') as f:\n",
    "    nw2018 = f.readlines()\n",
    "\n",
    "for i in range(len(nw1999)):\n",
    "    nw2018[i] = float(nw2018[i])\n",
    "\n",
    "x = range(len(nw2018))\n",
    "plt.plot(x, nw2018, label = '2018')\n",
    "plt.show()"
   ]
  },
  {
   "cell_type": "code",
   "execution_count": 24,
   "metadata": {},
   "outputs": [
    {
     "data": {
      "image/png": "[encoded data removed]",
      "text/plain": [
       "<Figure size 640x480 with 1 Axes>"
      ]
     },
     "metadata": {},
     "output_type": "display_data"
    }
   ],
   "source": [
    "''' period: \n",
    "      * a variable representing the number of periods that are averaged together to create\n",
    "        the moving average \n",
    "      * Given the zero-based indexing of Python, the first moving average can be computed\n",
    "        in Period period - 1 '''\n",
    "period = 10\n",
    "\n",
    "ma1999 = []  # Initialize moving average list for 1999\n",
    "ma2018 = []  # Initialize moving average list for 2018\n",
    "\n",
    "for i in range(0, len(nw1999) - period + 1):\n",
    "    ma1999.append(sum(nw1999[i:i + period])/period)\n",
    "    ma2018.append(sum(nw2018[i:i + period])/period)\n",
    "\n",
    "plt.plot(ma1999, label = '1999')\n",
    "plt.plot(ma2018, label = '2018')\n",
    "plt.legend()\n",
    "\n",
    "plt.show()"
   ]
  },
  {
   "cell_type": "code",
   "execution_count": 25,
   "metadata": {},
   "outputs": [
    {
     "data": {
      "image/png": "[encoded data removed]",
      "text/plain": [
       "<Figure size 640x480 with 1 Axes>"
      ]
     },
     "metadata": {},
     "output_type": "display_data"
    }
   ],
   "source": [
    "plt.plot(ma1999, label = '1999 Avg.')\n",
    "plt.plot(nw1999, label = '1999 Temps')\n",
    "plt.legend()\n",
    "\n",
    "plt.show()"
   ]
  },
  {
   "cell_type": "markdown",
   "metadata": {},
   "source": [
    "## 2D Data Input\n",
    "\n",
    "These files have two data elements per line, an integer index and a temperature, separated by commas.\n",
    "\n",
    "- <code>NorfolkWeather1999.csv</code>\n",
    "- <code>NorfolkWeather2008.csv</code>\n",
    "\n",
    "We'll need to take extra care to split the elements of each line at the commas before we convert the data to numerical values.  __Please note that we do not split the data when there exists only one element per row, but we do need split row elements apart when multiple are in each row of data.__"
   ]
  },
  {
   "cell_type": "code",
   "execution_count": null,
   "metadata": {},
   "outputs": [],
   "source": [
    "with open('files/NorfolkWeather1999.csv','r') as f:\n",
    "    nw1999 = f.readlines()\n",
    "\n",
    "x = []\n",
    "y1999 = []\n",
    "\n",
    "for i in range(len(nw1999)):\n",
    "    nw1999[i] = nw1999[i].strip()\n",
    "    nw1999[i] = nw1999[i].split(',')\n",
    "    x.append(int(nw1999[i][0]))\n",
    "    y1999.append(float(nw1999[i][1]))\n",
    "\n",
    "plt.plot(x, y1999, label = '1999')\n",
    "plt.show()"
   ]
  },
  {
   "cell_type": "markdown",
   "metadata": {},
   "source": [
    "Now, input the 2018 data."
   ]
  },
  {
   "cell_type": "code",
   "execution_count": null,
   "metadata": {},
   "outputs": [],
   "source": [
    "with open('files/NorfolkWeather2018.csv','r') as f:\n",
    "    nw2018 = f.readlines()\n",
    "\n",
    "y2018 = []\n",
    "\n",
    "for i in range(len(nw2018)):\n",
    "    nw2018[i] = nw2018[i].strip()\n",
    "    nw2018[i] = nw2018[i].split(',')\n",
    "    y2018.append(float(nw2018[i][1]))\n",
    "\n",
    "\"\"\" Plot both data series \"\"\"\n",
    "plt.plot(x, y1999, label = '1999')\n",
    "plt.plot(x, y2018, label = '2018')\n",
    "plt.legend()\n",
    "plt.show()"
   ]
  },
  {
   "cell_type": "markdown",
   "metadata": {},
   "source": [
    "## An Improvement: Chaining Commands\n",
    "\n",
    "Commands can be chained done whenever a command returns the data that is being manipulated, which sometimes is not case.  When an executed statement does not return the the data, then we say the operation is being executed _in place_.  \n",
    "\n",
    "Using <code>sort()</code> with a list is an _in place_ operation: it sorts the list for next time we access it, but it does not return the sortedlist so that we cannot use the <code>.sort()</code> method in an assignment statement to change the value of another variable.\n",
    "\n",
    "Using <font style=\"font-family:'courier'\">.strip()</font> and <font style=\"font-family:'courier'\">.split()</font> do return the revised data, as shown below, so they are not _in place_ operations."
   ]
  },
  {
   "cell_type": "code",
   "execution_count": null,
   "metadata": {},
   "outputs": [],
   "source": [
    "with open('files/NorfolkWeather1999.csv','r') as f:\n",
    "    nw1999 = f.readlines()\n",
    "\n",
    "x, y1999 = [], []\n",
    "\n",
    "for i in range(len(nw1999)):\n",
    "    nw1999[i] = nw1999[i].strip().split(',')\n",
    "    #nw1999[i] = nw1999[i].split(',')\n",
    "    x.append(int(nw1999[i][0]))\n",
    "    y1999.append(float(nw1999[i][1]))\n",
    "\n",
    "plt.plot(x, y1999, label = '1999')\n",
    "plt.show()"
   ]
  },
  {
   "cell_type": "markdown",
   "metadata": {},
   "source": [
    "## Another Improvement: A More General Function\n",
    "\n",
    "The two code blocks could be combined and the repetitive cleansing steps can be put into a function to clean up the code.  The function name <code>ssc()</code> is an acronym for strip, split, and convert."
   ]
  },
  {
   "cell_type": "code",
   "execution_count": null,
   "metadata": {},
   "outputs": [],
   "source": [
    "def ssc(data):\n",
    "    x = []\n",
    "    y = []\n",
    "    for i in range(len(data)):\n",
    "        data[i] = data[i].strip().split(',')\n",
    "        x.append(int(data[i][0]))\n",
    "        y.append(float(data[i][1]))\n",
    "    return x, y\n",
    "    \n",
    "with open('files/NorfolkWeather1999.csv','r') as f:\n",
    "    nw1999 = f.readlines()\n",
    "\n",
    "with open('files/NorfolkWeather2018.csv','r') as f:\n",
    "    nw2018 = f.readlines()\n",
    "\n",
    "x, y1999 = ssc(nw1999)\n",
    "x, y2018 = ssc(nw2018)\n",
    "plt.plot(x, y1999, label = '1999')\n",
    "plt.plot(x, y2018, label = '2018')\n",
    "plt.legend()\n",
    "plt.show()"
   ]
  },
  {
   "cell_type": "markdown",
   "metadata": {},
   "source": [
    "## Generalized 2D Input\n",
    "\n",
    "Rows of data most often will have more than two elements in which case it makes sense to loop through the row elements with a <code>for</code> loop rather than converting the row elements explicitly, as we have done previously.\n",
    "\n",
    "This approach is not flexible, however, and we would need to write a new function each time we wanted to convert data in an input file depending on how many fields were in the data and what types we wanted to convert them to.  The conversion function can be made more flexible by supplying it with the data for conversion in the form of a dictionary with its keys equal to the column indices and its values indicating the data types."
   ]
  },
  {
   "cell_type": "code",
   "execution_count": 27,
   "metadata": {},
   "outputs": [],
   "source": [
    "def ssc_2d_map(convert, data):\n",
    "    for i in range(len(data)):\n",
    "        data[i] = data[i].strip().split(',')\n",
    "        for j, mk_type in convert.items():\n",
    "            data[i][j] = mk_type(data[i][j])\n",
    "    return data"
   ]
  },
  {
   "cell_type": "code",
   "execution_count": null,
   "metadata": {},
   "outputs": [],
   "source": [
    "with open('files/NorfolkWeather1999.csv','r') as f:\n",
    "    nw1999 = f.readlines()\n",
    "\n",
    "''' convert_map dictionary: key = filed index; value = data type'''\n",
    "convert_map = {0:int, 1:float}\n",
    "nw1999 = ssc_2d_map(convert_map, nw1999)\n",
    "\n",
    "''' Create x and y series data '''\n",
    "x = []\n",
    "y1999 = []\n",
    "for point in nw1999:\n",
    "    x.append(point[0])\n",
    "    y1999.append(point[1])\n",
    "    \n",
    "plt.plot(x, y1999, label = '1999')\n",
    "plt.show()"
   ]
  },
  {
   "cell_type": "markdown",
   "metadata": {},
   "source": [
    "We can simplify one of the functions above as follows.  This is possible because some Python data types are altered _in place_ in functions so that we do not need to return them.  For people with CS backgrounds this is the difference of passing variables to function by reference versus by value.  We will discuss this concept (and when you can use it) later in the lecture."
   ]
  },
  {
   "cell_type": "code",
   "execution_count": 90,
   "metadata": {},
   "outputs": [],
   "source": [
    "def ssc_2d_map_1(convert, data):\n",
    "    for i in range(len(data)):\n",
    "        data[i] = data[i].strip().split(',')\n",
    "        for j, mk_type in convert.items():\n",
    "            data[i][j] = mk_type(data[i][j])\n",
    "    #return data"
   ]
  },
  {
   "cell_type": "code",
   "execution_count": 91,
   "metadata": {},
   "outputs": [
    {
     "name": "stdout",
     "output_type": "stream",
     "text": [
      "['0,32.0\\n', '1,43.0\\n', '2,55.0\\n', '3,38.0\\n', '4,26.0\\n', '5,28.0\\n', '6,43.0\\n', '7,45.0\\n', '8,51.0\\n', '9,30.0\\n', '10,36.0\\n', '11,50.0\\n', '12,53.0\\n', '13,47.0\\n', '14,48.0\\n', '15,43.0\\n', '16,47.0\\n', '17,57.0\\n', '18,48.0\\n', '19,48.0\\n', '20,55.0\\n', '21,57.0\\n', '22,69.0\\n', '23,57.0\\n', '24,48.0\\n', '25,41.0\\n', '26,50.0\\n', '27,63.0\\n', '28,51.0\\n', '29,41.0\\n', '30,36.0\\n', '31,44.0\\n', '32,59.0\\n', '33,49.0\\n', '34,51.0\\n', '35,42.0\\n', '36,48.0\\n', '37,48.0\\n', '38,44.0\\n', '39,46.0\\n', '40,47.0\\n', '41,48.0\\n', '42,57.0\\n', '43,40.0\\n', '44,36.0\\n', '45,40.0\\n', '46,50.0\\n', '47,57.0\\n', '48,53.0\\n', '49,43.0\\n', '50,41.0\\n', '51,35.0\\n', '52,31.0\\n', '53,31.0\\n', '54,36.0\\n', '55,39.0\\n', '56,41.0\\n', '57,41.0\\n', '58,56.0\\n', '59,47.0\\n', '60,47.0\\n', '61,59.0\\n', '62,45.0\\n', '63,41.0\\n', '64,53.0\\n', '65,46.0\\n', '66,33.0\\n', '67,34.0\\n', '68,37.0\\n', '69,40.0\\n', '70,43.0\\n', '71,39.0\\n', '72,50.0\\n', '73,39.0\\n', '74,47.0\\n', '75,61.0\\n', '76,64.0\\n', '77,49.0\\n', '78,45.0\\n', '79,51.0\\n', '80,50.0\\n', '81,49.0\\n', '82,64.0\\n', '83,52.0\\n', '84,45.0\\n', '85,41.0\\n', '86,47.0\\n', '87,56.0\\n', '88,54.0\\n', '89,56.0\\n', '90,65.0\\n', '91,55.0\\n', '92,55.0\\n', '93,69.0\\n', '94,47.0\\n', '95,55.0\\n', '96,65.0\\n', '97,69.0\\n', '98,70.0\\n', '99,52.0\\n', '100,54.0\\n', '101,56.0\\n', '102,55.0\\n', '103,59.0\\n', '104,57.0\\n', '105,62.0\\n', '106,59.0\\n', '107,53.0\\n', '108,56.0\\n', '109,60.0\\n', '110,55.0\\n', '111,71.0\\n', '112,71.0\\n', '113,50.0\\n', '114,50.0\\n', '115,63.0\\n', '116,58.0\\n', '117,54.0\\n', '118,51.0\\n', '119,53.0\\n', '120,53.0\\n', '121,52.0\\n', '122,54.0\\n', '123,61.0\\n', '124,64.0\\n', '125,71.0\\n', '126,75.0\\n', '127,75.0\\n', '128,70.0\\n', '129,67.0\\n', '130,65.0\\n', '131,68.0\\n', '132,66.0\\n', '133,57.0\\n', '134,58.0\\n', '135,64.0\\n', '136,64.0\\n', '137,64.0\\n', '138,68.0\\n', '139,64.0\\n', '140,65.0\\n', '141,74.0\\n', '142,75.0\\n', '143,72.0\\n', '144,68.0\\n', '145,69.0\\n', '146,66.0\\n', '147,69.0\\n', '148,75.0\\n', '149,78.0\\n', '150,76.0\\n', '151,78.0\\n', '152,78.0\\n', '153,79.0\\n', '154,69.0\\n', '155,66.0\\n', '156,72.0\\n', '157,81.0\\n', '158,84.0\\n', '159,85.0\\n', '160,73.0\\n', '161,69.0\\n', '162,68.0\\n', '163,74.0\\n', '164,81.0\\n', '165,72.0\\n', '166,67.0\\n', '167,65.0\\n', '168,67.0\\n', '169,68.0\\n', '170,67.0\\n', '171,69.0\\n', '172,68.0\\n', '173,68.0\\n', '174,71.0\\n', '175,75.0\\n', '176,80.0\\n', '177,83.0\\n', '178,82.0\\n', '179,85.0\\n', '180,81.0\\n', '181,83.0\\n', '182,83.0\\n', '183,83.0\\n', '184,86.0\\n', '185,88.0\\n', '186,90.0\\n', '187,81.0\\n', '188,80.0\\n', '189,85.0\\n', '190,85.0\\n', '191,73.0\\n', '192,71.0\\n', '193,70.0\\n', '194,70.0\\n', '195,74.0\\n', '196,75.0\\n', '197,79.0\\n', '198,82.0\\n', '199,84.0\\n', '200,84.0\\n', '201,80.0\\n', '202,82.0\\n', '203,83.0\\n', '204,84.0\\n', '205,83.0\\n', '206,83.0\\n', '207,83.0\\n', '208,84.0\\n', '209,81.0\\n', '210,87.0\\n', '211,88.0\\n', '212,88.0\\n', '213,82.0\\n', '214,80.0\\n', '215,78.0\\n', '216,81.0\\n', '217,80.0\\n', '218,82.0\\n', '219,88.0\\n', '220,75.0\\n', '221,76.0\\n', '222,83.0\\n', '223,83.0\\n', '224,88.0\\n', '225,82.0\\n', '226,78.0\\n', '227,80.0\\n', '228,83.0\\n', '229,85.0\\n', '230,81.0\\n', '231,77.0\\n', '232,77.0\\n', '233,75.0\\n', '234,76.0\\n', '235,76.0\\n', '236,76.0\\n', '237,81.0\\n', '238,78.0\\n', '239,80.0\\n', '240,80.0\\n', '241,74.0\\n', '242,70.0\\n', '243,71.0\\n', '244,73.0\\n', '245,74.0\\n', '246,75.0\\n', '247,80.0\\n', '248,79.0\\n', '249,78.0\\n', '250,80.0\\n', '251,79.0\\n', '252,74.0\\n', '253,71.0\\n', '254,70.0\\n', '255,75.0\\n', '256,75.0\\n', '257,74.0\\n', '258,72.0\\n', '259,66.0\\n', '260,65.0\\n', '261,67.0\\n', '262,71.0\\n', '263,70.0\\n', '264,61.0\\n', '265,65.0\\n', '266,66.0\\n', '267,72.0\\n', '268,73.0\\n', '269,76.0\\n', '270,74.0\\n', '271,75.0\\n', '272,68.0\\n', '273,64.0\\n', '274,66.0\\n', '275,73.0\\n', '276,76.0\\n', '277,63.0\\n', '278,60.0\\n', '279,56.0\\n', '280,58.0\\n', '281,67.0\\n', '282,71.0\\n', '283,70.0\\n', '284,64.0\\n', '285,66.0\\n', '286,62.0\\n', '287,62.0\\n', '288,68.0\\n', '289,70.0\\n', '290,63.0\\n', '291,61.0\\n', '292,60.0\\n', '293,55.0\\n', '294,56.0\\n', '295,54.0\\n', '296,50.0\\n', '297,52.0\\n', '298,55.0\\n', '299,55.0\\n', '300,55.0\\n', '301,54.0\\n', '302,61.0\\n', '303,64.0\\n', '304,66.0\\n', '305,65.0\\n', '306,51.0\\n', '307,46.0\\n', '308,53.0\\n', '309,60.0\\n', '310,57.0\\n', '311,49.0\\n', '312,57.0\\n', '313,67.0\\n', '314,59.0\\n', '315,53.0\\n', '316,53.0\\n', '317,63.0\\n', '318,52.0\\n', '319,47.0\\n', '320,42.0\\n', '321,45.0\\n', '322,52.0\\n', '323,62.0\\n', '324,60.0\\n', '325,64.0\\n', '326,58.0\\n', '327,61.0\\n', '328,66.0\\n', '329,65.0\\n', '330,56.0\\n', '331,53.0\\n', '332,49.0\\n', '333,41.0\\n', '334,34.0\\n', '335,41.0\\n', '336,46.0\\n', '337,58.0\\n', '338,59.0\\n', '339,60.0\\n', '340,45.0\\n', '341,44.0\\n', '342,47.0\\n', '343,57.0\\n', '344,46.0\\n', '345,41.0\\n', '346,60.0\\n', '347,61.0\\n', '348,51.0\\n', '349,44.0\\n', '350,43.0\\n', '351,43.0\\n', '352,51.0\\n', '353,61.0\\n', '354,48.0\\n', '355,41.0\\n', '356,39.0\\n', '357,35.0\\n', '358,27.0\\n', '359,36.0\\n', '360,36.0\\n', '361,36.0\\n', '362,38.0\\n', '363,49.0\\n', '364,50.0']\n",
      "[[0, 32.0], [1, 43.0], [2, 55.0], [3, 38.0], [4, 26.0], [5, 28.0], [6, 43.0], [7, 45.0], [8, 51.0], [9, 30.0], [10, 36.0], [11, 50.0], [12, 53.0], [13, 47.0], [14, 48.0], [15, 43.0], [16, 47.0], [17, 57.0], [18, 48.0], [19, 48.0], [20, 55.0], [21, 57.0], [22, 69.0], [23, 57.0], [24, 48.0], [25, 41.0], [26, 50.0], [27, 63.0], [28, 51.0], [29, 41.0], [30, 36.0], [31, 44.0], [32, 59.0], [33, 49.0], [34, 51.0], [35, 42.0], [36, 48.0], [37, 48.0], [38, 44.0], [39, 46.0], [40, 47.0], [41, 48.0], [42, 57.0], [43, 40.0], [44, 36.0], [45, 40.0], [46, 50.0], [47, 57.0], [48, 53.0], [49, 43.0], [50, 41.0], [51, 35.0], [52, 31.0], [53, 31.0], [54, 36.0], [55, 39.0], [56, 41.0], [57, 41.0], [58, 56.0], [59, 47.0], [60, 47.0], [61, 59.0], [62, 45.0], [63, 41.0], [64, 53.0], [65, 46.0], [66, 33.0], [67, 34.0], [68, 37.0], [69, 40.0], [70, 43.0], [71, 39.0], [72, 50.0], [73, 39.0], [74, 47.0], [75, 61.0], [76, 64.0], [77, 49.0], [78, 45.0], [79, 51.0], [80, 50.0], [81, 49.0], [82, 64.0], [83, 52.0], [84, 45.0], [85, 41.0], [86, 47.0], [87, 56.0], [88, 54.0], [89, 56.0], [90, 65.0], [91, 55.0], [92, 55.0], [93, 69.0], [94, 47.0], [95, 55.0], [96, 65.0], [97, 69.0], [98, 70.0], [99, 52.0], [100, 54.0], [101, 56.0], [102, 55.0], [103, 59.0], [104, 57.0], [105, 62.0], [106, 59.0], [107, 53.0], [108, 56.0], [109, 60.0], [110, 55.0], [111, 71.0], [112, 71.0], [113, 50.0], [114, 50.0], [115, 63.0], [116, 58.0], [117, 54.0], [118, 51.0], [119, 53.0], [120, 53.0], [121, 52.0], [122, 54.0], [123, 61.0], [124, 64.0], [125, 71.0], [126, 75.0], [127, 75.0], [128, 70.0], [129, 67.0], [130, 65.0], [131, 68.0], [132, 66.0], [133, 57.0], [134, 58.0], [135, 64.0], [136, 64.0], [137, 64.0], [138, 68.0], [139, 64.0], [140, 65.0], [141, 74.0], [142, 75.0], [143, 72.0], [144, 68.0], [145, 69.0], [146, 66.0], [147, 69.0], [148, 75.0], [149, 78.0], [150, 76.0], [151, 78.0], [152, 78.0], [153, 79.0], [154, 69.0], [155, 66.0], [156, 72.0], [157, 81.0], [158, 84.0], [159, 85.0], [160, 73.0], [161, 69.0], [162, 68.0], [163, 74.0], [164, 81.0], [165, 72.0], [166, 67.0], [167, 65.0], [168, 67.0], [169, 68.0], [170, 67.0], [171, 69.0], [172, 68.0], [173, 68.0], [174, 71.0], [175, 75.0], [176, 80.0], [177, 83.0], [178, 82.0], [179, 85.0], [180, 81.0], [181, 83.0], [182, 83.0], [183, 83.0], [184, 86.0], [185, 88.0], [186, 90.0], [187, 81.0], [188, 80.0], [189, 85.0], [190, 85.0], [191, 73.0], [192, 71.0], [193, 70.0], [194, 70.0], [195, 74.0], [196, 75.0], [197, 79.0], [198, 82.0], [199, 84.0], [200, 84.0], [201, 80.0], [202, 82.0], [203, 83.0], [204, 84.0], [205, 83.0], [206, 83.0], [207, 83.0], [208, 84.0], [209, 81.0], [210, 87.0], [211, 88.0], [212, 88.0], [213, 82.0], [214, 80.0], [215, 78.0], [216, 81.0], [217, 80.0], [218, 82.0], [219, 88.0], [220, 75.0], [221, 76.0], [222, 83.0], [223, 83.0], [224, 88.0], [225, 82.0], [226, 78.0], [227, 80.0], [228, 83.0], [229, 85.0], [230, 81.0], [231, 77.0], [232, 77.0], [233, 75.0], [234, 76.0], [235, 76.0], [236, 76.0], [237, 81.0], [238, 78.0], [239, 80.0], [240, 80.0], [241, 74.0], [242, 70.0], [243, 71.0], [244, 73.0], [245, 74.0], [246, 75.0], [247, 80.0], [248, 79.0], [249, 78.0], [250, 80.0], [251, 79.0], [252, 74.0], [253, 71.0], [254, 70.0], [255, 75.0], [256, 75.0], [257, 74.0], [258, 72.0], [259, 66.0], [260, 65.0], [261, 67.0], [262, 71.0], [263, 70.0], [264, 61.0], [265, 65.0], [266, 66.0], [267, 72.0], [268, 73.0], [269, 76.0], [270, 74.0], [271, 75.0], [272, 68.0], [273, 64.0], [274, 66.0], [275, 73.0], [276, 76.0], [277, 63.0], [278, 60.0], [279, 56.0], [280, 58.0], [281, 67.0], [282, 71.0], [283, 70.0], [284, 64.0], [285, 66.0], [286, 62.0], [287, 62.0], [288, 68.0], [289, 70.0], [290, 63.0], [291, 61.0], [292, 60.0], [293, 55.0], [294, 56.0], [295, 54.0], [296, 50.0], [297, 52.0], [298, 55.0], [299, 55.0], [300, 55.0], [301, 54.0], [302, 61.0], [303, 64.0], [304, 66.0], [305, 65.0], [306, 51.0], [307, 46.0], [308, 53.0], [309, 60.0], [310, 57.0], [311, 49.0], [312, 57.0], [313, 67.0], [314, 59.0], [315, 53.0], [316, 53.0], [317, 63.0], [318, 52.0], [319, 47.0], [320, 42.0], [321, 45.0], [322, 52.0], [323, 62.0], [324, 60.0], [325, 64.0], [326, 58.0], [327, 61.0], [328, 66.0], [329, 65.0], [330, 56.0], [331, 53.0], [332, 49.0], [333, 41.0], [334, 34.0], [335, 41.0], [336, 46.0], [337, 58.0], [338, 59.0], [339, 60.0], [340, 45.0], [341, 44.0], [342, 47.0], [343, 57.0], [344, 46.0], [345, 41.0], [346, 60.0], [347, 61.0], [348, 51.0], [349, 44.0], [350, 43.0], [351, 43.0], [352, 51.0], [353, 61.0], [354, 48.0], [355, 41.0], [356, 39.0], [357, 35.0], [358, 27.0], [359, 36.0], [360, 36.0], [361, 36.0], [362, 38.0], [363, 49.0], [364, 50.0]]\n"
     ]
    }
   ],
   "source": [
    "with open('files/NorfolkWeather1999.csv','r') as f:\n",
    "    data = f.readlines()\n",
    "\n",
    "convert_map = {0:int, 1:float}\n",
    "print(data)\n",
    "#data = ssc3(data)\n",
    "ssc_2d_map_1(convert_map, data)\n",
    "        \n",
    "print(data)"
   ]
  },
  {
   "cell_type": "markdown",
   "metadata": {},
   "source": [
    "## 2D Input Exercise\n",
    "\n",
    "In this case we will read in a matrix or array of values from the file <code>matrix.csv</code>.  Create a list of lists where each sublist contains the elements from each row of the data file."
   ]
  },
  {
   "cell_type": "code",
   "execution_count": null,
   "metadata": {},
   "outputs": [],
   "source": [
    "with open('files/matrix.csv', 'r') as f:\n",
    "    data = f.readlines()\n",
    "\n",
    "''' Let us finish the code here '''\n",
    "data"
   ]
  },
  {
   "cell_type": "code",
   "execution_count": null,
   "metadata": {},
   "outputs": [],
   "source": [
    "a = [[0,1,2,3],[4,5,6,7], [8,9,10,11], [12,13,14,15]]"
   ]
  },
  {
   "cell_type": "code",
   "execution_count": null,
   "metadata": {},
   "outputs": [],
   "source": [
    "rows = 8\n",
    "cols = 2\n",
    "\n",
    "# Flatten the list of lists: 1 by 16\n",
    "temp = []\n",
    "for row in a:\n",
    "    for ele in row:\n",
    "        temp.append(ele)\n",
    "print(temp)\n",
    "\n",
    "b = []\n",
    "for r in range(rows):\n",
    "    newRow = []\n",
    "    for c in range(cols):\n",
    "        newRow.append(temp[r*cols + c])\n",
    "    b.append(newRow)\n",
    "print(b)"
   ]
  },
  {
   "cell_type": "markdown",
   "metadata": {},
   "source": [
    "# From Loops to List Comprehesion <a name='ListComprehension' />\n",
    "Back to <a href = '#navigation'>Navigation</a>\n",
    "\n",
    "List comprehension is a technique for condensing the number of statements required to create a new list using for loops.  \n",
    "\n",
    "- More succinct code\n",
    "- More readable code\n",
    "- Faster than <code>for</code> loops\n",
    "\n",
    "The cells immediately below demonstrate the simplest form of list comprehension."
   ]
  },
  {
   "cell_type": "code",
   "execution_count": null,
   "metadata": {},
   "outputs": [],
   "source": [
    "import random\n",
    "numElements = 10\n",
    "newList = []\n",
    "\n",
    "for i in range(numElements):\n",
    "    newList.append(random.random())\n",
    "newList"
   ]
  },
  {
   "cell_type": "markdown",
   "metadata": {},
   "source": [
    "The method for converting a <code>for</code> loop into a list comprehension state is illustrated below.\n",
    "\n",
    "![List Comprehension Structure](images/listComprehension1.jpg)\n",
    "![List Comprehension Example](images/listComprehension.jpg)"
   ]
  },
  {
   "cell_type": "code",
   "execution_count": null,
   "metadata": {},
   "outputs": [],
   "source": [
    "import random\n",
    "numElements = 10\n",
    "\n",
    "newList1 = [random.random() for i in range(numElements)]\n",
    "newList1"
   ]
  },
  {
   "cell_type": "markdown",
   "metadata": {},
   "source": [
    "Logic can be applied within list comprehension statements to filter the elements appended to the list."
   ]
  },
  {
   "cell_type": "code",
   "execution_count": null,
   "metadata": {},
   "outputs": [],
   "source": [
    "newList2 = []\n",
    "\n",
    "for i in range(21):\n",
    "    if i % 2 ==0:\n",
    "        newList2.append(i)\n",
    "newList2"
   ]
  },
  {
   "cell_type": "markdown",
   "metadata": {},
   "source": [
    "\n",
    "\n",
    "![List Comprehension Structure w/Logic](images/listComprehension2.jpg)\n",
    "\n",
    "For example, we could use the following code if we wanted to create a list of even numbers through 20."
   ]
  },
  {
   "cell_type": "code",
   "execution_count": null,
   "metadata": {},
   "outputs": [],
   "source": [
    "newList3 = [i for i in range(21) if i%2 == 0]\n",
    "newList3"
   ]
  },
  {
   "cell_type": "markdown",
   "metadata": {},
   "source": [
    "Compound Boolean filtering logic can be used as well."
   ]
  },
  {
   "cell_type": "code",
   "execution_count": null,
   "metadata": {},
   "outputs": [],
   "source": [
    "newList4 = [i for i in range(21) if i%2 == 0 and i>7]\n",
    "newList4"
   ]
  },
  {
   "cell_type": "markdown",
   "metadata": {},
   "source": [
    "More complex <code>if-elif-else</code> logic can be implemented, although having multiple levels can make the statement difficult to read.\n",
    "\n",
    "Notice that the location of the Boolean statement changes when the <code>else</code> is introduced."
   ]
  },
  {
   "cell_type": "code",
   "execution_count": null,
   "metadata": {},
   "outputs": [],
   "source": [
    "newList5 = []\n",
    "for i in range(21):\n",
    "    if i % 2 == 0:\n",
    "        newList5.append(i)\n",
    "    else:\n",
    "        newList5.append('')\n",
    "\n",
    "newList5"
   ]
  },
  {
   "cell_type": "markdown",
   "metadata": {},
   "source": [
    "\n",
    "![List Comprehension Structure w/If-Else](images/list_comp_if_else.jpg)\n"
   ]
  },
  {
   "cell_type": "code",
   "execution_count": null,
   "metadata": {},
   "outputs": [],
   "source": [
    "newList5 = [i if i % 2 == 0 else '' for i in range(21)]\n",
    "newList5"
   ]
  },
  {
   "cell_type": "markdown",
   "metadata": {},
   "source": [
    "Keeping the <code>if</code> list comprehension statement syntax straight with the <code>if-else</code> syntax can be difficult.  The reason the <code>if</code> and the else go together are that, together, they form a coherent Python statement, which is called a _ternary_ statement, which can be used in an assignment statement.\n",
    "\n",
    "When the ternary statement is viewed as a single statement, this form of list comprehension really is of the same for of the most simplest version without a conditional statement that we discussed first."
   ]
  },
  {
   "cell_type": "markdown",
   "metadata": {},
   "source": [
    "# Ternary Statements<a name = 'Ternary' />\n",
    "Back to <a href = '#navigation'>Navigation</a>\n",
    "\n",
    "Ternary operations are executed in different ways across programming languages.  In Python, a ternary statement takes the form of an <code>if-else</code> statement and they provide a succinct, readable method for <code>if-else</code> constructs on a single line."
   ]
  },
  {
   "cell_type": "code",
   "execution_count": null,
   "metadata": {},
   "outputs": [],
   "source": [
    "i = 5\n",
    "'even' if i%2==0 else 'odd'"
   ]
  },
  {
   "cell_type": "code",
   "execution_count": null,
   "metadata": {},
   "outputs": [],
   "source": [
    "i = 6\n",
    "result = 'even' if i%2==0 else 'odd'\n",
    "result"
   ]
  },
  {
   "cell_type": "code",
   "execution_count": 2,
   "metadata": {},
   "outputs": [],
   "source": [
    "e_o = lambda x: 'Even' if x%2 == 0 else 'Odd'"
   ]
  },
  {
   "cell_type": "code",
   "execution_count": 3,
   "metadata": {},
   "outputs": [
    {
     "data": {
      "text/plain": [
       "'Odd'"
      ]
     },
     "execution_count": 3,
     "metadata": {},
     "output_type": "execute_result"
    }
   ],
   "source": [
    "e_o(9)"
   ]
  },
  {
   "cell_type": "markdown",
   "metadata": {},
   "source": [
    "Multiple levels of <code>if-else</code>.  These are actually nested _ternary_ statement."
   ]
  },
  {
   "cell_type": "code",
   "execution_count": null,
   "metadata": {},
   "outputs": [],
   "source": [
    "data = [1, 2.1828, 'string', [0, 1, 2], (1,2), 2, 3.5]\n",
    "newList6 = ['int' if isinstance(x, int) else 'float' if isinstance(x, float) else 'other' for x in data]\n",
    "newList6"
   ]
  },
  {
   "cell_type": "markdown",
   "metadata": {},
   "source": [
    "## Inputting Data and Computations with List Comprehension\n",
    "\n",
    "Let's work with 1D data first."
   ]
  },
  {
   "cell_type": "code",
   "execution_count": null,
   "metadata": {},
   "outputs": [],
   "source": [
    "with open('files/NorfolkWeather2018_1.csv','r') as f:\n",
    "    nw2018 = f.readlines()\n",
    "\n",
    "for i in range(len(nw2018)):\n",
    "    nw2018[i] = float(nw2018[i].strip())\n",
    "\n",
    "\"\"\" Plot both data series \"\"\"\n",
    "plt.plot(x, nw2018, label = '2018')\n",
    "plt.legend()\n",
    "plt.show()"
   ]
  },
  {
   "cell_type": "code",
   "execution_count": null,
   "metadata": {},
   "outputs": [],
   "source": [
    "with open('files/NorfolkWeather2018_1.csv','r') as f:\n",
    "    nw2018 = f.readlines()\n",
    "\n",
    "nw2018 = [float(nw2018[i].strip()) for i in range(len(nw2018))]\n",
    "\n",
    "\"\"\" Plot both data series \"\"\"\n",
    "plt.plot(x, nw2018, label = '2018')\n",
    "plt.legend()\n",
    "plt.show()"
   ]
  },
  {
   "cell_type": "code",
   "execution_count": null,
   "metadata": {},
   "outputs": [],
   "source": [
    "with open('files/NorfolkWeather2018_1.csv','r') as f:\n",
    "    nw2018 = f.readlines()\n",
    "\n",
    "nw2018 = [float(d.strip()) for d in nw2018]\n",
    "\n",
    "\"\"\" Plot both data series \"\"\"\n",
    "plt.plot(x, nw2018, label = '2018')\n",
    "plt.legend()\n",
    "plt.show()"
   ]
  },
  {
   "cell_type": "markdown",
   "metadata": {},
   "source": [
    "We can make the code above more succinct by recognizing that <code> f.readliens()</code> creates an iterable data structure that we can iterate through with <code>for</code>."
   ]
  },
  {
   "cell_type": "code",
   "execution_count": null,
   "metadata": {},
   "outputs": [],
   "source": [
    "with open('files/NorfolkWeather2018_1.csv','r')as f:\n",
    "    nw2018 = [float(d.strip()) for d in f.readlines()]\n",
    "\n",
    "\"\"\" Plot both data series \"\"\"\n",
    "plt.plot(x, nw2018, label = '2018')\n",
    "plt.legend()\n",
    "plt.show()"
   ]
  },
  {
   "cell_type": "markdown",
   "metadata": {},
   "source": [
    "The cell below refreshes our memory on one of the 2D functions for stripping, splitting, and converting data.  Subsequent cells illustrate how the code can be simplified and made more succinct with list comprehension.  We will simplify this example a bit by assuming that both row elements need to be converted to floating point values.  More complex examples can be handled by using a mapping function."
   ]
  },
  {
   "cell_type": "code",
   "execution_count": null,
   "metadata": {},
   "outputs": [],
   "source": [
    "def ssc_2d(data):\n",
    "    for i in range(len(data)):\n",
    "        data[i] = data[i].strip().split(',')\n",
    "        for j in range(len(data[i])):\n",
    "            data[i][j] = float(data[i][j])\n",
    "    return data\n",
    "\n",
    "with open('files/NorfolkWeather1999.csv','r') as f:\n",
    "    nw1999 = f.readlines()\n",
    "nw1999 = ssc_2d(nw1999)\n",
    "nw1999"
   ]
  },
  {
   "cell_type": "code",
   "execution_count": null,
   "metadata": {},
   "outputs": [],
   "source": [
    "def ssc_2d(data):\n",
    "    result = []\n",
    "    for row in data:\n",
    "        row = row.strip().split(',')\n",
    "        new_row = []\n",
    "        for e in row:\n",
    "            new_row.append(float(e))\n",
    "        result.append(new_row)\n",
    "        \n",
    "    return result\n",
    "\n",
    "with open('files/NorfolkWeather1999.csv','r') as f:\n",
    "    nw1999 = f.readlines()\n",
    "nw1999 = ssc_2d(nw1999)\n",
    "nw1999"
   ]
  },
  {
   "cell_type": "code",
   "execution_count": null,
   "metadata": {},
   "outputs": [],
   "source": [
    "def ssc_2d(data):\n",
    "    result = []\n",
    "    for row in data:\n",
    "        row = row.strip().split(',')\n",
    "        new_row = [float(e) for e in row]\n",
    "        result.append(new_row)\n",
    "        \n",
    "    return result\n",
    "\n",
    "with open('files/NorfolkWeather1999.csv','r') as f:\n",
    "    nw1999 = f.readlines()\n",
    "nw1999 = ssc_2d(nw1999)\n",
    "nw1999"
   ]
  },
  {
   "cell_type": "code",
   "execution_count": null,
   "metadata": {},
   "outputs": [],
   "source": [
    "def ssc_2d(data):\n",
    "    result = []\n",
    "    for row in data:\n",
    "        row = row.strip().split(',')\n",
    "        result.append([float(e) for e in row])\n",
    "        \n",
    "    return result\n",
    "\n",
    "with open('files/NorfolkWeather1999.csv','r') as f:\n",
    "    nw1999 = f.readlines()\n",
    "nw1999 = ssc_2d(nw1999)\n",
    "nw1999"
   ]
  },
  {
   "cell_type": "code",
   "execution_count": null,
   "metadata": {},
   "outputs": [],
   "source": [
    "def ssc_2d(data):\n",
    "    result = []\n",
    "    for row in data:\n",
    "        result.append([float(e) for e in row.strip().split(',')])\n",
    "        \n",
    "    return result\n",
    "\n",
    "with open('files/NorfolkWeather1999.csv','r') as f:\n",
    "    nw1999 = f.readlines()\n",
    "nw1999 = ssc_2d(nw1999)\n",
    "nw1999"
   ]
  },
  {
   "cell_type": "code",
   "execution_count": null,
   "metadata": {},
   "outputs": [],
   "source": [
    "def ssc_2d(data):\n",
    "    result = [[float(e) for e in row.strip().split(',')] for row in data]\n",
    "    return result\n",
    "\n",
    "with open('files/NorfolkWeather1999.csv','r') as f:\n",
    "    nw1999 = f.readlines()\n",
    "nw1999 = ssc_2d(nw1999)\n",
    "nw1999"
   ]
  },
  {
   "cell_type": "code",
   "execution_count": null,
   "metadata": {},
   "outputs": [],
   "source": [
    "def ssc_2d(data):\n",
    "    return [[float(e) for e in row.strip().split(',')] for row in data]\n",
    "\n",
    "with open('files/NorfolkWeather1999.csv','r') as f:\n",
    "    nw1999 = f.readlines()\n",
    "nw1999 = ssc_2d(nw1999)\n",
    "nw1999"
   ]
  },
  {
   "cell_type": "markdown",
   "metadata": {},
   "source": [
    "This problem is more difficult if the row elements need to be converted to different data types.  But tackling this increased complexity is easy later on when we learn a new tool."
   ]
  },
  {
   "cell_type": "markdown",
   "metadata": {},
   "source": [
    "## Computations with List Comprehension\n",
    "\n",
    "The moving average computations with <code>for</code> loops can be done with list comprehension as well.\n",
    "\n",
    "The first cell repeats our original code."
   ]
  },
  {
   "cell_type": "code",
   "execution_count": null,
   "metadata": {},
   "outputs": [],
   "source": [
    "''' period: \n",
    "      * a variable representing the number of periods that are averaged together to create\n",
    "        the moving average \n",
    "      * Given the zero-based indexing of Python, the first moving average can be computed\n",
    "        in Period period - 1 '''\n",
    "period = 10\n",
    "\n",
    "ma1999 = []  # Initialize moving average list for 1999\n",
    "ma2018 = []  # Initialize moving average list for 2018\n",
    "\n",
    "for i in range(0, len(nw1999) - period + 1):\n",
    "    ma1999.append(sum(nw1999[i:i + period])/period)\n",
    "    ma2018.append(sum(nw2018[i:i + period])/period)\n",
    "\n",
    "plt.plot(ma1999, label = '1999')\n",
    "plt.plot(ma2018, label = '2018')\n",
    "plt.legend()\n",
    "\n",
    "plt.show()"
   ]
  },
  {
   "cell_type": "code",
   "execution_count": null,
   "metadata": {},
   "outputs": [],
   "source": [
    "period = 10\n",
    "\n",
    "ma1999 = [sum(nw1999[i:i + period])/period for i in range(0,len(nw1999) - period + 1)]\n",
    "ma2018 = [sum(nw2018[i:i + period])/period for i in range(0,len(nw2018) - period + 1)]\n",
    "\n",
    "plt.plot(ma1999, label = '1999')\n",
    "plt.plot(ma2018, label = '2018')\n",
    "plt.legend()\n",
    "\n",
    "plt.show()"
   ]
  },
  {
   "cell_type": "markdown",
   "metadata": {},
   "source": [
    "# Other Comprehension Methods <a name='OtherComp' />"
   ]
  },
  {
   "cell_type": "markdown",
   "metadata": {},
   "source": [
    "## Dictionary Comprehension <a name='DictComp' />\n",
    "Back to <a href = '#navigation'>Navigation</a>\n",
    "\n",
    "Dictionaries can be created with _dictionary comprehension_  just as lists can be generated with _list comprehension_.  We will create a dictionary from a text file, both with a for loop and with dictionary comprehension.  But first, let's practice with some hard-coded data.\n",
    "\n",
    "The differences between list comprehension and dictionary comprehension are that the latter uses curly braces rather than square brackets and the specification for what is appended to the dictionary requires both a key and a value, separated by a colon. Here, a sequence of 2-tuples is converted into a dictionary:\n",
    "\n",
    "<code>\n",
    "    tups = [(0, 'cero'), (1, 'uno'), (2, 'dos')]\n",
    "    newDictionary = {k:v for k,v in tups}\n",
    "</code>\n",
    "\n",
    "Let's convert a list of lists into a dictionary, where each sublist contains the name of a national parks and its acreage.  Specifically, the national park name will be the key and the acreage will be the value.\n",
    "\n",
    "The first cells show multiple ways to use for loops for this task and the corresponding methods with dictionary comprehension.\n",
    "\n",
    "Source: National Parks data was extracted from [Wikipedia National Parks page](https://en.wikipedia.org/wiki/List_of_national_parks_of_the_United_States)."
   ]
  },
  {
   "cell_type": "code",
   "execution_count": null,
   "metadata": {},
   "outputs": [],
   "source": [
    "natParksList = [['Acadia',49075.26], ['Yellowstone',2219790.71], ['Yosemite',761747.5], ['Shenandoah',199223.77], \\\n",
    "                ['Saguro',91715.72], ['Petrified Forest',221390.21]]\n",
    "natParksList"
   ]
  },
  {
   "cell_type": "markdown",
   "metadata": {},
   "source": [
    "### Dictionaries from _for_ Loops\n",
    "Back to <a href = '#navigation'>Navigation</a>\n",
    "\n",
    "For this demonstration, let's assume that we have a list of lists, where each sublist contains the name of a national park and its acreage.  Let's construct a dictionary from this list of lists with the national park name as the key and the acreage as the value, first, with <code>for</code> loops.  Later, we will do the same with dictionary comprehension.\n",
    "\n",
    "Source: National Parks data was extracted from [Wikipedia National Parks page](https://en.wikipedia.org/wiki/List_of_national_parks_of_the_United_States)."
   ]
  },
  {
   "cell_type": "code",
   "execution_count": null,
   "metadata": {},
   "outputs": [],
   "source": [
    "natParksDict1 = {}\n",
    "for i in range(len(natParksList)):\n",
    "    natParksDict1[natParksList[i][0]] = natParksList[i][1]\n",
    "natParksDict1"
   ]
  },
  {
   "cell_type": "code",
   "execution_count": null,
   "metadata": {},
   "outputs": [],
   "source": [
    "natParksDict2 = {}\n",
    "for x in natParksList:\n",
    "    natParksDict2[x[0]] = x[1]\n",
    "natParksDict2"
   ]
  },
  {
   "cell_type": "code",
   "execution_count": null,
   "metadata": {},
   "outputs": [],
   "source": [
    "natParksDict3 = {}\n",
    "for name, acreage in natParksList:\n",
    "    natParksDict3[name] = acreage\n",
    "natParksDict3"
   ]
  },
  {
   "cell_type": "markdown",
   "metadata": {},
   "source": [
    "### Dictionary Comprehension  <a name='DictComp' />\n",
    "Back to <a href = '#navigation'>Navigation</a>\n",
    "\n",
    "The logic of unpacking a for loop and inserting the contents into a dictionary comprehension statement is the same as with list comprehension, except for tweaks that are appropriate for dictionaries: \n",
    "- Curly braces specify a dictionary is being created rather than a list, which uses square brackets\n",
    "- We need to specify a key and a value, separated by a colon, to be inserted in each implicit iteration.\n",
    "\n",
    "![Dictionary Comprehension Template](images/dictComp.jpg)\n",
    "\n",
    "Here is another prototypical statement of dictionary comprehension:\n",
    "\n",
    "<font face='courier'>newDictionary = {k:v for k,v in some_iterator}</font>\n",
    "\n",
    "Dictionary comprehension is useful when filestreams are read into dictionaries, or if, for example, lists need to be converted to dictionaries."
   ]
  },
  {
   "cell_type": "code",
   "execution_count": null,
   "metadata": {},
   "outputs": [],
   "source": [
    "natParksDict1DC = {natParksList[i][0]:natParksList[i][1] for i in range(len(natParksList))}\n",
    "natParksDict1DC"
   ]
  },
  {
   "cell_type": "code",
   "execution_count": null,
   "metadata": {},
   "outputs": [],
   "source": [
    "natParksDict2DC = {x[0]:x[1] for x in natParksList}\n",
    "natParksDict2DC"
   ]
  },
  {
   "cell_type": "code",
   "execution_count": null,
   "metadata": {},
   "outputs": [],
   "source": [
    "natParksDict3DC = {name:acreage for name,acreage in natParksList}\n",
    "natParksDict3DC"
   ]
  },
  {
   "cell_type": "markdown",
   "metadata": {},
   "source": [
    "Here is an example with input data from a text file.  Each line of the file <font face = 'courier'>npNameLoc.txt</font> contains the name of a United States National Park and the state in which that park is located.  Read the file and create a dictionary where the key is the name of the park and the value is a string indicating the state in which the park is located."
   ]
  },
  {
   "cell_type": "code",
   "execution_count": null,
   "metadata": {
    "scrolled": true
   },
   "outputs": [],
   "source": [
    "\"\"\" Read the data \"\"\"\n",
    "with open('files/npNameLoc.txt','r') as f_in:\n",
    "    data = f_in.readlines()\n",
    "\n",
    "\"\"\" Create the dictionary \"\"\"\n",
    "natParkDict1 = {}\n",
    "for i in range(len(data)):\n",
    "    data[i] = data[i].strip().split(',')\n",
    "    natParkDict1[data[i][0]] = float(data[i][1])\n",
    "natParkDict1"
   ]
  },
  {
   "cell_type": "markdown",
   "metadata": {
    "collapsed": true
   },
   "source": [
    "### Complete the task above with dictionary comprehension\n",
    "\n",
    "The cells below progressively make the code more succinct.  At what point does reducing the number of lines of code cause the code to be less readable in your opinion?"
   ]
  },
  {
   "cell_type": "code",
   "execution_count": null,
   "metadata": {},
   "outputs": [],
   "source": [
    "\"\"\" Read the data \"\"\"\n",
    "with open('files/npNameLoc.txt','r') as f_in: \n",
    "    data = f_in.readlines()\n",
    "\n",
    "\"\"\" Create the dictionary \"\"\"\n",
    "for i in range(len(data)):\n",
    "    data[i] = data[i].strip().split(',')\n",
    "natParkDict1 = {data[i][0]:float(data[i][1]) for i in range(1, len(data))}\n",
    "natParkDict1"
   ]
  },
  {
   "cell_type": "code",
   "execution_count": null,
   "metadata": {},
   "outputs": [],
   "source": [
    "\"\"\" Read the data \"\"\"\n",
    "with open('files/npNameLoc.txt','r') as f_in: \n",
    "    data = f_in.readlines()\n",
    "data = [line.strip().split(',') for line in data]\n",
    "\n",
    "\"\"\" Create the dictionary \"\"\"\n",
    "natParkDict1 = {data[i][0]:float(data[i][1]) for i in range(1, len(data))}\n",
    "natParkDict1"
   ]
  },
  {
   "cell_type": "code",
   "execution_count": null,
   "metadata": {},
   "outputs": [],
   "source": [
    "\"\"\" Read the data \"\"\"\n",
    "with open(files/'npNameLoc.txt','r') as f_in: \n",
    "    data = [line.strip().split(',') for line in f_in.readlines()]\n",
    "\n",
    "\"\"\" Create the dictionary \"\"\"\n",
    "natParkDict1 = {data[i][0]:data[i][1] for i in range(1, len(data))}\n",
    "natParkDict1"
   ]
  },
  {
   "cell_type": "code",
   "execution_count": null,
   "metadata": {},
   "outputs": [],
   "source": [
    "\"\"\" Read the data \"\"\"\n",
    "with open('files/npNameLoc.txt','r') as f_in: \n",
    "    data = [line.strip().split(',') for line in f_in.readlines()]\n",
    "\n",
    "\"\"\" Create the dictionary \"\"\"\n",
    "natParkDict1 = {line[0]:line[1] for line in data[1:]}\n",
    "natParkDict1"
   ]
  },
  {
   "cell_type": "code",
   "execution_count": null,
   "metadata": {},
   "outputs": [],
   "source": [
    "''' Read the data and create the dictionary '''\n",
    "with open('files/npNameLoc.txt','r') as f_in: \n",
    "    natParkDict1 = {line[0]:line[1] for line in [line.strip().split(',') for line in f_in.readlines()][1:]}\n",
    "natParkDict1"
   ]
  },
  {
   "cell_type": "markdown",
   "metadata": {},
   "source": [
    "## Set Comprehension  <a name='SetComp' />\n",
    "Back to <a href = '#navigation'>Navigation</a> \n",
    "\n",
    "A <code>set</code> is a Python data type that contains unique items, that is, no element can be repeated.  These, too, can be created with a comprehension statement.  This data type can be viewed as a set of dictionary keys without values."
   ]
  },
  {
   "cell_type": "code",
   "execution_count": null,
   "metadata": {},
   "outputs": [],
   "source": [
    "my_set = set([0, 0, 1, 1, 1, 2, 2, 2, 3, 3, 3, 4, 4, 5])\n",
    "my_set"
   ]
  },
  {
   "cell_type": "markdown",
   "metadata": {},
   "source": [
    "Elements can be added to a set using the <code>.add()</code> set method in a for loop as shown below.  If the element that is added already exists in the set, then the set remains unchanged."
   ]
  },
  {
   "cell_type": "code",
   "execution_count": null,
   "metadata": {},
   "outputs": [],
   "source": [
    "mylist = [0, 0, 1, 1, 1, 2, 2, 2, 3, 3, 3, 4, 4, 5]\n",
    "my_set1 = set()\n",
    "for ele in mylist:\n",
    "    my_set1.add(ele)\n",
    "my_set1"
   ]
  },
  {
   "cell_type": "markdown",
   "metadata": {},
   "source": [
    "Comprehension can also be used to create sets."
   ]
  },
  {
   "cell_type": "code",
   "execution_count": null,
   "metadata": {},
   "outputs": [],
   "source": [
    "my_set2 = {ele for ele in mylist}\n",
    "my_set2"
   ]
  },
  {
   "cell_type": "markdown",
   "metadata": {},
   "source": [
    "# An Aside: <code>for</code> versus <code>while</code> loops\n",
    "\n",
    "Thus far, we have used only <code>for</code> loops, but another type of loops are <code>while</code> loops.  <code>for</code> loops have made sense thus far because we can determine how many times we need to iterate through a list, for example, by using the <code>len()</code> function.  <code>while</code> loops make sense when we can't determine how many times we will need to execute the loop.\n",
    "\n",
    "<code>while</code> loops continue iterating until the condition specified with them is <code>False</code>."
   ]
  },
  {
   "cell_type": "markdown",
   "metadata": {},
   "source": [
    "Write a <code>while</code> loop to append powers of 2, $2^n$ for $n = 0,1, ...$ into a list for all powers of $n$ for $2^n < 2000$."
   ]
  },
  {
   "cell_type": "code",
   "execution_count": null,
   "metadata": {},
   "outputs": [],
   "source": [
    "n = 0\n",
    "result = []\n",
    "while 2**n < 2000:\n",
    "    result.append(2**n)\n",
    "    n = n + 1\n",
    "print(result)"
   ]
  },
  {
   "cell_type": "markdown",
   "metadata": {},
   "source": [
    "While we might like to sometimes use <code>while</code> loops in list comprehension statements, only <code>for</code> loops can be used in list comprehension."
   ]
  },
  {
   "cell_type": "markdown",
   "metadata": {},
   "source": [
    "# <code>for</code> Loops with <code>enumerate()</code>  <a name='enumerate' />\n",
    "Back to <a href = '#navigation'>Navigation</a>\n",
    "\n",
    "... and <code>enumerate()</code> outside of <code>for</code> loops\n",
    "\n",
    "As we already know, two ways to iterate through data with <code>for</code> loops are:\n",
    "- By index\n",
    "- Directly through the elements\n",
    "\n",
    "While the latter approach (below) is thought be many to be more readable, you must use the first approach if you want to change the element values."
   ]
  },
  {
   "cell_type": "code",
   "execution_count": null,
   "metadata": {},
   "outputs": [],
   "source": [
    "values = [0, 1, 2, 4, 5, 7, 8, 9]\n",
    "\n",
    "for i in range(len(values)):\n",
    "    print(i)"
   ]
  },
  {
   "cell_type": "code",
   "execution_count": null,
   "metadata": {},
   "outputs": [],
   "source": [
    "values = [0, 1, 2, 4, 5, 7, 8, 9]\n",
    "\n",
    "for ele in values:\n",
    "    print(ele)"
   ]
  },
  {
   "cell_type": "markdown",
   "metadata": {},
   "source": [
    "In some circumstances you might want to use the latter approach for its readability, while you need the index in order to change the values of the elements in the list.  The <code>enumerate()</code> functions resolve the need to use a single approach, as it affords you the opportunity to use both simultaneously.\n",
    "\n",
    "Three example circumstances where you need <code>enumerate()</code> are illustrated below:\n",
    "- You want to keep track of the iteration number for debugging purposes\n",
    "- You have multiple lists that are the same length, with elements corresponding to one another, and you need to revise the values in at least one of the lists\n",
    "- You want to create a list of tuples from an original data structure whose first element is an index\n",
    "\n",
    "Caution: if you are in the second situation, you may want to rethink the data type you are using.  Perhaps both data fields should be in the same structure."
   ]
  },
  {
   "cell_type": "markdown",
   "metadata": {},
   "source": [
    "A simple example of what <code>enumerate()</code> does."
   ]
  },
  {
   "cell_type": "code",
   "execution_count": null,
   "metadata": {},
   "outputs": [],
   "source": [
    "import random\n",
    "values = [random.random() for _ in range(5)]\n",
    "\n",
    "for i,v in enumerate(values):\n",
    "    print(i,v)"
   ]
  },
  {
   "cell_type": "raw",
   "metadata": {},
   "source": [
    "Some practical examples..."
   ]
  },
  {
   "cell_type": "code",
   "execution_count": 2,
   "metadata": {},
   "outputs": [],
   "source": [
    "import random\n",
    "values = [random.random() for _ in range(50000)]"
   ]
  },
  {
   "cell_type": "markdown",
   "metadata": {},
   "source": [
    "Monitor analysis process for big data..."
   ]
  },
  {
   "cell_type": "code",
   "execution_count": null,
   "metadata": {},
   "outputs": [],
   "source": [
    "for i,v in enumerate(values):\n",
    "    # Do something useful with values v here\n",
    "    if i%10000 == 0 and i > 0:\n",
    "        print(f'{i} elements completed')"
   ]
  },
  {
   "cell_type": "markdown",
   "metadata": {},
   "source": [
    "Find rows with defective data..."
   ]
  },
  {
   "cell_type": "code",
   "execution_count": null,
   "metadata": {},
   "outputs": [],
   "source": [
    "with open('files\\defects.csv', 'r') as f:\n",
    "    data = f.readlines()\n",
    "    \n",
    "results = []\n",
    "empty_rows = []\n",
    "for i,v in enumerate(data):\n",
    "    if v.strip() != '':\n",
    "        results.append(int(v.strip()))\n",
    "    else:\n",
    "        empty_rows.append(i)\n",
    "print(results)\n",
    "print(empty_rows)"
   ]
  },
  {
   "cell_type": "markdown",
   "metadata": {},
   "source": [
    "In this example, let's assume that you are reading a large data file, which is mimicked by the list below, and converting string data to integers.  You are getting an error because some of the data cannot be converted to integers.  You can use <code>enumerate()</code> to let you know which line(s) of data cannot be transformed."
   ]
  },
  {
   "cell_type": "code",
   "execution_count": null,
   "metadata": {},
   "outputs": [],
   "source": [
    "data = ['0', '1', '2', 'actual', '4', 'planned', '7', '9']\n",
    "\n",
    "my_int = []\n",
    "junk = []\n",
    "for i,d in enumerate(data):\n",
    "    try:\n",
    "        my_int.append(int(d))\n",
    "    except:\n",
    "        junk.append((i,d))\n",
    "        \n",
    "print(f'junk has {len(junk)} elements: {junk}')"
   ]
  },
  {
   "cell_type": "markdown",
   "metadata": {},
   "source": [
    "Index tuples in case you want to resort them back into the original order."
   ]
  },
  {
   "cell_type": "code",
   "execution_count": null,
   "metadata": {},
   "outputs": [],
   "source": [
    "tups = [(i, v) for i,v in enumerate(values)]\n",
    "tups[:5]"
   ]
  },
  {
   "cell_type": "markdown",
   "metadata": {},
   "source": [
    "... or, more simply"
   ]
  },
  {
   "cell_type": "code",
   "execution_count": 3,
   "metadata": {
    "collapsed": true
   },
   "outputs": [
    {
     "data": {
      "text/plain": [
       "[(0, 0.02341594704153971),\n",
       " (1, 0.529976110523458),\n",
       " (2, 0.21876809723604207),\n",
       " (3, 0.7123629445462467),\n",
       " (4, 0.7822249664899372),\n",
       " (5, 0.4733473947980805),\n",
       " (6, 0.8999976893725821),\n",
       " (7, 0.3810689765578136),\n",
       " (8, 7.219330635832577e-05),\n",
       " (9, 0.22352205470612263),\n",
       " (10, 0.4027931083616211),\n",
       " (11, 0.43631480156281455),\n",
       " (12, 0.2999029499549287),\n",
       " (13, 0.3956763137467173),\n",
       " (14, 0.6785949235978942),\n",
       " (15, 0.292296544279388),\n",
       " (16, 0.49971798244326404),\n",
       " (17, 0.0810204976965947),\n",
       " (18, 0.530074402886513),\n",
       " (19, 0.2462778550910104),\n",
       " (20, 0.8275730937514316),\n",
       " (21, 0.8544426690570996),\n",
       " (22, 0.7516546163830565),\n",
       " (23, 0.7780320343652191),\n",
       " (24, 0.4596776558952146),\n",
       " (25, 0.146812071284396),\n",
       " (26, 0.4259983803624603),\n",
       " (27, 0.744151829944578),\n",
       " (28, 0.4256002062289207),\n",
       " (29, 0.7589931705759129),\n",
       " (30, 0.13211333101614509),\n",
       " (31, 0.292820981644788),\n",
       " (32, 0.42446485521994226),\n",
       " (33, 0.0720279696264019),\n",
       " (34, 0.07273776283158984),\n",
       " (35, 0.8251370558032648),\n",
       " (36, 0.2684107620942824),\n",
       " (37, 0.12592681445734188),\n",
       " (38, 0.4154088305766559),\n",
       " (39, 0.8813795986164861),\n",
       " (40, 0.5272582296619782),\n",
       " (41, 0.5402470283063353),\n",
       " (42, 0.5765348660331298),\n",
       " (43, 0.6042356767056505),\n",
       " (44, 0.37291781872273677),\n",
       " (45, 0.8691904452812936),\n",
       " (46, 0.7198787909050803),\n",
       " (47, 0.42851355357689225),\n",
       " (48, 0.03077216160415175),\n",
       " (49, 0.9368821871981861),\n",
       " (50, 0.22798245761702018),\n",
       " (51, 0.7367008269591487),\n",
       " (52, 0.23148690170849295),\n",
       " (53, 0.4877346745452156),\n",
       " (54, 0.10656805397337954),\n",
       " (55, 0.9643807526115921),\n",
       " (56, 0.8213133130661245),\n",
       " (57, 0.057024647565295905),\n",
       " (58, 0.4659588136684757),\n",
       " (59, 0.367713728479508),\n",
       " (60, 0.9450437709240822),\n",
       " (61, 0.42815159364446775),\n",
       " (62, 0.9553451777111107),\n",
       " (63, 0.488908846402372),\n",
       " (64, 0.8247048387893144),\n",
       " (65, 0.9078200651844653),\n",
       " (66, 0.38354030496683966),\n",
       " (67, 0.07344590489397773),\n",
       " (68, 0.6509702090194618),\n",
       " (69, 0.6035379152897838),\n",
       " (70, 0.0889242246057036),\n",
       " (71, 0.8030741463567107),\n",
       " (72, 0.22984948613669687),\n",
       " (73, 0.16262878033431627),\n",
       " (74, 0.4746071194594903),\n",
       " (75, 0.6399897138976989),\n",
       " (76, 0.6620249777763977),\n",
       " (77, 0.876694274593696),\n",
       " (78, 0.868769854284016),\n",
       " (79, 0.8295598725928107),\n",
       " (80, 0.21729202218903843),\n",
       " (81, 0.9352501792078661),\n",
       " (82, 0.29168432669797206),\n",
       " (83, 0.05841810573517425),\n",
       " (84, 0.19532400527807658),\n",
       " (85, 0.7868522555008919),\n",
       " (86, 0.5896441039210878),\n",
       " (87, 0.9985037902737395),\n",
       " (88, 0.9317464228780132),\n",
       " (89, 0.029491847180125208),\n",
       " (90, 0.016836663369531824),\n",
       " (91, 0.07518703574505337),\n",
       " (92, 0.1908330890805091),\n",
       " (93, 0.01960285484769686),\n",
       " (94, 0.1815352080258279),\n",
       " (95, 0.6504767111259497),\n",
       " (96, 0.11336130923456933),\n",
       " (97, 0.8116727637067698),\n",
       " (98, 0.048509403775952586),\n",
       " (99, 0.20514886926670683),\n",
       " (100, 0.6548034718755225),\n",
       " (101, 0.7781058384899437),\n",
       " (102, 0.39145088713117937),\n",
       " (103, 0.1431766535223361),\n",
       " (104, 0.6241624806275442),\n",
       " (105, 0.17623863890588998),\n",
       " (106, 0.21729771472460413),\n",
       " (107, 0.0389307639141484),\n",
       " (108, 0.41754437959318624),\n",
       " (109, 0.5369099099962534),\n",
       " (110, 0.6435759988867648),\n",
       " (111, 0.8538362168525369),\n",
       " (112, 0.6731111151278321),\n",
       " (113, 0.16095311985675043),\n",
       " (114, 0.10127180957733828),\n",
       " (115, 0.9456238493656384),\n",
       " (116, 0.8073457936412697),\n",
       " (117, 0.5119547310849352),\n",
       " (118, 0.3373990875012395),\n",
       " (119, 0.6091886516221741),\n",
       " (120, 0.6672388910498408),\n",
       " (121, 0.41026410629602805),\n",
       " (122, 0.7016060906958451),\n",
       " (123, 0.46175187207670076),\n",
       " (124, 0.8035434149220204),\n",
       " (125, 0.8706030820142852),\n",
       " (126, 0.8178422811706691),\n",
       " (127, 0.7306688756116962),\n",
       " (128, 0.5075001388782152),\n",
       " (129, 0.17565326702088058),\n",
       " (130, 0.10031708325808897),\n",
       " (131, 0.616598955230572),\n",
       " (132, 0.8792450072080199),\n",
       " (133, 0.48885270556338567),\n",
       " (134, 0.6583047452870445),\n",
       " (135, 0.9245940231403417),\n",
       " (136, 0.5413224654789288),\n",
       " (137, 0.8298208549790566),\n",
       " (138, 0.47904052871484537),\n",
       " (139, 0.17913047684497063),\n",
       " (140, 0.026102379245717233),\n",
       " (141, 0.7010990261404095),\n",
       " (142, 0.6768786298995313),\n",
       " (143, 0.6086150263705064),\n",
       " (144, 0.8695887969428879),\n",
       " (145, 0.18791265236527943),\n",
       " (146, 0.09381652026100129),\n",
       " (147, 0.4019535551256983),\n",
       " (148, 0.599316039466029),\n",
       " (149, 0.8281486357416146),\n",
       " (150, 0.2160625521842594),\n",
       " (151, 0.5348754971429361),\n",
       " (152, 0.6347798348494232),\n",
       " (153, 0.15936257728481718),\n",
       " (154, 0.959546808707901),\n",
       " (155, 0.3243705279893414),\n",
       " (156, 0.931981252589281),\n",
       " (157, 0.009566937686094623),\n",
       " (158, 0.2659172153916638),\n",
       " (159, 0.1867384227284381),\n",
       " (160, 0.6087819513866771),\n",
       " (161, 0.10832753510753312),\n",
       " (162, 0.5025477594265072),\n",
       " (163, 0.57550114835473),\n",
       " (164, 0.6624966945077746),\n",
       " (165, 0.6692551931077108),\n",
       " (166, 0.16691153942304526),\n",
       " (167, 0.9785124614991741),\n",
       " (168, 0.8578237254811141),\n",
       " (169, 0.0793906394612327),\n",
       " (170, 0.015333895102036643),\n",
       " (171, 0.18862668735987909),\n",
       " (172, 0.4008680565346444),\n",
       " (173, 0.3610832956321359),\n",
       " (174, 0.516471141374394),\n",
       " (175, 0.17292257596371952),\n",
       " (176, 0.8962117125054525),\n",
       " (177, 0.26651096119080087),\n",
       " (178, 0.40619664838559866),\n",
       " (179, 0.8356740072551908),\n",
       " (180, 0.7688724913322726),\n",
       " (181, 0.15179255400307623),\n",
       " (182, 0.4922571992478447),\n",
       " (183, 0.4775006460873995),\n",
       " (184, 0.28737306590810463),\n",
       " (185, 0.011930903692530803),\n",
       " (186, 0.7445010860958625),\n",
       " (187, 0.9684413072795675),\n",
       " (188, 0.06398011107164403),\n",
       " (189, 0.9806885416486977),\n",
       " (190, 0.8965006133879578),\n",
       " (191, 0.701260288327488),\n",
       " (192, 0.809465568553134),\n",
       " (193, 0.8769485224383807),\n",
       " (194, 0.6246575408725763),\n",
       " (195, 0.04245738167097379),\n",
       " (196, 0.8515128060894555),\n",
       " (197, 0.4451309754607857),\n",
       " (198, 0.7861245027681051),\n",
       " (199, 0.9654353993972641),\n",
       " (200, 0.5791218675719751),\n",
       " (201, 0.7827925781528876),\n",
       " (202, 0.5632486526189651),\n",
       " (203, 0.2622291214358007),\n",
       " (204, 0.8886063942162319),\n",
       " (205, 0.10239750518529367),\n",
       " (206, 0.852885117382788),\n",
       " (207, 0.8125410520971769),\n",
       " (208, 0.7581519404596987),\n",
       " (209, 0.6897135295782152),\n",
       " (210, 0.41943995909293375),\n",
       " (211, 0.9362159490446689),\n",
       " (212, 0.8975793356657636),\n",
       " (213, 0.6753776029678049),\n",
       " (214, 0.4817921735827556),\n",
       " (215, 0.2269648074468238),\n",
       " (216, 0.25594191713527503),\n",
       " (217, 0.9054139123441651),\n",
       " (218, 0.760463109944369),\n",
       " (219, 0.1472223765774916),\n",
       " (220, 0.6036461879331848),\n",
       " (221, 0.6403915599212279),\n",
       " (222, 0.8016695546798133),\n",
       " (223, 0.5794946633187458),\n",
       " (224, 0.7682016995889976),\n",
       " (225, 0.9408513776427835),\n",
       " (226, 0.47011730075448044),\n",
       " (227, 0.8371888266026608),\n",
       " (228, 0.5916495586637684),\n",
       " (229, 0.9789130576002752),\n",
       " (230, 0.8681362121211762),\n",
       " (231, 0.8550625316377607),\n",
       " (232, 0.9363958596522375),\n",
       " (233, 0.6385169372657683),\n",
       " (234, 0.8197508378813713),\n",
       " (235, 0.44838819605518443),\n",
       " (236, 0.3177235509272732),\n",
       " (237, 0.20378818756605965),\n",
       " (238, 0.37406829836431),\n",
       " (239, 0.44930428475618567),\n",
       " (240, 0.8033183675765165),\n",
       " (241, 0.4813172290583694),\n",
       " (242, 0.48610430020661755),\n",
       " (243, 0.5764844408195745),\n",
       " (244, 0.10605731859729262),\n",
       " (245, 0.8705836906822899),\n",
       " (246, 0.8391748882464906),\n",
       " (247, 0.4192902122163542),\n",
       " (248, 0.4772780580093062),\n",
       " (249, 0.7479477528810798),\n",
       " (250, 0.8861847597323979),\n",
       " (251, 0.552625136986001),\n",
       " (252, 0.19918150475144147),\n",
       " (253, 0.6898771805042244),\n",
       " (254, 0.9623169304833222),\n",
       " (255, 0.45770661655825506),\n",
       " (256, 0.6713870555756035),\n",
       " (257, 0.1388601137119273),\n",
       " (258, 0.825638717367174),\n",
       " (259, 0.3716103168921867),\n",
       " (260, 0.16500738500097056),\n",
       " (261, 0.2386579493814902),\n",
       " (262, 0.8324625640834231),\n",
       " (263, 0.2797527266935196),\n",
       " (264, 0.9524086207301178),\n",
       " (265, 0.6582864359927574),\n",
       " (266, 0.5825503115217516),\n",
       " (267, 0.6034236317259739),\n",
       " (268, 0.8359581759491677),\n",
       " (269, 0.045248314657538424),\n",
       " (270, 0.6566575155239264),\n",
       " (271, 0.025302789260040814),\n",
       " (272, 0.9052431777310939),\n",
       " (273, 0.28463887203307303),\n",
       " (274, 0.7242252018162066),\n",
       " (275, 0.13469592015670218),\n",
       " (276, 0.8665395459572038),\n",
       " (277, 0.037652252362046945),\n",
       " (278, 0.8225219993594018),\n",
       " (279, 0.30157008792918905),\n",
       " (280, 0.0585340931159154),\n",
       " (281, 0.07134846551605767),\n",
       " (282, 0.4225924484129562),\n",
       " (283, 0.35661101730148304),\n",
       " (284, 0.34502244207034627),\n",
       " (285, 0.049638611248353115),\n",
       " (286, 0.43098610705348606),\n",
       " (287, 0.9905490126302214),\n",
       " (288, 0.2511622452674094),\n",
       " (289, 0.6267427378355113),\n",
       " (290, 0.2012267619402135),\n",
       " (291, 0.8164971591490241),\n",
       " (292, 0.34224348504185553),\n",
       " (293, 0.2528186927092507),\n",
       " (294, 0.9114324510095917),\n",
       " (295, 0.45082888521107245),\n",
       " (296, 0.5435876607096962),\n",
       " (297, 0.10854049170323654),\n",
       " (298, 0.5687447599269654),\n",
       " (299, 0.888980197465047),\n",
       " (300, 0.32520224699084255),\n",
       " (301, 0.9219885748463025),\n",
       " (302, 0.5310666736002043),\n",
       " (303, 0.023766119096007232),\n",
       " (304, 0.4344387040155988),\n",
       " (305, 0.2259736607950784),\n",
       " (306, 0.7487554185840347),\n",
       " (307, 0.40662285410085397),\n",
       " (308, 0.3778435988649973),\n",
       " (309, 0.03936435210629752),\n",
       " (310, 0.8442359880868381),\n",
       " (311, 0.848210388750134),\n",
       " (312, 0.5560012742384373),\n",
       " (313, 0.4325482159228389),\n",
       " (314, 0.11737443509037104),\n",
       " (315, 0.21421334536929582),\n",
       " (316, 0.4320495554240268),\n",
       " (317, 0.029012119531850122),\n",
       " (318, 0.428125880563619),\n",
       " (319, 0.22447710140573596),\n",
       " (320, 0.7562279659577487),\n",
       " (321, 0.8627637881532146),\n",
       " (322, 0.06861471106241823),\n",
       " (323, 0.7495481275444721),\n",
       " (324, 0.7341501565016371),\n",
       " (325, 0.6548334693495683),\n",
       " (326, 0.7665641763016329),\n",
       " (327, 0.7007235382709288),\n",
       " (328, 0.7370393160302952),\n",
       " (329, 0.9862498532218673),\n",
       " (330, 0.17459498622525182),\n",
       " (331, 0.2492840749006584),\n",
       " (332, 0.02490495049843),\n",
       " (333, 0.6561876684655575),\n",
       " (334, 0.6184123874514853),\n",
       " (335, 0.5975904440852694),\n",
       " (336, 0.6045234777013254),\n",
       " (337, 0.9768648423565057),\n",
       " (338, 0.2862120837231815),\n",
       " (339, 0.11166223249186324),\n",
       " (340, 0.27844424981179683),\n",
       " (341, 0.6998181051068283),\n",
       " (342, 0.4356143469603795),\n",
       " (343, 0.8366884631444297),\n",
       " (344, 0.7259375762670913),\n",
       " (345, 0.42574381125093963),\n",
       " (346, 0.9868205730956406),\n",
       " (347, 0.6707229819698585),\n",
       " (348, 0.9626908469722907),\n",
       " (349, 0.12054281413075973),\n",
       " (350, 0.4804307502203985),\n",
       " (351, 0.04773622047274606),\n",
       " (352, 0.8133488776430565),\n",
       " (353, 0.2466001993393524),\n",
       " (354, 0.18716848221095206),\n",
       " (355, 0.39734030602030534),\n",
       " (356, 0.787334117486114),\n",
       " (357, 0.6839442980577545),\n",
       " (358, 0.5110933107592397),\n",
       " (359, 0.74504439600916),\n",
       " (360, 0.6436808322783715),\n",
       " (361, 0.04909441072546028),\n",
       " (362, 0.9414807070500294),\n",
       " (363, 0.9545533097497043),\n",
       " (364, 0.28152119902085104),\n",
       " (365, 0.12132465165493178),\n",
       " (366, 0.4478611895229575),\n",
       " (367, 0.27189578884448784),\n",
       " (368, 0.526108217824506),\n",
       " (369, 0.871369643400443),\n",
       " (370, 0.34442449315454593),\n",
       " (371, 0.7255128097816169),\n",
       " (372, 0.8733033412873552),\n",
       " (373, 0.6969355527547024),\n",
       " (374, 0.9384060124894907),\n",
       " (375, 0.9245772650995395),\n",
       " (376, 0.4968460005498969),\n",
       " (377, 0.16465101906102242),\n",
       " (378, 0.20714927138596317),\n",
       " (379, 0.48478378065350913),\n",
       " (380, 0.9817133328160529),\n",
       " (381, 0.11771997381037991),\n",
       " (382, 0.5373372671093521),\n",
       " (383, 0.9412763390823997),\n",
       " (384, 0.6481851256360079),\n",
       " (385, 0.7919234049734442),\n",
       " (386, 0.8803517278706233),\n",
       " (387, 0.5620938099629114),\n",
       " (388, 0.06308359712049716),\n",
       " (389, 0.535315513813736),\n",
       " (390, 0.35042825329670957),\n",
       " (391, 0.9774280828172361),\n",
       " (392, 0.4521934515612719),\n",
       " (393, 0.05985383723135229),\n",
       " (394, 0.15519883510749544),\n",
       " (395, 0.4261741439164606),\n",
       " (396, 0.1836413864621489),\n",
       " (397, 0.41870636247681825),\n",
       " (398, 0.9530284524328209),\n",
       " (399, 0.2712872988674929),\n",
       " (400, 0.7279892287203027),\n",
       " (401, 0.9199463082248077),\n",
       " (402, 0.0797747276250389),\n",
       " (403, 0.5079456448299013),\n",
       " (404, 0.862287114582666),\n",
       " (405, 0.8981194064268996),\n",
       " (406, 0.893873412748208),\n",
       " (407, 0.008385633192470099),\n",
       " (408, 0.8766503766195636),\n",
       " (409, 0.502208304881977),\n",
       " (410, 0.32539587065826336),\n",
       " (411, 0.5880562518859451),\n",
       " (412, 0.8316596997388943),\n",
       " (413, 0.12309845748723591),\n",
       " (414, 0.04120930742544893),\n",
       " (415, 0.9701853732579903),\n",
       " (416, 0.6937023890366486),\n",
       " (417, 0.31769900923377836),\n",
       " (418, 0.22881507528855238),\n",
       " (419, 0.6151017693402556),\n",
       " (420, 0.2550247530376222),\n",
       " (421, 0.9054892483955846),\n",
       " (422, 0.0315228465368097),\n",
       " (423, 0.722937432302964),\n",
       " (424, 0.11002560244323079),\n",
       " (425, 0.17893499431467375),\n",
       " (426, 0.17244668590071888),\n",
       " (427, 0.6769756158121362),\n",
       " (428, 0.9047887481552099),\n",
       " (429, 0.2685862250125268),\n",
       " (430, 0.23695348888245182),\n",
       " (431, 0.08719803102250478),\n",
       " (432, 0.9785802292687276),\n",
       " (433, 0.9893163253676615),\n",
       " (434, 0.2229757579442555),\n",
       " (435, 0.09197871000824842),\n",
       " (436, 0.30601415467090876),\n",
       " (437, 0.062295838025573924),\n",
       " (438, 0.45411799756789495),\n",
       " (439, 0.6462318972612591),\n",
       " (440, 0.6657961081664084),\n",
       " (441, 0.0820644625763507),\n",
       " (442, 0.45495710075617),\n",
       " (443, 0.495811889127342),\n",
       " (444, 0.774829148200037),\n",
       " (445, 0.23433616602088558),\n",
       " (446, 0.7487720454977559),\n",
       " (447, 0.6352144182250175),\n",
       " (448, 0.05098206581850073),\n",
       " (449, 0.4718044969037054),\n",
       " (450, 0.6623285775442684),\n",
       " (451, 0.25458369692495364),\n",
       " (452, 0.5033341928936815),\n",
       " (453, 0.19160588564223746),\n",
       " (454, 0.4614979621496522),\n",
       " (455, 0.6233151017778331),\n",
       " (456, 0.610265943627592),\n",
       " (457, 0.5390738404913529),\n",
       " (458, 0.9038828381099275),\n",
       " (459, 0.027398713707242894),\n",
       " (460, 0.12719972803904867),\n",
       " (461, 0.19810273213969765),\n",
       " (462, 0.20820951860976744),\n",
       " (463, 0.8350339504514475),\n",
       " (464, 0.7793800505890426),\n",
       " (465, 0.06366474095141761),\n",
       " (466, 0.7942272283173423),\n",
       " (467, 0.794040110592143),\n",
       " (468, 0.3722102183292828),\n",
       " (469, 0.498071723244075),\n",
       " (470, 0.30128056956149285),\n",
       " (471, 0.7867187108064684),\n",
       " (472, 0.7344676296137661),\n",
       " (473, 0.23646006365594385),\n",
       " (474, 0.9746171096012137),\n",
       " (475, 0.557256627668191),\n",
       " (476, 0.3231522054549584),\n",
       " (477, 0.05950781416943507),\n",
       " (478, 0.5923926412826841),\n",
       " (479, 0.3383642781031152),\n",
       " (480, 0.438452758629825),\n",
       " (481, 0.8162322683510195),\n",
       " (482, 0.9682811522618341),\n",
       " (483, 0.5558774337318467),\n",
       " (484, 0.19555288590008746),\n",
       " (485, 0.7172148500304245),\n",
       " (486, 0.6024018019418451),\n",
       " (487, 0.8800427380278286),\n",
       " (488, 0.7532621039892907),\n",
       " (489, 0.7005110941727561),\n",
       " (490, 0.9609770378660913),\n",
       " (491, 0.8355807701419579),\n",
       " (492, 0.3316940432758565),\n",
       " (493, 0.04804439763518786),\n",
       " (494, 0.24021508915926737),\n",
       " (495, 0.041356360874383324),\n",
       " (496, 0.9110554485780655),\n",
       " (497, 0.8941955729976034),\n",
       " (498, 0.9388984695382433),\n",
       " (499, 0.07955163889598149),\n",
       " (500, 0.6681812828186214),\n",
       " (501, 0.6063433975866926),\n",
       " (502, 0.09031850834672028),\n",
       " (503, 0.39251779333136627),\n",
       " (504, 0.910664856318206),\n",
       " (505, 0.632151265263516),\n",
       " (506, 0.2743076198939357),\n",
       " (507, 0.2575072506990236),\n",
       " (508, 0.15545810681457206),\n",
       " (509, 0.28739359971716893),\n",
       " (510, 0.8641526603365012),\n",
       " (511, 0.9457605204066034),\n",
       " (512, 0.49800860904376876),\n",
       " (513, 0.1299841678787783),\n",
       " (514, 0.3107244978459651),\n",
       " (515, 0.9433005640493888),\n",
       " (516, 0.8021543662837818),\n",
       " (517, 0.6442521086849969),\n",
       " (518, 0.09534861617845924),\n",
       " (519, 0.5572328403373914),\n",
       " (520, 0.7869418714569939),\n",
       " (521, 0.3007218754600848),\n",
       " (522, 0.591206496250076),\n",
       " (523, 0.4387525899820426),\n",
       " (524, 0.8458373174545523),\n",
       " (525, 0.5554704812929494),\n",
       " (526, 0.09143529236803405),\n",
       " (527, 0.35948461380517405),\n",
       " (528, 0.8248460423344735),\n",
       " (529, 0.14387237095457373),\n",
       " (530, 0.05130968472776076),\n",
       " (531, 0.05600852795783917),\n",
       " (532, 0.7142068367870998),\n",
       " (533, 0.6217267708886383),\n",
       " (534, 0.35114419566557564),\n",
       " (535, 0.29099807448832227),\n",
       " (536, 0.6194076429807994),\n",
       " (537, 0.5038183946547946),\n",
       " (538, 0.7830669743912557),\n",
       " (539, 0.6093438816948389),\n",
       " (540, 0.8305540777516608),\n",
       " (541, 0.8282803756047126),\n",
       " (542, 0.8943292454046691),\n",
       " (543, 0.576947802592256),\n",
       " (544, 0.6568595451113194),\n",
       " (545, 0.38069192188613754),\n",
       " (546, 0.0007495454208911179),\n",
       " (547, 0.3755046926632106),\n",
       " (548, 0.7735612650887098),\n",
       " (549, 0.10014047842105855),\n",
       " (550, 0.9947596997427851),\n",
       " (551, 0.2815427583461976),\n",
       " (552, 0.5676402962546884),\n",
       " (553, 0.5540147976487747),\n",
       " (554, 0.19675675904027523),\n",
       " (555, 0.05100796772666205),\n",
       " (556, 0.07452523653712406),\n",
       " (557, 0.8478839883204563),\n",
       " (558, 0.9493356295436141),\n",
       " (559, 0.6377205313688652),\n",
       " (560, 0.44617311087296785),\n",
       " (561, 0.4131576451334349),\n",
       " (562, 0.07617007969697853),\n",
       " (563, 0.37737749089572226),\n",
       " (564, 0.2165296378549968),\n",
       " (565, 0.25339936229439),\n",
       " (566, 0.26101855987356426),\n",
       " (567, 0.36866769323661674),\n",
       " (568, 0.7197779883050212),\n",
       " (569, 0.7338081752157621),\n",
       " (570, 0.10718176603302632),\n",
       " (571, 0.42948419903439683),\n",
       " (572, 0.5292847251625789),\n",
       " (573, 0.8397917503620437),\n",
       " (574, 0.9402394088862049),\n",
       " (575, 0.03208135937402812),\n",
       " (576, 0.7652808753308401),\n",
       " (577, 0.03095647203951657),\n",
       " (578, 0.10007088929845898),\n",
       " (579, 0.7962397796108553),\n",
       " (580, 0.6992952719038523),\n",
       " (581, 0.4487716895709388),\n",
       " (582, 0.425666932783636),\n",
       " (583, 0.504203392375747),\n",
       " (584, 0.7677598761864418),\n",
       " (585, 0.10107796410460057),\n",
       " (586, 0.744550860580262),\n",
       " (587, 0.9412068315151961),\n",
       " (588, 0.060737514969226414),\n",
       " (589, 0.8430694800467688),\n",
       " (590, 0.6187485522205719),\n",
       " (591, 0.21790350180205875),\n",
       " (592, 0.5971187917493712),\n",
       " (593, 0.7889169566365438),\n",
       " (594, 0.6352899048297284),\n",
       " (595, 0.023756845535198967),\n",
       " (596, 0.6278420846119345),\n",
       " (597, 0.9288905223900779),\n",
       " (598, 0.3338659107491194),\n",
       " (599, 0.4042358453609355),\n",
       " (600, 0.21141221069996585),\n",
       " (601, 0.4555872780606677),\n",
       " (602, 0.20085836289693382),\n",
       " (603, 0.7137984013776734),\n",
       " (604, 0.6182551553328707),\n",
       " (605, 0.08072207781249885),\n",
       " (606, 0.6695230319853374),\n",
       " (607, 0.20304858214791588),\n",
       " (608, 0.8922096579342109),\n",
       " (609, 0.9636778495124493),\n",
       " (610, 0.2649746616506363),\n",
       " (611, 0.49920372874107943),\n",
       " (612, 0.43304425663085633),\n",
       " (613, 0.6719653840605809),\n",
       " (614, 0.9021266271931346),\n",
       " (615, 0.3433729619608177),\n",
       " (616, 0.025241381437157706),\n",
       " (617, 0.6366785966463783),\n",
       " (618, 0.9014006694491344),\n",
       " (619, 0.39370583809266724),\n",
       " (620, 0.5247542353152824),\n",
       " (621, 0.7296082480840592),\n",
       " (622, 0.16410126485978882),\n",
       " (623, 0.9172038407409718),\n",
       " (624, 0.81508427633851),\n",
       " (625, 0.9798189205761241),\n",
       " (626, 0.30307447094866236),\n",
       " (627, 0.7932154569058917),\n",
       " (628, 0.9958843243520974),\n",
       " (629, 0.25183167375421067),\n",
       " (630, 0.051836333635157494),\n",
       " (631, 0.11604096149761278),\n",
       " (632, 0.1221981285947853),\n",
       " (633, 0.555583523677557),\n",
       " (634, 0.28972371702782074),\n",
       " (635, 0.7841518659899208),\n",
       " (636, 0.5497496757531316),\n",
       " (637, 0.8483354873687354),\n",
       " (638, 0.9044188099817522),\n",
       " (639, 0.34163245659032626),\n",
       " (640, 0.17681543965524193),\n",
       " (641, 0.4751777783347978),\n",
       " (642, 0.6128898314483163),\n",
       " (643, 0.43282259501048304),\n",
       " (644, 0.7762708267880745),\n",
       " (645, 0.3952336663298778),\n",
       " (646, 0.2435374262077209),\n",
       " (647, 0.9456888009235154),\n",
       " (648, 0.20395019812531778),\n",
       " (649, 0.4445988654351255),\n",
       " (650, 0.5920729702932268),\n",
       " (651, 0.3951828101040856),\n",
       " (652, 0.2757367737472055),\n",
       " (653, 0.9915240277418713),\n",
       " (654, 0.7285326072870356),\n",
       " (655, 0.5159500829231387),\n",
       " (656, 0.9374462968289599),\n",
       " (657, 0.9859563694937941),\n",
       " (658, 0.0004862559936131827),\n",
       " (659, 0.05284499954770894),\n",
       " (660, 0.7013466131010443),\n",
       " (661, 0.11142985382209525),\n",
       " (662, 0.6385434085388497),\n",
       " (663, 0.6384171625746575),\n",
       " (664, 0.5375370419817345),\n",
       " (665, 0.8903779516798165),\n",
       " (666, 0.505522601897453),\n",
       " (667, 0.2874917533932968),\n",
       " (668, 0.46203481908315414),\n",
       " (669, 0.4837873747064422),\n",
       " (670, 0.3989806876878774),\n",
       " (671, 0.6346055512319632),\n",
       " (672, 0.8779125498767821),\n",
       " (673, 0.6481559533155472),\n",
       " (674, 0.7770039808547827),\n",
       " (675, 0.8340072326211166),\n",
       " (676, 0.4216872367936225),\n",
       " (677, 0.7577906559944861),\n",
       " (678, 0.214787525063316),\n",
       " (679, 0.9667721663117019),\n",
       " (680, 0.920301798116578),\n",
       " (681, 0.6557243531819584),\n",
       " (682, 0.5279292168730777),\n",
       " (683, 0.40629295113039754),\n",
       " (684, 0.557528887842685),\n",
       " (685, 0.1777383844211624),\n",
       " (686, 0.3506141231602443),\n",
       " (687, 0.7280300729250572),\n",
       " (688, 0.751115216155153),\n",
       " (689, 0.2640535011250835),\n",
       " (690, 0.8494050872934821),\n",
       " (691, 0.9427545112156559),\n",
       " (692, 0.5539994949748624),\n",
       " (693, 0.2869968618227815),\n",
       " (694, 0.24767383538969956),\n",
       " (695, 0.0951836469533871),\n",
       " (696, 0.24834808605908953),\n",
       " (697, 0.950792914535881),\n",
       " (698, 0.204289024970707),\n",
       " (699, 0.13545880176009228),\n",
       " (700, 0.3623032650335879),\n",
       " (701, 0.3564617404236674),\n",
       " (702, 0.817245911676996),\n",
       " (703, 0.23961700744546),\n",
       " (704, 0.8133452590725005),\n",
       " (705, 0.5029699988273489),\n",
       " (706, 0.3463822521871057),\n",
       " (707, 0.53943872957584),\n",
       " (708, 0.9417154241065644),\n",
       " (709, 0.6276493693906687),\n",
       " (710, 0.4119070284594286),\n",
       " (711, 0.5306785976566886),\n",
       " (712, 0.4981954768990674),\n",
       " (713, 0.6117642078186214),\n",
       " (714, 0.001587961795321613),\n",
       " (715, 0.9158708752027207),\n",
       " (716, 0.013567580601930418),\n",
       " (717, 0.3908764283720114),\n",
       " (718, 0.7447153474717736),\n",
       " (719, 0.30309264096752697),\n",
       " (720, 0.7266952502257249),\n",
       " (721, 0.5458081396158933),\n",
       " (722, 0.5207677963942676),\n",
       " (723, 0.15611346384879987),\n",
       " (724, 0.3657157048290034),\n",
       " (725, 0.8708935165665154),\n",
       " (726, 0.7323125171098606),\n",
       " (727, 0.6232091112336638),\n",
       " (728, 0.8106952063107175),\n",
       " (729, 0.4605253844079451),\n",
       " (730, 0.8909375737082287),\n",
       " (731, 0.47261747988455016),\n",
       " (732, 0.39097512635290577),\n",
       " (733, 0.23129716005601342),\n",
       " (734, 0.26571902382613777),\n",
       " (735, 0.10272777562874258),\n",
       " (736, 0.5790725225630734),\n",
       " (737, 0.638339589028186),\n",
       " (738, 0.02490437987321048),\n",
       " (739, 0.6968360732538732),\n",
       " (740, 0.7209752669564082),\n",
       " (741, 0.29789794341082554),\n",
       " (742, 0.42501425693105166),\n",
       " (743, 0.5150663304526317),\n",
       " (744, 0.8831290791870148),\n",
       " (745, 0.740973741620248),\n",
       " (746, 0.6244902391517753),\n",
       " (747, 0.6795932288409975),\n",
       " (748, 0.5827611401233584),\n",
       " (749, 0.7503215554387261),\n",
       " (750, 0.4585927658702883),\n",
       " (751, 0.37024012683578345),\n",
       " (752, 0.42534279538519426),\n",
       " (753, 0.1906551936580172),\n",
       " (754, 0.0372301267798969),\n",
       " (755, 0.5292591050334843),\n",
       " (756, 0.3523801726706616),\n",
       " (757, 0.9582163963336875),\n",
       " (758, 0.2959418390589602),\n",
       " (759, 0.798444691915478),\n",
       " (760, 0.6942708951039491),\n",
       " (761, 0.39274312365917496),\n",
       " (762, 0.5248445250394324),\n",
       " (763, 0.8012475782678038),\n",
       " (764, 0.2023552328741286),\n",
       " (765, 0.40031112094337495),\n",
       " (766, 0.06087264792144231),\n",
       " (767, 0.36545230666342265),\n",
       " (768, 0.7074375755694366),\n",
       " (769, 0.638948341065413),\n",
       " (770, 0.9275487063858805),\n",
       " (771, 0.48065789372998957),\n",
       " (772, 0.008672979494057653),\n",
       " (773, 0.702787202985111),\n",
       " (774, 0.7164852324407979),\n",
       " (775, 0.8904213027581008),\n",
       " (776, 0.8751070012452553),\n",
       " (777, 0.19839113174902545),\n",
       " (778, 0.12487539657659541),\n",
       " (779, 0.41395379928625664),\n",
       " (780, 0.8433471423745357),\n",
       " (781, 0.34483265378111505),\n",
       " (782, 0.419304278629386),\n",
       " (783, 0.8453050025333587),\n",
       " (784, 0.3688099805558499),\n",
       " (785, 0.08996189296588442),\n",
       " (786, 0.6644344353916206),\n",
       " (787, 0.5399748437129794),\n",
       " (788, 0.6590690996174889),\n",
       " (789, 0.2716149798019437),\n",
       " (790, 0.3755637795449879),\n",
       " (791, 0.7410060556657894),\n",
       " (792, 0.9631398552929448),\n",
       " (793, 0.988813310143885),\n",
       " (794, 0.49052671475525633),\n",
       " (795, 0.6779839954365228),\n",
       " (796, 0.983398269247559),\n",
       " (797, 0.3065729083980123),\n",
       " (798, 0.47805039986721953),\n",
       " (799, 0.2859740250886158),\n",
       " (800, 0.5735329786745164),\n",
       " (801, 0.33844443717945993),\n",
       " (802, 0.5817435738427551),\n",
       " (803, 0.5821817290494622),\n",
       " (804, 0.48595798335907237),\n",
       " (805, 0.01643131605268877),\n",
       " (806, 0.8200768001080799),\n",
       " (807, 0.5844770925623466),\n",
       " (808, 0.24342350379158484),\n",
       " (809, 0.23216913172853537),\n",
       " (810, 0.13202217372903002),\n",
       " (811, 0.17470660341406208),\n",
       " (812, 0.39618265748251835),\n",
       " (813, 0.4056362805142226),\n",
       " (814, 0.14665042514491156),\n",
       " (815, 0.16858916300426463),\n",
       " (816, 0.6398251504296141),\n",
       " (817, 0.09013100509142735),\n",
       " (818, 0.7077434937201947),\n",
       " (819, 0.4826710009071018),\n",
       " (820, 0.35987260838579516),\n",
       " (821, 0.10739891795628542),\n",
       " (822, 0.05053757109146173),\n",
       " (823, 0.6813818693591976),\n",
       " (824, 0.2162570993996077),\n",
       " (825, 0.05293953735250023),\n",
       " (826, 0.053261735911179),\n",
       " (827, 0.3420134286058111),\n",
       " (828, 0.21959276434812303),\n",
       " (829, 0.8136099261283),\n",
       " (830, 0.14791057983314415),\n",
       " (831, 0.44859436747091475),\n",
       " (832, 0.9003678103327618),\n",
       " (833, 0.10088287403257368),\n",
       " (834, 0.7691265175594713),\n",
       " (835, 0.22774536651479327),\n",
       " (836, 0.6015341638448918),\n",
       " (837, 0.24843308773387318),\n",
       " (838, 0.4891634525896956),\n",
       " (839, 0.34842111531460607),\n",
       " (840, 0.26080483817290534),\n",
       " (841, 0.27534234222888243),\n",
       " (842, 0.37632105651158965),\n",
       " (843, 0.19995605536084426),\n",
       " (844, 0.3159449746173647),\n",
       " (845, 0.8030804501643715),\n",
       " (846, 0.23218969460021044),\n",
       " (847, 0.6435308451407769),\n",
       " (848, 0.22886329562498686),\n",
       " (849, 0.46788402039909827),\n",
       " (850, 0.9195116904519784),\n",
       " (851, 0.4760587637104612),\n",
       " (852, 0.4888197509740808),\n",
       " (853, 0.5905256157696819),\n",
       " (854, 0.3928083927821663),\n",
       " (855, 0.8448814444264241),\n",
       " (856, 0.20137648261185037),\n",
       " (857, 0.05972128949671407),\n",
       " (858, 0.23994725671201533),\n",
       " (859, 0.7186941432484972),\n",
       " (860, 0.2837524895297321),\n",
       " (861, 0.4775837708633649),\n",
       " (862, 0.971294517814524),\n",
       " (863, 0.6115938890971369),\n",
       " (864, 0.19881143006114932),\n",
       " (865, 0.04608287711527559),\n",
       " (866, 0.5590904447825078),\n",
       " (867, 0.12070017583781523),\n",
       " (868, 0.040742992153716684),\n",
       " (869, 0.5444657325734357),\n",
       " (870, 0.7646788579406554),\n",
       " (871, 0.6874507316992144),\n",
       " (872, 0.7619646671274765),\n",
       " (873, 0.3554898214477975),\n",
       " (874, 0.4147058541953691),\n",
       " (875, 0.6688581405741615),\n",
       " (876, 0.994531839575233),\n",
       " (877, 0.6752129380667458),\n",
       " (878, 0.39157850576391173),\n",
       " (879, 0.48229052849889165),\n",
       " (880, 0.05424776006498655),\n",
       " (881, 0.5967423724192963),\n",
       " (882, 0.7812687643417433),\n",
       " (883, 0.5352983158442355),\n",
       " (884, 0.5340664903861588),\n",
       " (885, 0.6099998411368587),\n",
       " (886, 0.25763808810978805),\n",
       " (887, 0.717684485987986),\n",
       " (888, 0.5157942730662355),\n",
       " (889, 0.05439339623955419),\n",
       " (890, 0.519210775388519),\n",
       " (891, 0.41401280147476205),\n",
       " (892, 0.2977015389231975),\n",
       " (893, 0.5464037500930091),\n",
       " (894, 0.8803747007553698),\n",
       " (895, 0.6284075486323257),\n",
       " (896, 0.6834460935048138),\n",
       " (897, 0.5241972472953881),\n",
       " (898, 0.12700244338611189),\n",
       " (899, 0.9033181258123708),\n",
       " (900, 0.3708656543187808),\n",
       " (901, 0.5493020833589229),\n",
       " (902, 0.07280226940696832),\n",
       " (903, 0.3554363492661019),\n",
       " (904, 0.8488569030977686),\n",
       " (905, 0.18299286505102008),\n",
       " (906, 0.9549341342142853),\n",
       " (907, 0.21738515223992216),\n",
       " (908, 0.6424564597887367),\n",
       " (909, 0.6051559472269327),\n",
       " (910, 0.5502435520798109),\n",
       " (911, 0.6354395459726153),\n",
       " (912, 0.9374989046685507),\n",
       " (913, 0.08308689933082136),\n",
       " (914, 0.311538346647228),\n",
       " (915, 0.3277382002592528),\n",
       " (916, 0.9112817851124442),\n",
       " (917, 0.036149444559162136),\n",
       " (918, 0.7460540666622862),\n",
       " (919, 0.9362923990163412),\n",
       " (920, 0.18309270799823207),\n",
       " (921, 0.2915081853893927),\n",
       " (922, 0.1793811648806054),\n",
       " (923, 0.41543115276477294),\n",
       " (924, 0.67886996658615),\n",
       " (925, 0.905301295280739),\n",
       " (926, 0.8655424973066091),\n",
       " (927, 0.3817357238252257),\n",
       " (928, 0.15494237898301644),\n",
       " (929, 0.6096697596552145),\n",
       " (930, 0.5587152293997046),\n",
       " (931, 0.1528822215826311),\n",
       " (932, 0.11376060693647272),\n",
       " (933, 0.7319920970006851),\n",
       " (934, 0.688598578226625),\n",
       " (935, 0.795964564365319),\n",
       " (936, 0.3998660262958792),\n",
       " (937, 0.5734530738476981),\n",
       " (938, 0.8592589863321523),\n",
       " (939, 0.5322146753074737),\n",
       " (940, 0.22883221188384117),\n",
       " (941, 0.07168862666132203),\n",
       " (942, 0.2797850039858487),\n",
       " (943, 0.3488445678769033),\n",
       " (944, 0.2417409726249612),\n",
       " (945, 0.481528889943614),\n",
       " (946, 0.7926836582371117),\n",
       " (947, 0.10479126071421396),\n",
       " (948, 0.11574165993302266),\n",
       " (949, 0.11970284988753421),\n",
       " (950, 0.9999212548834474),\n",
       " (951, 0.64396033140057),\n",
       " (952, 0.15279243704258372),\n",
       " (953, 0.43672095783073295),\n",
       " (954, 0.7337792381852986),\n",
       " (955, 0.40184171955767756),\n",
       " (956, 0.3343097234175971),\n",
       " (957, 0.9170861445578171),\n",
       " (958, 0.09056107476821729),\n",
       " (959, 0.35521263577122464),\n",
       " (960, 0.10165754091743595),\n",
       " (961, 0.15355272785844898),\n",
       " (962, 0.10713572027118545),\n",
       " (963, 0.35316082937773674),\n",
       " (964, 0.601642089450262),\n",
       " (965, 0.6982362633625457),\n",
       " (966, 0.054682725422821155),\n",
       " (967, 0.9436085909209094),\n",
       " (968, 0.20768604009804637),\n",
       " (969, 0.06595111374707929),\n",
       " (970, 0.8999606867436711),\n",
       " (971, 0.11128561116132052),\n",
       " (972, 0.8775827866090243),\n",
       " (973, 0.7811850556155104),\n",
       " (974, 0.9439240986386345),\n",
       " (975, 0.953192175254196),\n",
       " (976, 0.48186033322147404),\n",
       " (977, 0.37176604216845144),\n",
       " (978, 0.12439029642929744),\n",
       " (979, 0.17740626221887545),\n",
       " (980, 0.8698467474001843),\n",
       " (981, 0.42698169623962257),\n",
       " (982, 0.7952472072246225),\n",
       " (983, 0.36968321603426935),\n",
       " (984, 0.5545456130201142),\n",
       " (985, 0.7850166444048896),\n",
       " (986, 0.4353871132052509),\n",
       " (987, 0.15638671162734752),\n",
       " (988, 0.9711141723335642),\n",
       " (989, 0.5180726034652455),\n",
       " (990, 0.8135741631290413),\n",
       " (991, 0.33077345512628376),\n",
       " (992, 0.9742990532326363),\n",
       " (993, 0.6490434406721698),\n",
       " (994, 0.9596846537247916),\n",
       " (995, 0.08147758851095677),\n",
       " (996, 0.041892197354543304),\n",
       " (997, 0.8256042211371064),\n",
       " (998, 0.974370677126835),\n",
       " (999, 0.18095597230434868),\n",
       " ...]"
      ]
     },
     "execution_count": 3,
     "metadata": {},
     "output_type": "execute_result"
    }
   ],
   "source": [
    "tups1 = list(enumerate(values))\n",
    "tups1"
   ]
  },
  {
   "cell_type": "markdown",
   "metadata": {},
   "source": [
    "which shows that enumerate can be used outside of a for loop and might sometimes be useful in such a context."
   ]
  },
  {
   "cell_type": "markdown",
   "metadata": {},
   "source": [
    "Which days had high temperatures?"
   ]
  },
  {
   "cell_type": "code",
   "execution_count": 6,
   "metadata": {},
   "outputs": [],
   "source": [
    "temps = [random.randint(0,110) for i in range(100)]"
   ]
  },
  {
   "cell_type": "code",
   "execution_count": 7,
   "metadata": {},
   "outputs": [
    {
     "name": "stdout",
     "output_type": "stream",
     "text": [
      "Day 2 had a temperature of 96.\n",
      "Day 10 had a temperature of 104.\n",
      "Day 17 had a temperature of 106.\n",
      "Day 24 had a temperature of 95.\n",
      "Day 26 had a temperature of 106.\n",
      "Day 35 had a temperature of 102.\n",
      "Day 40 had a temperature of 105.\n",
      "Day 42 had a temperature of 92.\n",
      "Day 45 had a temperature of 105.\n",
      "Day 64 had a temperature of 108.\n",
      "Day 65 had a temperature of 107.\n",
      "Day 66 had a temperature of 108.\n",
      "Day 73 had a temperature of 102.\n",
      "Day 74 had a temperature of 96.\n",
      "Day 79 had a temperature of 91.\n",
      "Day 88 had a temperature of 106.\n",
      "[2, 10, 17, 24, 26, 35, 40, 42, 45, 64, 65, 66, 73, 74, 79, 88]\n"
     ]
    }
   ],
   "source": [
    "temp_thres = 90\n",
    "hot_days = []\n",
    "for d,t in enumerate(temps):\n",
    "    if t >= temp_thres:\n",
    "        print(f'Day {d} had a temperature of {t}.')\n",
    "        hot_days.append(d)\n",
    "print(hot_days)"
   ]
  },
  {
   "cell_type": "markdown",
   "metadata": {},
   "source": [
    "# The <code>zip()</code>, <code>map()</code>, and <code>filter()</code>  Functions ... and the <code>*</code> Operator  <a name='zip_map_filter' />\n",
    "Back to <a href = '#navigation'>Navigation</a>\n",
    "\n",
    "These functions are very useful, although accessing the results can be a bit unintuitive until one realizes they are iterators.  We have described iterators and so you have the foundation to understand how to view and use the results of these functions.  By returning results in the form of iterators, these functions perform faster while using less memory.  "
   ]
  },
  {
   "cell_type": "markdown",
   "metadata": {},
   "source": [
    "## The <code>*</code> Operator <a name='asterisk_op' />  \n",
    "Back to <a href = '#navigation'>Navigation</a>\n",
    "\n",
    "We, most liekly, think first of <code>*</code> as denoting a multiplication operation.  But, it has another meaning, which is to unpack Python data types that are collections of elements.  We introduce the notion of unpacking in this section in the context of well known Python data types, including lists, tuples, and dictionaries.  The <code>*</code> operator becomes even more important when we work with generators and iterators, but it is easiest to introduce it in the context of basic Python types.\n",
    "\n",
    "Take these lists and tuples, for example,\n",
    "<code>\n",
    "    ls_1 = [0, 1, 2]\n",
    "    ls_2 = [[0, 1], [2, 3], [4, 5]]\n",
    "    ls_3 = [(0, 1), (2, 3), (4, 5)]\n",
    "    t_1 = (0, 1, 2)\n",
    "    t_2 = ([0, 1], [2, 3], [4, 5])\n",
    "    t_3 = ((0, 1), (2, 3), (4, 5))\n",
    "</code>\n",
    "\n",
    "You can think of the <code>*</code> placed in fornt of one of these variable names as removing the outer container type.  That is, in the respective order above, we would have three uncontained integers, three uncontained sub-lists, and three uncontained tuples in that order or, in effect,\n",
    "\n",
    "<code>\n",
    "    *ls_1 = 0, 1, 2\n",
    "    *ls_2 = [0, 1], [2, 3], [4, 5]\n",
    "    *ls_3 = (0, 1), (2, 3), (4, 5)\n",
    "    *t_1 = 0, 1, 2\n",
    "    *t_2 = [0, 1], [2, 3], [4, 5]\n",
    "    *t_3 = (0, 1), (2, 3), (4, 5)\n",
    "</code>\n",
    "\n",
    "The statements above are not valid Python statements but, rather, demonstrate, in effect, what <code>*</code> does. To further demonstrate, we will try to evaluate one of these starred expressions."
   ]
  },
  {
   "cell_type": "code",
   "execution_count": null,
   "metadata": {},
   "outputs": [],
   "source": [
    "ls_1 = [0, 1, 2]\n",
    "ls_2 = [[0, 1], [2, 3], [4, 5]]\n",
    "ls_3 = [(0, 1), (2, 3), (4, 5)]\n",
    "t_1 = (0, 1, 2)\n",
    "t_2 = ([0, 1], [2, 3], [4, 5])\n",
    "t_3 = ((0, 1), (2, 3), (4, 5))"
   ]
  },
  {
   "cell_type": "code",
   "execution_count": null,
   "metadata": {},
   "outputs": [],
   "source": [
    "*ls_1"
   ]
  },
  {
   "cell_type": "markdown",
   "metadata": {},
   "source": [
    "So, why is this a useful operation?  One use is to repackage the inner elements into a different outer data type, such as in the following cells."
   ]
  },
  {
   "cell_type": "code",
   "execution_count": null,
   "metadata": {},
   "outputs": [],
   "source": [
    "(*ls_1,)"
   ]
  },
  {
   "cell_type": "code",
   "execution_count": null,
   "metadata": {},
   "outputs": [],
   "source": [
    "[*t_1]"
   ]
  },
  {
   "cell_type": "markdown",
   "metadata": {},
   "source": [
    "Well, that is not so impressive or useful: this can be accomplished with other obvious methods.  In the same vein, however, a starred expression can be used to conveniently specify part of a lerger list or tuple that is being constructed."
   ]
  },
  {
   "cell_type": "code",
   "execution_count": null,
   "metadata": {},
   "outputs": [],
   "source": [
    "[9, 8, 7, 6, *ls_1]"
   ]
  },
  {
   "cell_type": "markdown",
   "metadata": {},
   "source": [
    "You can also use <code>*</code> with dictionaries.  Using just the variable name references the dictionary keys, as is the default in a <code>for</code> loop, or both keys and values can be referenced with <code>.items()</code>."
   ]
  },
  {
   "cell_type": "code",
   "execution_count": null,
   "metadata": {},
   "outputs": [],
   "source": [
    "dct_nums = {0:'zero', 1:'one', 2:'two'}"
   ]
  },
  {
   "cell_type": "code",
   "execution_count": null,
   "metadata": {},
   "outputs": [],
   "source": [
    "[*dct_nums]"
   ]
  },
  {
   "cell_type": "code",
   "execution_count": null,
   "metadata": {},
   "outputs": [],
   "source": [
    "[*dct_nums.items()]"
   ]
  },
  {
   "cell_type": "code",
   "execution_count": null,
   "metadata": {},
   "outputs": [],
   "source": []
  },
  {
   "cell_type": "markdown",
   "metadata": {},
   "source": [
    "## <code>zip()</code> Function <a name='zip' />  \n",
    "Back to <a href = '#navigation'>Navigation</a>\n",
    "\n",
    "The <code>zip()</code> function takes as input two or more lists, tuples, or other iterable data types and outputs a number of tuples equal to the length of the inputs.\n",
    "\n",
    "The 0th elment of the output tuples is the combination of the 0th element from each of the inputs, the 1st element of the output is the combination of the 1st elements from the inputs, and so forth.\n",
    "\n",
    "Statement|Result|\n",
    ":---: | :---: |\n",
    "<code>zip((0,1),(2,3),(4,5))</code>|<code>((0, 2, 4),(1, 3, 5))</code>|\n",
    "\n",
    "If the input tuples represented rows of a matrix, then <code>zip()</code> produces what one can consider the rows of the transpose matrix.\n",
    "\n",
    "Notice that printing the output does not reveal the data, but merely indicates that the result is of the <code>zip</code> data type.  This data type is an example of an <code>iterator</code>, as we have previously discussed.  Its values can be retrieved in a number of ways as demonstrated below."
   ]
  },
  {
   "cell_type": "code",
   "execution_count": null,
   "metadata": {},
   "outputs": [],
   "source": [
    "zip((0,1),(2,3),(4,5))"
   ]
  },
  {
   "cell_type": "markdown",
   "metadata": {},
   "source": [
    "Retrieval with a <code>for</code> loop, list comprehension, and the asterisk, <code>*</code> operator, respectively, and a couple other methods."
   ]
  },
  {
   "cell_type": "code",
   "execution_count": null,
   "metadata": {},
   "outputs": [],
   "source": [
    "for x in zip((0,1),(2,3),(4,5)):\n",
    "    print(x)"
   ]
  },
  {
   "cell_type": "code",
   "execution_count": null,
   "metadata": {},
   "outputs": [],
   "source": [
    "[x for x in zip((0,1),(2,3),(4,5))]"
   ]
  },
  {
   "cell_type": "markdown",
   "metadata": {},
   "source": [
    "The <code>*</code> (asterisk) operator affords the same functionalty as does list comprehension in terms of viewing the result: it unpacks the <code>zip</code> result, which is a tuple of tuples in this case, so the sub-tuples are repacked into a list."
   ]
  },
  {
   "cell_type": "code",
   "execution_count": null,
   "metadata": {},
   "outputs": [],
   "source": [
    "result = zip((0,1),(2,3),(4,5))\n",
    "[*result]"
   ]
  },
  {
   "cell_type": "code",
   "execution_count": null,
   "metadata": {},
   "outputs": [],
   "source": [
    "result = zip((0,1),(2,3),(4,5))\n",
    "list(result)"
   ]
  },
  {
   "cell_type": "code",
   "execution_count": null,
   "metadata": {},
   "outputs": [],
   "source": [
    "result = zip((0,1),(2,3),(4,5))\n",
    "tuple(result)"
   ]
  },
  {
   "cell_type": "markdown",
   "metadata": {},
   "source": [
    "An example where zip is useful is when data for a <code>matplotlib</code> line plot is supplied in a list of lists, with each sublist representing the <code>x</code>-<code>y</code> coordinates of a point.  The data must be transformed into a series of <code>x</code> data and a series of <code>y</code> data in order to be plotted.\n",
    "\n",
    "The <code>zip()</code> function reorganizes those data accordingly and the <code>*</code> operator 'unpacks' the two data series so they can be plotted in the code below."
   ]
  },
  {
   "cell_type": "code",
   "execution_count": null,
   "metadata": {},
   "outputs": [],
   "source": [
    "import matplotlib.pyplot as plt"
   ]
  },
  {
   "cell_type": "code",
   "execution_count": null,
   "metadata": {},
   "outputs": [],
   "source": [
    "data = [[0,0], [1,1], [2,2], [3,0], [4,1], [5,2], [6,0], [7,1], [8,2], [9,0]]"
   ]
  },
  {
   "cell_type": "code",
   "execution_count": null,
   "metadata": {},
   "outputs": [],
   "source": [
    "data_xy = zip(*data)\n",
    "for series in data_xy:\n",
    "    print(series)"
   ]
  },
  {
   "cell_type": "code",
   "execution_count": null,
   "metadata": {},
   "outputs": [],
   "source": [
    "x, y = zip(*data)\n",
    "plt.plot(x, y)\n",
    "plt.show()"
   ]
  },
  {
   "cell_type": "markdown",
   "metadata": {},
   "source": [
    "In a similar way, the <code>zip()</code> function is often used to prepare sets of parameters to be fed into a function in a multiprocessing context, as shown in a simplified example below to compute the distance between a list of origins and another list of corresponding destinations.\n",
    "\n",
    "The code also demonstrate the formatting of output with an <code>f</code> string.\n",
    "  - Curly braces <code>{}</code> indicate where to insert variable values in the string\n",
    "  - Floating-point values can be formatted as indicated with the expression after the colon"
   ]
  },
  {
   "cell_type": "code",
   "execution_count": null,
   "metadata": {},
   "outputs": [],
   "source": [
    "def dist(p, q):\n",
    "    import math\n",
    "    return math.sqrt(sum([abs(p[i] - q[i])**2 for i in range(len(p))]))"
   ]
  },
  {
   "cell_type": "code",
   "execution_count": null,
   "metadata": {},
   "outputs": [],
   "source": [
    "origin = [[0,0], [1,5], [4,2], [8,1]]\n",
    "dest = [[9,5], [1,7], [0,5], [6,2]]\n",
    "\n",
    "arg = zip(origin, dest)\n",
    "\n",
    "for a in arg:\n",
    "    print(f'The distance between {a[0]} and {a[1]} is {dist(*a):.2f}')"
   ]
  },
  {
   "cell_type": "markdown",
   "metadata": {},
   "source": [
    "Note that if the two data structures being zipped do not ahve the same number of elements, then the number of elements being zipped equals the number of elements in the smaller variable."
   ]
  },
  {
   "cell_type": "code",
   "execution_count": null,
   "metadata": {},
   "outputs": [],
   "source": [
    "origin = [[0,0], [1,5], [4,2], [8,1]]\n",
    "dest = [[9,5], [1,7], [0,5]]\n",
    "\n",
    "arg = zip(origin, dest)\n",
    "\n",
    "for a in arg:\n",
    "    print(f'The distance between {a[0]} and {a[1]} is {dist(*a):.2f}')"
   ]
  },
  {
   "cell_type": "markdown",
   "metadata": {},
   "source": [
    "## <code>map()</code> Function <a name='map' />  \n",
    "Back to <a href = '#navigation'>Navigation</a>\n",
    "\n",
    "The <code>map()</code> function takes as its first argument a function and an iterable data type as its second element (e.g., list, tuple).  It applies the function sequentially to each of the elements of the iterable data.\n",
    "\n",
    "The result is a <code>map</code> data type, which is an _iterator_, as was the case with the <code>zip()</code> function.\n",
    "\n",
    "The applied functions are often <code>lambda</code> functions although custom function and built-in functions can be applied also."
   ]
  },
  {
   "cell_type": "code",
   "execution_count": 8,
   "metadata": {},
   "outputs": [
    {
     "data": {
      "text/plain": [
       "map"
      ]
     },
     "execution_count": 8,
     "metadata": {},
     "output_type": "execute_result"
    }
   ],
   "source": [
    "result = map(lambda x:x**2, range(4))\n",
    "type(result)"
   ]
  },
  {
   "cell_type": "markdown",
   "metadata": {},
   "source": [
    "The contents of iterators cannot be printed directly."
   ]
  },
  {
   "cell_type": "code",
   "execution_count": 9,
   "metadata": {},
   "outputs": [
    {
     "data": {
      "text/plain": [
       "<map at 0x1f4bfa25a88>"
      ]
     },
     "execution_count": 9,
     "metadata": {},
     "output_type": "execute_result"
    }
   ],
   "source": [
    "result = map(lambda x:x**2, range(4))\n",
    "result"
   ]
  },
  {
   "cell_type": "code",
   "execution_count": 12,
   "metadata": {},
   "outputs": [
    {
     "name": "stdout",
     "output_type": "stream",
     "text": [
      "<map object at 0x000001F4BFA2B1C8>\n"
     ]
    }
   ],
   "source": [
    "result = map(lambda x:x**2, range(4))\n",
    "print(result)"
   ]
  },
  {
   "cell_type": "markdown",
   "metadata": {},
   "source": [
    "But, their contents can be iterated through in a for loop and they can be transformed into lists with multiple methods."
   ]
  },
  {
   "cell_type": "code",
   "execution_count": 10,
   "metadata": {},
   "outputs": [
    {
     "name": "stdout",
     "output_type": "stream",
     "text": [
      "0\n",
      "1\n",
      "4\n",
      "9\n"
     ]
    }
   ],
   "source": [
    "result = map(lambda x:x**2, range(4))\n",
    "for r in result:\n",
    "    print(r)"
   ]
  },
  {
   "cell_type": "code",
   "execution_count": 11,
   "metadata": {},
   "outputs": [
    {
     "data": {
      "text/plain": [
       "[0, 1, 4, 9]"
      ]
     },
     "execution_count": 11,
     "metadata": {},
     "output_type": "execute_result"
    }
   ],
   "source": [
    "result = map(lambda x:x**2, range(4))\n",
    "[*result]"
   ]
  },
  {
   "cell_type": "code",
   "execution_count": null,
   "metadata": {},
   "outputs": [],
   "source": [
    "result = map(lambda x:x**2, range(4))\n",
    "list(result)"
   ]
  },
  {
   "cell_type": "code",
   "execution_count": null,
   "metadata": {},
   "outputs": [],
   "source": [
    "result = map(lambda x:x**2, range(4))\n",
    "[r for r in result]"
   ]
  },
  {
   "cell_type": "code",
   "execution_count": null,
   "metadata": {},
   "outputs": [],
   "source": [
    "data = ['1', '3', '5', '6', '8']\n",
    "data = map(int, data)\n",
    "data = [*data]\n",
    "print(data)\n",
    "print(type(data[0]))"
   ]
  },
  {
   "cell_type": "markdown",
   "metadata": {},
   "source": [
    "Other <code>map()</code> examples with...\n",
    "\n",
    "- Custom functions\n",
    "- <code>sum</code>\n",
    "- <code>len()</code> function\n",
    "- <code>min()</code> and <code>max()</code> functions"
   ]
  },
  {
   "cell_type": "code",
   "execution_count": 13,
   "metadata": {},
   "outputs": [
    {
     "data": {
      "text/plain": [
       "[0, 1, 4, 9, 16]"
      ]
     },
     "execution_count": 13,
     "metadata": {},
     "output_type": "execute_result"
    }
   ],
   "source": [
    "def sq(x):\n",
    "    return x**2\n",
    "\n",
    "[*map(sq, range(5))]"
   ]
  },
  {
   "cell_type": "code",
   "execution_count": 14,
   "metadata": {},
   "outputs": [
    {
     "name": "stdout",
     "output_type": "stream",
     "text": [
      "6\n",
      "22\n",
      "38\n"
     ]
    }
   ],
   "source": [
    "data = [[0,1,2,3], [4,5,6,7], [8,9,10,11]]\n",
    "result = map(sum, data)\n",
    "for r in result:\n",
    "    print(r)"
   ]
  },
  {
   "cell_type": "code",
   "execution_count": 16,
   "metadata": {},
   "outputs": [
    {
     "name": "stdout",
     "output_type": "stream",
     "text": [
      "[[0.775771883371896, 0.12469336824328903, 0.16537324199740733, 0.9529314746942179, 0.9474836643625582], [0.03900239440465192, 0.45388826973989504, 0.4977895651598009], [0.6432878907649481], [0.06298529397582964], [0.8186581836407526, 0.9467182152221777, 0.2940144431092675, 0.7152939690233757, 0.8508723963406627, 0.05412068107422008]]\n"
     ]
    },
    {
     "data": {
      "text/plain": [
       "[5, 3, 1, 1, 6]"
      ]
     },
     "execution_count": 16,
     "metadata": {},
     "output_type": "execute_result"
    }
   ],
   "source": [
    "import random\n",
    "\n",
    "my_list = [[random.random() for _ in range(random.randint(1,6))] for _ in range(5)]\n",
    "\n",
    "print(my_list)\n",
    "[*map(len, my_list)]"
   ]
  },
  {
   "cell_type": "code",
   "execution_count": 17,
   "metadata": {},
   "outputs": [
    {
     "data": {
      "text/plain": [
       "[0.12469336824328903,\n",
       " 0.03900239440465192,\n",
       " 0.6432878907649481,\n",
       " 0.06298529397582964,\n",
       " 0.05412068107422008]"
      ]
     },
     "execution_count": 17,
     "metadata": {},
     "output_type": "execute_result"
    }
   ],
   "source": [
    "[*map(min, my_list)]"
   ]
  },
  {
   "cell_type": "code",
   "execution_count": 18,
   "metadata": {},
   "outputs": [
    {
     "data": {
      "text/plain": [
       "[0.9529314746942179,\n",
       " 0.4977895651598009,\n",
       " 0.6432878907649481,\n",
       " 0.06298529397582964,\n",
       " 0.9467182152221777]"
      ]
     },
     "execution_count": 18,
     "metadata": {},
     "output_type": "execute_result"
    }
   ],
   "source": [
    "[*map(max, my_list)]"
   ]
  },
  {
   "cell_type": "markdown",
   "metadata": {},
   "source": [
    "## <code>filter()</code> Function  <a name='filter' />  \n",
    "Back to <a href = '#navigation'>Navigation</a>\n",
    "\n",
    "The filter function takes a function as its first argument and a iterable data type as its second argument.  The function is applied to each element of the iterable argument and its output is interpreted as <code>True</code> or <code>False</code>, and it returns only those elements of the iterable argument where the function result is <code>True</code>.\n",
    "\n",
    "Similar to <code>zip()</code> and <code>map()</code>, <code>filter()</code> returns an iterator whose values must be unpacked in order to view them.  The iterator can be used directly in a <code>for</code> loop or list comprehension."
   ]
  },
  {
   "cell_type": "code",
   "execution_count": 19,
   "metadata": {},
   "outputs": [
    {
     "data": {
      "text/plain": [
       "<filter at 0x1f4bfa2ecc8>"
      ]
     },
     "execution_count": 19,
     "metadata": {},
     "output_type": "execute_result"
    }
   ],
   "source": [
    "filter(lambda x: x%2 == 0, range(10))"
   ]
  },
  {
   "cell_type": "code",
   "execution_count": 20,
   "metadata": {},
   "outputs": [
    {
     "data": {
      "text/plain": [
       "[0, 2, 4, 6, 8]"
      ]
     },
     "execution_count": 20,
     "metadata": {},
     "output_type": "execute_result"
    }
   ],
   "source": [
    "result = filter(lambda x: x%2 == 0, range(10))\n",
    "[*result]"
   ]
  },
  {
   "cell_type": "code",
   "execution_count": 21,
   "metadata": {},
   "outputs": [
    {
     "data": {
      "text/plain": [
       "[True, False, True, False, True, False, True, False, True, False]"
      ]
     },
     "execution_count": 21,
     "metadata": {},
     "output_type": "execute_result"
    }
   ],
   "source": [
    "result_explain = map(lambda x: x%2 == 0, range(10))\n",
    "[*result_explain]"
   ]
  },
  {
   "cell_type": "code",
   "execution_count": 22,
   "metadata": {},
   "outputs": [
    {
     "data": {
      "text/plain": [
       "[0.7644996747844797,\n",
       " 0.5714416845048073,\n",
       " 0.9750764730903971,\n",
       " 0.9604922520250414,\n",
       " 0.970643030586921,\n",
       " 0.7797462077192273,\n",
       " 0.9207253619139918,\n",
       " 0.5894497754774473]"
      ]
     },
     "execution_count": 22,
     "metadata": {},
     "output_type": "execute_result"
    }
   ],
   "source": [
    "import random\n",
    "\n",
    "def big(x):\n",
    "    return x >= 0.5\n",
    "\n",
    "data = [random.random() for _ in range(20)]\n",
    "result = filter(big, data)\n",
    "[*result]"
   ]
  },
  {
   "cell_type": "markdown",
   "metadata": {},
   "source": [
    "## Applications of <code>zip()</code>,  <code>map()</code>,  and <code>filter()</code> Functions  <a name='apps_zip_map_filter' />  \n",
    "Back to <a href = '#navigation'>Navigation</a>\n",
    "\n",
    "We will use these functions throughout this notebook where they are useful.\n",
    "\n",
    "For now, here are some exercises for absorbing how these functions work."
   ]
  },
  {
   "cell_type": "markdown",
   "metadata": {},
   "source": [
    "### <code>zip()</code> Exercise\n",
    "\n",
    "Suppose you wanted to plot the data below with <code>matplotlib</code>.  Apply the <code>zip()</code> function to reorganize the data into two series, one for the <code>x</code>-axis and one for the <code>y</code>-axis.  you may need to use the <code>*</code> operator as well."
   ]
  },
  {
   "cell_type": "code",
   "execution_count": null,
   "metadata": {},
   "outputs": [],
   "source": [
    "data = [[0,0], [1,2], [2,4], [3,6]]\n"
   ]
  },
  {
   "cell_type": "markdown",
   "metadata": {},
   "source": [
    "Using the <code>*</code> operator and <code>zip()</code> for reorganizing data series."
   ]
  },
  {
   "cell_type": "markdown",
   "metadata": {},
   "source": [
    "Function repreated for convenience."
   ]
  },
  {
   "cell_type": "code",
   "execution_count": 32,
   "metadata": {},
   "outputs": [],
   "source": [
    "import matplotlib.pyplot as plt\n",
    "    \n",
    "def ssc_2d_map(convert, data):\n",
    "    for i in range(len(data)):\n",
    "        data[i] = data[i].strip().split(',')\n",
    "        for j, mk_type in convert.items():\n",
    "            data[i][j] = mk_type(data[i][j])\n",
    "    return data"
   ]
  },
  {
   "cell_type": "code",
   "execution_count": 33,
   "metadata": {},
   "outputs": [
    {
     "data": {
      "image/png": "[encoded data removed]",
      "text/plain": [
       "<Figure size 640x480 with 1 Axes>"
      ]
     },
     "metadata": {},
     "output_type": "display_data"
    }
   ],
   "source": [
    "with open('files/NorfolkWeather1999.csv','r') as f:\n",
    "    nw1999 = f.readlines()\n",
    "\n",
    "for i in range(len(nw1999)):\n",
    "    nw1999[i] = nw1999[i].strip()\n",
    "    nw1999[i] = nw1999[i].split(',')\n",
    "    nw1999[i][0] = int(nw1999[i][0])\n",
    "    nw1999[i][1] = float(nw1999[i][1])\n",
    "\n",
    "''' Create x and y series data '''\n",
    "x, y = zip(*nw1999)\n",
    "plt.plot(x, y, label = '1999')\n",
    "plt.show()"
   ]
  },
  {
   "cell_type": "code",
   "execution_count": 34,
   "metadata": {},
   "outputs": [
    {
     "data": {
      "image/png": "[encoded data removed]",
      "text/plain": [
       "<Figure size 640x480 with 1 Axes>"
      ]
     },
     "metadata": {},
     "output_type": "display_data"
    }
   ],
   "source": [
    "with open('files/NorfolkWeather1999.csv','r') as f:\n",
    "    nw1999 = f.readlines()\n",
    "convert_map = {0:int, 1:float}\n",
    "nw1999 = ssc_2d_map(convert_map, nw1999)\n",
    "\n",
    "''' Create x and y series data '''\n",
    "x, y1999 = zip(*nw1999)\n",
    "    \n",
    "plt.plot(x, y1999, label = '1999')\n",
    "plt.show()"
   ]
  },
  {
   "cell_type": "code",
   "execution_count": 35,
   "metadata": {},
   "outputs": [
    {
     "data": {
      "image/png": "[encoded data removed]",
      "text/plain": [
       "<Figure size 640x480 with 1 Axes>"
      ]
     },
     "metadata": {},
     "output_type": "display_data"
    }
   ],
   "source": [
    "with open('files/NorfolkWeather1999.csv','r') as f:\n",
    "    nw1999 = f.readlines()\n",
    "convert_map = {0:int, 1:float}\n",
    "nw1999 = ssc_2d_map(convert_map, nw1999)\n",
    "\n",
    "plt.plot(*zip(*nw1999), label = '1999')\n",
    "plt.show()"
   ]
  },
  {
   "cell_type": "markdown",
   "metadata": {},
   "source": [
    "### <code>map()</code> Exercise\n",
    "\n",
    "Write a function to return the strings <code>odd</code> or <code>even</code> depending on the value of an integer passed to it.  Then, use the <code>map()</code> function to apply that function to the list names <code>values</code>."
   ]
  },
  {
   "cell_type": "code",
   "execution_count": null,
   "metadata": {},
   "outputs": [],
   "source": [
    "values = [0, 2, 4, 6, 8, 1, 3, 5, 7, 9]\n",
    "\n"
   ]
  },
  {
   "cell_type": "markdown",
   "metadata": {},
   "source": [
    "### <code>filter()</code> Exercise\n",
    "\n",
    "Use the <code>filter()</code> function to filter out the elements from the list <code>values</code> that are less than 5."
   ]
  },
  {
   "cell_type": "code",
   "execution_count": null,
   "metadata": {},
   "outputs": [],
   "source": [
    "values = [0, 2, 4, 6, 8, 1, 3, 5, 7, 9]"
   ]
  },
  {
   "cell_type": "code",
   "execution_count": null,
   "metadata": {},
   "outputs": [],
   "source": []
  },
  {
   "cell_type": "code",
   "execution_count": null,
   "metadata": {},
   "outputs": [],
   "source": []
  },
  {
   "cell_type": "markdown",
   "metadata": {},
   "source": [
    "Transpose the list of lists <code>lol</code> using the <code>zip</code> function."
   ]
  },
  {
   "cell_type": "code",
   "execution_count": null,
   "metadata": {},
   "outputs": [],
   "source": [
    "import random\n",
    "lol= [[random.randint(0,9) for _ in range(3)]  for  _ in range(5)]\n",
    "\n"
   ]
  },
  {
   "cell_type": "markdown",
   "metadata": {},
   "source": [
    "# Passing Arguments to Functions by Reference or Value<a name = 'RefVal' />\n",
    "Back to <a href = '#navigation'>Navigation</a>\n",
    "\n",
    "One of Python's strengths is its simplicity, which makes Python easier for a beginner coder to grasp.  A downside of this strength is that Python hides some of the complexity inherent in computer operations, which limits a more advanced programmer the capability of writing better code (think speed and memory usage).\n",
    "\n",
    "One mechanism that Python hides is the manner that arguments are passed to functions.  In some cases, copies of the variable values are sent to a function (passing by value) while, in other circumstances the memory address of the variable is sent to the function (passing by reference or pointer).  Some programming languages (e.g., C++) require the programmer to specify how an argument is sent.  In Python, that decision is set by default depending on the variable type: some types are passed by value and others by reference."
   ]
  },
  {
   "cell_type": "markdown",
   "metadata": {},
   "source": [
    "## Passing by Value\n",
    "\n",
    "When a variable is passed by value, just the value is sent to the function and it is assigned to the variable specified in the function.  For example, the code below sends the value of the variable <code>x</code> to the function and assigns it to the variable <code>y</code> within the function."
   ]
  },
  {
   "cell_type": "code",
   "execution_count": 6,
   "metadata": {},
   "outputs": [
    {
     "name": "stdout",
     "output_type": "stream",
     "text": [
      "3 9\n"
     ]
    }
   ],
   "source": [
    "def f(y):\n",
    "    y = y**2\n",
    "    return(y)\n",
    "\n",
    "x = 3\n",
    "print(x, f(x))"
   ]
  },
  {
   "cell_type": "markdown",
   "metadata": {},
   "source": [
    "In the example above, as illustrated in the <code>print()</code> statement the variable <code>y</code> within the function is independent of the variable <code>x</code>, that is, the value of the variable <code>x</code> is unchanged by the function."
   ]
  },
  {
   "cell_type": "markdown",
   "metadata": {},
   "source": [
    "When variables of more complex data types are sent to functions, a pointer to their memory address is passed and, as a consequence, if the function manipulates the passed argument/variable, then its original value is changed as well. This is demonstrated below for a variale of the <code>list</code> type that is passed to a function."
   ]
  },
  {
   "cell_type": "code",
   "execution_count": 10,
   "metadata": {},
   "outputs": [
    {
     "name": "stdout",
     "output_type": "stream",
     "text": [
      "[9, 4] [9, 4]\n"
     ]
    }
   ],
   "source": [
    "def g(y):\n",
    "    y[0] = y[0]**2\n",
    "    return y\n",
    "\n",
    "x = [3,4]\n",
    "print(x, g(x))"
   ]
  },
  {
   "cell_type": "markdown",
   "metadata": {},
   "source": [
    "An advantage of passing a variable by reference is that the variable need not be passed back to the \"calling\" code.  The code can be faster because the entirety of the data represented by the argument need not be passed to the function and then back again to the calling program."
   ]
  },
  {
   "cell_type": "code",
   "execution_count": 11,
   "metadata": {},
   "outputs": [
    {
     "name": "stdout",
     "output_type": "stream",
     "text": [
      "[9, 4]\n"
     ]
    }
   ],
   "source": [
    "def h(y):\n",
    "    y[0] = y[0]**2\n",
    "\n",
    "x = [3,4]\n",
    "h(x)\n",
    "print(x)"
   ]
  },
  {
   "cell_type": "code",
   "execution_count": 12,
   "metadata": {},
   "outputs": [
    {
     "name": "stdout",
     "output_type": "stream",
     "text": [
      "{'a': 99, 'b': 1}\n"
     ]
    }
   ],
   "source": [
    "def j(y):\n",
    "    y['a'] = 99\n",
    "    \n",
    "x = {'a':0, 'b':1}\n",
    "j(x)\n",
    "print(x)"
   ]
  },
  {
   "cell_type": "code",
   "execution_count": 16,
   "metadata": {},
   "outputs": [
    {
     "name": "stdout",
     "output_type": "stream",
     "text": [
      "{0, 1, 2}\n"
     ]
    }
   ],
   "source": [
    "def k(y):\n",
    "    y.add(2)\n",
    "    \n",
    "x = {0, 1}\n",
    "k(x)\n",
    "print(x)"
   ]
  },
  {
   "cell_type": "code",
   "execution_count": 14,
   "metadata": {},
   "outputs": [
    {
     "name": "stdout",
     "output_type": "stream",
     "text": [
      "[99  1]\n"
     ]
    }
   ],
   "source": [
    "import numpy as np\n",
    "\n",
    "def m(y):\n",
    "    y[0] = 99\n",
    "    \n",
    "x = np.array([0,1])\n",
    "m(x)\n",
    "print(x)"
   ]
  },
  {
   "cell_type": "markdown",
   "metadata": {},
   "source": [
    "Try this with dictionaries passed to a function."
   ]
  },
  {
   "cell_type": "code",
   "execution_count": null,
   "metadata": {},
   "outputs": [],
   "source": [
    "def add2dict(d):\n",
    "    for k,v in d.items():\n",
    "        d[k] = v+1\n",
    "        \n",
    "my_dct = {'zero':0, 'one':1, 'two':2}\n",
    "add2dict(my_dct)\n",
    "print(my_dct)"
   ]
  },
  {
   "cell_type": "code",
   "execution_count": 17,
   "metadata": {},
   "outputs": [
    {
     "name": "stdout",
     "output_type": "stream",
     "text": [
      "0    99\n",
      "1     1\n",
      "dtype: int64\n"
     ]
    }
   ],
   "source": [
    "import pandas as pd\n",
    "\n",
    "def n(y):\n",
    "    y.iloc[0] = 99\n",
    "    \n",
    "x = pd.Series([0,1])\n",
    "#print(x)\n",
    "n(x)\n",
    "print(x)"
   ]
  },
  {
   "cell_type": "markdown",
   "metadata": {},
   "source": [
    "# Aliasing <a name = 'aliasing' />\n",
    "Back to <a href = '#navigation'>Navigation</a>\n",
    "\n",
    "Aliasing the the act of referencing the same memory location/variable using multiple names.  It happens most often unintentionally and can cause a frustrating debugging adventure.\n",
    "\n",
    "with <font face='courier'>int</font> and <font face='courier'>float</font> data types there is no chance of aliasing.  Everything works intuitively.  When we change the value of <font face='courier'>p</font> we change only its value and not the value of <font face='courier'>q</font>.  The converse is true when we change the value of <font face='courier'>q</font>."
   ]
  },
  {
   "cell_type": "code",
   "execution_count": null,
   "metadata": {},
   "outputs": [],
   "source": [
    "p = 1\n",
    "q = p\n",
    "p = 2\n",
    "print('p =',p,'     q =',q)"
   ]
  },
  {
   "cell_type": "markdown",
   "metadata": {},
   "source": [
    "When we assign a list to another list, however, both list names point to the same data, which is to say that they both pint to the same place in memory."
   ]
  },
  {
   "cell_type": "code",
   "execution_count": null,
   "metadata": {},
   "outputs": [],
   "source": [
    "x = [1,2]\n",
    "y = x\n",
    "y[0] = 99\n",
    "print('x =',x,'     y =',y)"
   ]
  },
  {
   "cell_type": "markdown",
   "metadata": {},
   "source": [
    "We often need to create a list, or list of lists, to receive our computations, such as when we are computing the tranpose of a lsit of lists.  Using the apprach above would create aliasing and we would either end up with a matrix with the wrong values, or we would corrupt the original matrix, or both.\n",
    "\n",
    "One safe way to create a list of lists of the same dimension as an existing list of lists, use the approach in the cell below."
   ]
  },
  {
   "cell_type": "code",
   "execution_count": null,
   "metadata": {},
   "outputs": [],
   "source": [
    "X = [[0,1,2],[3,4,5],[6,7,8]]  # original list of lists\n",
    "Y = [[0 for i in range(len(X[0]))] for j in range(len(X))] # list of lists to receive the transpose\n",
    "print('Y  =',Y,'\\n')\n",
    "Y[0][0] = 99\n",
    "print('Y =',Y,'\\n')\n",
    "print('X =',X,'\\n')"
   ]
  },
  {
   "cell_type": "markdown",
   "metadata": {},
   "source": [
    "You may also import the <font face='courier'>copy</font> package and use the <font face='courier'>copy.deepcopy()</font> method (see [<font face='courier'>list.copy() function</font>](https://docs.python.org/3.6/library/copy.html)) but I prefer the approach above."
   ]
  },
  {
   "cell_type": "markdown",
   "metadata": {},
   "source": [
    "I have had issues with aliasing with the methods below, so <font color='red'><b>DO NOT USE THE METHODS BELOW</b></font>."
   ]
  },
  {
   "cell_type": "code",
   "execution_count": null,
   "metadata": {},
   "outputs": [],
   "source": [
    "X = [[0,1,2],[3,4,5],[6,7,8]]  # original list of lists\n",
    "Y = [[0] * len(X[0])]  * len(X)  # list of lists to receive the transpose\n",
    "print('Y  =',Y,'\\n')\n",
    "Y[0][0] = 99\n",
    "print('Y =',Y,'\\n')\n",
    "print('X =',X,'\\n')"
   ]
  },
  {
   "cell_type": "code",
   "execution_count": null,
   "metadata": {},
   "outputs": [],
   "source": [
    "X = [[0,1,2],[3,4,5],[6,7,8]]  # original list of lists\n",
    "Y = X.copy()  # list of lists to receive the transpose\n",
    "print('Y  =',Y,'\\n')\n",
    "Y[0][0] = 99\n",
    "print('Y =',Y,'\\n')\n",
    "print('X =',X,'\\n')"
   ]
  },
  {
   "cell_type": "markdown",
   "metadata": {},
   "source": [
    "These approaches successfully create copies of list while avoiding aliasing for 1-dimensional matrices, but they create aliasing with multidimensional matrices."
   ]
  },
  {
   "cell_type": "code",
   "execution_count": null,
   "metadata": {},
   "outputs": [],
   "source": [
    "X = [[0,1,2],[3,4,5],[6,7,8]]  # original list of lists\n",
    "Y = X[:]  # list of lists to receive the transpose\n",
    "print('Y  =',Y,'\\n')\n",
    "Y[0][0] = 99\n",
    "print('Y =',Y,'\\n')\n",
    "print('X =',X,'\\n')"
   ]
  },
  {
   "cell_type": "code",
   "execution_count": null,
   "metadata": {},
   "outputs": [],
   "source": [
    "X = [[0,1,2],[3,4,5],[6,7,8]]  # original list of lists\n",
    "Y = list(X) # list of lists to receive the transpose\n",
    "print('Y  =',Y,'\\n')\n",
    "Y[0][0] = 99\n",
    "print('Y =',Y,'\\n')\n",
    "print('X =',X,'\\n')"
   ]
  },
  {
   "cell_type": "code",
   "execution_count": null,
   "metadata": {},
   "outputs": [],
   "source": []
  }
 ],
 "metadata": {
  "kernelspec": {
   "display_name": "Python 3 (ipykernel)",
   "language": "python",
   "name": "python3"
  },
  "language_info": {
   "codemirror_mode": {
    "name": "ipython",
    "version": 3
   },
   "file_extension": ".py",
   "mimetype": "text/x-python",
   "name": "python",
   "nbconvert_exporter": "python",
   "pygments_lexer": "ipython3",
   "version": "3.7.13"
  }
 },
 "nbformat": 4,
 "nbformat_minor": 2
}
